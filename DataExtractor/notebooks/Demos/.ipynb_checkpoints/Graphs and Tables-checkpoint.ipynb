{
 "cells": [
  {
   "cell_type": "markdown",
   "metadata": {},
   "source": [
    "## Table / Graph Extraction\n",
    "\n",
    "This notebook is used to extract tables and graphs from literature and interpret them. For example, we can interpret chemical structure information to obtain SMILES.\n",
    "\n",
    "Tabulated data is the easiest to extract from literature while classifying graphs can be tricky. We can try to classify spectrum, uvvis, JV curve (for solar cells), tempearature change curve, performance curve, and etc.\n"
   ]
  },
  {
   "cell_type": "code",
   "execution_count": 4,
   "metadata": {},
   "outputs": [],
   "source": [
    "import re\n",
    "import pandas as pd\n",
    "import urllib\n",
    "import time\n",
    "import feedparser\n",
    "\n",
    "import chemdataextractor as cde\n",
    "from chemdataextractor import Document\n",
    "import chemdataextractor.model as model\n",
    "from chemdataextractor.model import Compound, UvvisSpectrum, UvvisPeak, BaseModel, StringType, ListType, ModelType\n",
    "from chemdataextractor.parse.common import hyphen\n",
    "from chemdataextractor.parse.base import BaseParser\n",
    "from chemdataextractor.utils import first\n",
    "from chemdataextractor.parse.actions import strip_stop\n",
    "from chemdataextractor.parse.elements import W, I, T, R, Optional, ZeroOrMore, OneOrMore\n",
    "from chemdataextractor.parse.cem import chemical_name\n",
    "from chemdataextractor.doc import Paragraph, Sentence"
   ]
  },
  {
   "cell_type": "code",
   "execution_count": 6,
   "metadata": {},
   "outputs": [],
   "source": [
    "Sentence.parsers.append(FfParser())\n",
    "Paragraph.parsers.append(FfParser())"
   ]
  },
  {
   "cell_type": "code",
   "execution_count": 8,
   "metadata": {},
   "outputs": [
    {
     "data": {
      "text/plain": [
       "[{'ff_pattern': [{'value': '50', 'units': '%'}]}]"
      ]
     },
     "execution_count": 8,
     "metadata": {},
     "output_type": "execute_result"
    }
   ],
   "source": [
    "# doc = Document(cde.doc.text.Paragraph(u'A systematic study on the effects of heteroarenes on the solid state structure and optoelectronic properties of isoindigo analogues, namely, PBDT-IIG and PBDT-TIIG, used in solution-processed organic filed effect transistors (OFETs) and organic photovoltaics (OPVs) is reported. We discover that the optical absorption, frontier orbitals, backbone coplanarity, molecular orientation, solubility, ﬁlm morphology, charge carrier mobility, and solar cell performance are critically inﬂuenced by the heteroarenes in the acceptor subunits. PBDT-IIG exhibits good p-type OFET performance with mobility up to 1.03 × 10−1 e = 2.81 × 10−4 cm2 V−1 cm2 V−1 s−1, whereas PBDT-TIIG displays ambipolar mobilities of μ s−1. PBDT-IIG and PBDT-TIIG blended with [6,6]-phenyl-C71-butyric acid methyl ester (PC71BM) yield promising power conversion eﬃciencies (PCEs) of 5.86% and 2.55%, respectively. The excellent mobility of PBDT-IIG can be attributable to the growing fraction of edge-on packing by the interfacial surface treatment. Although PBDT-TIIG could construct a long-range face- on packing alignment to meliorate its photocurrent in OPV applications, the low open-circuit voltage caused by its high-lying HOMO energy level and greater recombination demonstrates the trade-oﬀ between light absorption and solar cell performance. Nevertheless, PBDT-TIIG with a PCE of 2.55% is the highest reported PCE to date for the TIIG-based systems.'))\n",
    "doc = Document(cde.doc.text.Paragraph(u'ff or called the Fill Factor of 50%'))\n",
    "doc.records.serialize()"
   ]
  },
  {
   "cell_type": "code",
   "execution_count": null,
   "metadata": {},
   "outputs": [],
   "source": []
  },
  {
   "cell_type": "code",
   "execution_count": null,
   "metadata": {},
   "outputs": [],
   "source": []
  },
  {
   "cell_type": "code",
   "execution_count": null,
   "metadata": {},
   "outputs": [],
   "source": []
  }
 ],
 "metadata": {
  "kernelspec": {
   "display_name": "Python 3",
   "language": "python",
   "name": "python3"
  },
  "language_info": {
   "codemirror_mode": {
    "name": "ipython",
    "version": 3
   },
   "file_extension": ".py",
   "mimetype": "text/x-python",
   "name": "python",
   "nbconvert_exporter": "python",
   "pygments_lexer": "ipython3",
   "version": "3.6.9"
  }
 },
 "nbformat": 4,
 "nbformat_minor": 2
}
