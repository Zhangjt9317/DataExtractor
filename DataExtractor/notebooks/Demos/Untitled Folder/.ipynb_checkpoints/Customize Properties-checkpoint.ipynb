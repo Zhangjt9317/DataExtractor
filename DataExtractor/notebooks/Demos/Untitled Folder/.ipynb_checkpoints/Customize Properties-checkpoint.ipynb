{
 "cells": [
  {
   "cell_type": "markdown",
   "metadata": {},
   "source": [
    "## Test on Properties\n",
    "\n",
    "This notebook focuses on customizing parsers that can be used to extract information\n",
    "\n",
    "In this case we are going to try to check for data patching and parsers at the same time. If the extracted properties misalign with compounds extracted, the project would be meaningless.\n",
    "\n",
    "\n",
    "10/15/2019 meeting \n",
    "\n",
    "Challenge:\n",
    "\n",
    "1. in parser, if a full name with a abbrev in () it will not recognize\n",
    "2. too messy data paragraphs --> cannot efficiently recognize "
   ]
  },
  {
   "cell_type": "code",
   "execution_count": 1,
   "metadata": {},
   "outputs": [],
   "source": [
    "import logging\n",
    "import re\n",
    "import pandas as pd\n",
    "import urllib\n",
    "import time\n",
    "\n",
    "import chemdataextractor as cde\n",
    "from chemdataextractor import Document\n",
    "import chemdataextractor.model as model\n",
    "from chemdataextractor.model import Compound, UvvisSpectrum, UvvisPeak, BaseModel, StringType, ListType, ModelType\n",
    "from chemdataextractor.parse.common import hyphen\n",
    "from chemdataextractor.parse.base import BaseParser\n",
    "from chemdataextractor.utils import first\n",
    "from chemdataextractor.parse.actions import strip_stop\n",
    "from chemdataextractor.parse.elements import W, I, T, R, Optional, ZeroOrMore, OneOrMore\n",
    "from chemdataextractor.parse.cem import chemical_name\n",
    "from chemdataextractor.doc import Paragraph, Sentence, Caption, Figure,Table, Heading\n",
    "from chemdataextractor.doc.table import Table, Cell"
   ]
  },
  {
   "cell_type": "code",
   "execution_count": 2,
   "metadata": {},
   "outputs": [],
   "source": [
    "from chemdataextractor.text.chem import SOLVENT_RE, INCHI_RE, SMILES_RE"
   ]
  },
  {
   "cell_type": "code",
   "execution_count": 3,
   "metadata": {},
   "outputs": [
    {
     "data": {
      "text/plain": [
       "['CH2Cl2']"
      ]
     },
     "execution_count": 3,
     "metadata": {},
     "output_type": "execute_result"
    }
   ],
   "source": [
    "SOLVENT_RE.findall(u'λmax(CH2Cl2)/nm')"
   ]
  },
  {
   "cell_type": "code",
   "execution_count": 6,
   "metadata": {},
   "outputs": [
    {
     "data": {
      "text/plain": [
       "[]"
      ]
     },
     "execution_count": 6,
     "metadata": {},
     "output_type": "execute_result"
    }
   ],
   "source": [
    "SOLVENT_RE.findall(u\"dissolved in metahne with DIO as the additive\")"
   ]
  },
  {
   "cell_type": "code",
   "execution_count": 4,
   "metadata": {},
   "outputs": [],
   "source": [
    "# open and read files\n",
    "f = open('../test_articles/paper0.pdf', 'rb')\n",
    "doc = Document.from_file(f)\n",
    "abstract = [11]\n",
    "\n",
    "f1 = open('../test_articles/paper1.pdf', 'rb')\n",
    "doc1 = Document.from_file(f1)\n",
    "abstract1 = [7,8]\n",
    "\n",
    "f2 = open('../test_articles/paper2.pdf', 'rb')\n",
    "doc2 = Document.from_file(f2)\n",
    "abstract2 = [7,8]\n",
    "\n",
    "f3 = open('../test_articles/paper3.pdf', 'rb')\n",
    "doc3 = Document.from_file(f3)\n",
    "abstract3 = [10]\n",
    "\n",
    "f4 = open('../test_articles/paper4.pdf', 'rb')\n",
    "doc4 = Document.from_file(f4)\n",
    "abstract4 = [12]\n",
    "\n",
    "f5 = open('../test_articles/paper5.pdf', 'rb')\n",
    "doc5 = Document.from_file(f5)\n",
    "abstract5 = [3,4]\n",
    "\n",
    "f6 = open('../test_articles/paper6.pdf', 'rb')\n",
    "doc6 = Document.from_file(f6)\n",
    "abstract6 = [5,6,7,8]\n",
    "\n",
    "f7 = open('../test_articles/paper7.pdf', 'rb')\n",
    "doc7 = Document.from_file(f7)\n",
    "abstract7 = [11]"
   ]
  },
  {
   "cell_type": "code",
   "execution_count": 5,
   "metadata": {},
   "outputs": [
    {
     "data": {
      "text/plain": [
       "[{'names': ['Isoindigo-']},\n",
       " {'names': ['bislactam']},\n",
       " {'names': ['hydrogens']},\n",
       " {'names': ['phenyl']},\n",
       " {'names': ['oxygens']},\n",
       " {'names': ['oxindoles']},\n",
       " {'names': ['triphenylamine']},\n",
       " {'names': ['phenyl- carbazole']},\n",
       " {'names': ['D − A']},\n",
       " {'names': ['4,8-bis(5-(2-ethylhexyl)- thiophen-2-yl)benzo[1,2-b:4,5-b′]dithiophene ( 2D-BDT )']},\n",
       " {'names': ['2D-BDT-containing D − π − A']},\n",
       " {'names': ['Mn [ kg mol−1 ]']},\n",
       " {'names': ['411']},\n",
       " {'names': ['34']},\n",
       " {'names': ['76']},\n",
       " {'names': ['long, branched 2- octyldodecyl alkyl']},\n",
       " {'names': ['tris(dibenzylideneacetone)dipalladium']},\n",
       " {'names': ['Mn']},\n",
       " {'names': ['benzene']},\n",
       " {'names': ['ferrocene']},\n",
       " {'names': ['−[Eonset ferrocene + 4.8 ] V']},\n",
       " {'names': ['methyl substituted alkyl chains']},\n",
       " {'names': ['methyl']},\n",
       " {'names': ['I ds']},\n",
       " {'names': ['WC o L 2']},\n",
       " {'names': ['V t']},\n",
       " {'names': ['PBDT-TIIG-']},\n",
       " {'names': ['P3HT']},\n",
       " {'names': ['PCBM']},\n",
       " {'names': ['μ e']},\n",
       " {'names': ['f [V]']},\n",
       " {'names': ['alkyl']},\n",
       " {'names': ['diamonds']},\n",
       " {'names': ['polymer PBDT-']},\n",
       " {'names': ['Tri(o-tolyl)phosphin']},\n",
       " {'names': ['tris(dibenzylideneacetone)- dipalladium(0), trimethyl (thiophen-2-yl)stannane']},\n",
       " {'names': ['bromothio- phene']},\n",
       " {'names': ['5,5′-(4,8-Bis(5-(2-ethylhexyl)thiophen-2-yl)benzo[1,2- b : 4,5-b′]dithiophene-2,6-diyl)bis(thiophene-5,2-diyl))bis- ( trimethylstannane']},\n",
       " {'names': ['2D-BDT-ditin']},\n",
       " {'names': ['(E)-6,6′-dibromo-1,1′-bis(2-oc- tyldodecyl)-[3,3′-biindolinylidene]-2,2′ -dione']},\n",
       " {'names': ['(E)-2,2′-dibromo- 4,4′-bis(2-octyldodecyl)-[6,6′-bithieno[3,2-b]pyrrolylidene]- 5,5′(4H,4′H)-dione']},\n",
       " {'names': ['tris(dibenzylideneacetone)dipalladium(0)']},\n",
       " {'names': ['trimethyl(thiophen-2- yl)stannane']},\n",
       " {'names': ['bromothiophene']},\n",
       " {'names': ['acetone']},\n",
       " {'names': ['1H']},\n",
       " {'names': ['THF']},\n",
       " {'names': ['plural heteroarenes']},\n",
       " {'names': ['Mar165']},\n",
       " {'names': ['silver behenate']},\n",
       " {'names': ['platinum']},\n",
       " {'names': ['KCl']},\n",
       " {'names': ['tetrabutylammonium perchlorate', 'TBAP']},\n",
       " {'names': ['JEOL']},\n",
       " {'names': ['9,9-bis(3′-(N,N-dimethylamino)propyl)-2,7-ﬂuorene']},\n",
       " {'names': ['zinc acetate dehydrate ·2H2O']},\n",
       " {'names': ['Zn(CH3COO)2 ethoxyethanol']},\n",
       " {'names': ['O2']},\n",
       " {'names': ['H2O']},\n",
       " {'names': ['silver']},\n",
       " {'names': ['103-2113-M-008-010- MY2']},\n",
       " {'names': ['Silaindacenodithiophene']},\n",
       " {'names': ['PBDTTPD-PCBM']},\n",
       " {'names': ['thienyl-quinoxaline']},\n",
       " {'names': ['Thiophene-Diketopyrrolo- pyrrole']},\n",
       " {'names': ['Quinoxaline']},\n",
       " {'names': ['Benzothiadiazole']},\n",
       " {'names': ['Alkylphenyl']},\n",
       " {'names': ['Naphthodithiophene − Naphthobisthiadiazole']},\n",
       " {'names': ['Perylene diimides']},\n",
       " {'names': ['silole']},\n",
       " {'names': ['heptacylic arene']},\n",
       " {'names': ['naphthobisoxadiazole']},\n",
       " {'names': ['Noh']},\n",
       " {'names': ['Thienoisoindigo-Naphthalene']},\n",
       " {'names': ['thienoisoindigo-']},\n",
       " {'names': ['benzodithiophene-isoindigo']},\n",
       " {'names': ['Benzodithio- phene-Isoindigo']},\n",
       " {'names': ['Bithiophene']},\n",
       " {'names': ['bis(dialkylthienyl)- benzodithiophene']},\n",
       " {'names': ['Balan']},\n",
       " {'names': ['Seki']},\n",
       " {'names': ['Ho']},\n",
       " {'names': ['N']},\n",
       " {'names': ['Naphthalene Diimide-Selenophene']},\n",
       " {'names': ['Huber']},\n",
       " {'names': ['Tetraazabenzodifluoranthene Diimide']},\n",
       " {'names': ['O']},\n",
       " {'names': ['Richter']},\n",
       " {'names': ['Diketo Pyrrolo- Pyrrole']},\n",
       " {'names': ['PBDTTPD']},\n",
       " {'names': ['Organic-']},\n",
       " {'names': ['Octadecyltri- chlorosilane']},\n",
       " {'names': ['diketopyrrolopyrrole', 'DPP']},\n",
       " {'names': ['thiophenes']},\n",
       " {'names': ['tri(o-tolyl)phosphine']},\n",
       " {'names': ['hexane']},\n",
       " {'names': ['chloroform']},\n",
       " {'names': ['polystyrene']},\n",
       " {'names': ['acetonitrile']},\n",
       " {'names': ['quinoidal']},\n",
       " {'names': ['silicon', 'Silicon']},\n",
       " {'names': ['Co']},\n",
       " {'names': ['PBDT-IIG:PC71BM']},\n",
       " {'names': ['1 : 4 PBDT-TIIG:PC71BM']},\n",
       " {'names': ['1 : 2 PBDT-']},\n",
       " {'names': ['nitrogen']},\n",
       " {'names': ['1 : 4 PBDT-TIIG:PC71BM blend']},\n",
       " {'names': ['AgCl']},\n",
       " {'names': ['Si'], 'labels': ['100']},\n",
       " {'names': ['chlorobenzene']},\n",
       " {'names': ['N2']},\n",
       " {'names': ['MoO3']},\n",
       " {'names': ['monoethanolamine', 'MEA']},\n",
       " {'names': ['1,8-diiodooctane', 'DIO']},\n",
       " {'names': ['Molybdenum oxide', 'molybdenum oxide']},\n",
       " {'names': ['Anthopoulos']},\n",
       " {'names': ['Fluorine']},\n",
       " {'names': ['F']},\n",
       " {'names': ['H']},\n",
       " {'names': ['SiO2']},\n",
       " {'names': ['heteroarenes']},\n",
       " {'names': ['thiophene']},\n",
       " {'names': ['fullerene', 'Fullerene']},\n",
       " {'names': ['ZnO']},\n",
       " {'names': ['DCB', 'o-dichlorobenzene']},\n",
       " {'names': ['PFN',\n",
       "   'dimethylamino)propyl)-2,7-fuorene ) ]',\n",
       "   'poly[(9,9-dioctyl-2,7-fuorene)-alt-(9,9-bis(3′-(N,N- dimethylamino)propyl)-2,7-fuorene ) ]']},\n",
       " {'names': ['octadecyltrichlorosilane', 'ODTS']},\n",
       " {'names': ['methanol']},\n",
       " {'names': ['Ag']},\n",
       " {'names': ['ITO']},\n",
       " {'names': ['Benzodithiophene', 'benzodithiophene', 'BDT']},\n",
       " {'names': ['Li']},\n",
       " {'names': ['PBDT -', 'PBDT-']},\n",
       " {'names': ['PC71BM',\n",
       "   '[6,6]-phenyl-C71-butyric acid methyl ester',\n",
       "   '[6,6]-phenyl-C71- butyric acid methyl ester',\n",
       "   '[6,6]-Phenyl-C71-butyric acid methyl ester']},\n",
       " {'names': ['IIG', 'isoindigo']},\n",
       " {'names': ['PBDT']}]"
      ]
     },
     "execution_count": 5,
     "metadata": {},
     "output_type": "execute_result"
    }
   ],
   "source": [
    "# split the paragraph into elements\n",
    "paras = doc.elements\n",
    "cems = doc.cems\n",
    "doc.records.serialize()"
   ]
  },
  {
   "cell_type": "markdown",
   "metadata": {},
   "source": [
    "PCE and FF works fine, as well as other quantities end in %. For other units, further customization required\n",
    "\n",
    "Most of properties from literature have the same layout, so if one example works, the rest of them should work too.\n",
    "\n",
    "Any unit with simple expression (1 component) is easy to extract. Otherwise a combination is needed."
   ]
  },
  {
   "cell_type": "code",
   "execution_count": 28,
   "metadata": {},
   "outputs": [],
   "source": [
    "class Jsc(BaseModel):\n",
    "    value = StringType()\n",
    "    units = StringType()\n",
    "\n",
    "Compound.jsc_pattern = ListType(ModelType(Jsc))\n",
    "\n",
    "abbrv_prefix = (I(u'jsc') | I(u'Jsc') ).hide()\n",
    "words_pref = (I(u'short') + I(u'circuit') + I(u'current') + I(u'density')).hide()\n",
    "hyphanated_pref = (I(u'short-circuit') + I(u'current') + I(u'density')).hide()\n",
    "\n",
    "prefix = abbrv_prefix | words_pref | hyphanated_pref\n",
    "\n",
    "common_text = R('(\\w+)?\\D(\\D+)+(\\w+)?').hide()\n",
    "units = (W(u'mA') + W(u'/') + W(u'cm') + W('2'))(u'units')\n",
    "value = R(u'\\d+(\\.\\d+)?')(u'value')\n",
    "\n",
    "jsc_first= (prefix + ZeroOrMore(common_text) + value + units)(u'jsc')\n",
    "jsc_second = (value + units + prefix)(u'jsc')\n",
    "\n",
    "jsc_pattern = jsc_first | jsc_second\n",
    "\n",
    "class JscParser(BaseParser):\n",
    "    root = jsc_pattern\n",
    "\n",
    "    def interpret(self, result, start, end):\n",
    "        compound = Compound(\n",
    "            jsc_pattern=[\n",
    "                Jsc(\n",
    "                    value=first(result.xpath('./value/text()')),\n",
    "                    units=first(result.xpath('./units/text()'))\n",
    "                )\n",
    "            ]\n",
    "        )\n",
    "        yield compound\n",
    "\n",
    "def parse_jsc(list_of_sentences):\n",
    "    \"\"\" \n",
    "    Takes a list of sentences and parses for quantified PCE\n",
    "    information and relationships to chemicals/chemical labels\n",
    "    \"\"\"\n",
    "\n",
    "    Sentence.parsers.append(JscParser())\n",
    "\n",
    "    cde_senteces = [Sentence(sent).records.serialize() for sent in list_of_sentences]\n",
    "    return cde_senteces"
   ]
  },
  {
   "cell_type": "code",
   "execution_count": 29,
   "metadata": {},
   "outputs": [],
   "source": [
    "class Pce(BaseModel):\n",
    "    value = StringType()\n",
    "    units = StringType()\n",
    "\n",
    "Compound.pce_pattern = ListType(ModelType(Pce))\n",
    "\n",
    "abbrv_prefix = (I(u'PCE') | I(u'PCEs') | I(u'pce')).hide()\n",
    "words_pref = (I(u'power') + I(u'conversion') + I(u'efficiency')).hide()\n",
    "hyphanated_pref = (I(u'power-conversion') + I(u'efficiency')).hide()\n",
    "prefix = abbrv_prefix | words_pref | hyphanated_pref\n",
    "\n",
    "common_text = R('(\\w+)?\\D(\\D+)+(\\w+)?').hide()\n",
    "units = (W(u'%') | I(u'percent'))(u'units')\n",
    "value = R(u'\\d+(\\.\\d+)?')(u'value')\n",
    "\n",
    "pce_first = (prefix + ZeroOrMore(common_text) + value + units)(u'pce')\n",
    "pce_second = (value + units + prefix)(u'pce')\n",
    "pce_pattern = pce_first | pce_second\n",
    "\n",
    "class PceParser(BaseParser):\n",
    "    root = pce_pattern\n",
    "\n",
    "    def interpret(self, result, start, end):\n",
    "        compound = Compound(\n",
    "            pce_pattern=[\n",
    "                Pce(\n",
    "                    value=first(result.xpath('./value/text()')),\n",
    "                    units=first(result.xpath('./units/text()'))\n",
    "                )\n",
    "            ]\n",
    "        )\n",
    "        yield compound\n",
    "\n",
    "\n",
    "def parse_pce(list_of_sentences):\n",
    "    \"\"\" \n",
    "    Takes a list of sentences and parses for quantified PCE\n",
    "    information and relationships to chemicals/chemical labels\n",
    "    \"\"\"\n",
    "\n",
    "    Sentence.parsers.append(PceParser())\n",
    "\n",
    "    cde_senteces = [Sentence(sent).records.serialize()\n",
    "                    for sent in list_of_sentences]\n",
    "    return cde_senteces\n"
   ]
  },
  {
   "cell_type": "code",
   "execution_count": 31,
   "metadata": {},
   "outputs": [],
   "source": [
    "class Eqe(BaseModel):\n",
    "    value = StringType()\n",
    "    units = StringType()\n",
    "\n",
    "Compound.eqe_pattern = ListType(ModelType(Eqe))\n",
    "\n",
    "abbrv_prefix = (I(u'EQE')).hide()\n",
    "words_pref = (I(u'external') + I(u'quantum') + I(u'efficiency')).hide()\n",
    "prefix = abbrv_prefix | words_pref\n",
    "\n",
    "common_text = R('(\\w+)?\\D(\\D+)+(\\w+)?').hide()\n",
    "units = (W(u'%') | I(u'percent'))(u'units')\n",
    "value = R(u'\\d+(\\.\\d+)?')(u'value')\n",
    "\n",
    "eqe_first = (prefix + ZeroOrMore(common_text) + value + units)(u'eqe')\n",
    "eqe_second = (value + units + prefix)(u'eqe')\n",
    "eqe_pattern = eqe_first | eqe_second\n",
    "\n",
    "class EqeParser(BaseParser):\n",
    "    root = eqe_pattern\n",
    "\n",
    "    def interpret(self, result, start, end):\n",
    "        compound = Compound(\n",
    "            eqe_pattern=[\n",
    "                Eqe(\n",
    "                    value=first(result.xpath('./value/text()')),\n",
    "                    units=first(result.xpath('./units/text()'))\n",
    "                )\n",
    "            ]\n",
    "        )\n",
    "        yield compound\n",
    "\n",
    "\n",
    "def parse_eqe(list_of_sentences):\n",
    "    \"\"\" \n",
    "    Takes a list of sentences and parses for quantified PCE\n",
    "    information and relationships to chemicals/chemical labels\n",
    "    \"\"\"\n",
    "\n",
    "    Sentence.parsers.append(EqeParser())\n",
    "\n",
    "    cde_senteces = [Sentence(sent).records.serialize()\n",
    "                    for sent in list_of_sentences]\n",
    "    return cde_senteces\n"
   ]
  },
  {
   "cell_type": "code",
   "execution_count": 33,
   "metadata": {},
   "outputs": [],
   "source": [
    "class Voc(BaseModel):\n",
    "    value = StringType()\n",
    "    units = StringType()\n",
    "\n",
    "Compound.voc_pattern = ListType(ModelType(Voc))\n",
    "\n",
    "abbrv_prefix = (I(u'VOC') | I(u'voc') | I(u'Voc') ).hide()\n",
    "words_pref = (I(u'open') + I(u'circuit') + I(u'voltage')).hide()\n",
    "hyphanated_pref =(I(u'open-circuit') + I(u'voltage')).hide()\n",
    "prefix = abbrv_prefix | words_pref | hyphanated_pref\n",
    "\n",
    "common_text = R('(\\w+)?\\D(\\D+)+(\\w+)?').hide()\n",
    "units = (W(u'V') | I(u'volts') | I(u'volt'))(u'units')\n",
    "value = R(u'\\d+(\\.\\d+)?')(u'value')\n",
    "\n",
    "voc_first= (prefix + ZeroOrMore(common_text) + value + units)(u'voc')\n",
    "voc_second = (value + units + prefix)(u'voc')\n",
    "\n",
    "voc_pattern = voc_first | voc_second\n",
    "\n",
    "class VocParser(BaseParser):\n",
    "    root = voc_pattern\n",
    "\n",
    "    def interpret(self, result, start, end):\n",
    "        compound = Compound(\n",
    "            voc_pattern=[\n",
    "                Voc(\n",
    "                    value=first(result.xpath('./value/text()')),\n",
    "                    units=first(result.xpath('./units/text()'))\n",
    "                )\n",
    "            ]\n",
    "        )\n",
    "        yield compound\n",
    "\n",
    "def parse_voc(list_of_sentences):\n",
    "    \"\"\" \n",
    "    Takes a list of sentences and parses for quantified PCE\n",
    "    information and relationships to chemicals/chemical labels\n",
    "    \"\"\"\n",
    "\n",
    "    Sentence.parsers.append(VocParser())\n",
    "\n",
    "    cde_senteces = [Sentence(sent).records.serialize() for sent in list_of_sentences]\n",
    "    return cde_senteces"
   ]
  },
  {
   "cell_type": "code",
   "execution_count": 39,
   "metadata": {},
   "outputs": [],
   "source": [
    "Sentence.parsers.append(JscParser())\n",
    "Paragraph.parsers.append(JscParser())\n",
    "\n",
    "Sentence.parsers.append(MwParser())\n",
    "Paragraph.parsers.append(MwParser())\n",
    "\n",
    "Sentence.parsers.append(PceParser())\n",
    "Paragraph.parsers.append(PceParser())\n",
    "\n",
    "Sentence.parsers.append(VocParser())\n",
    "Paragraph.parsers.append(VocParser())\n",
    "\n",
    "Sentence.parsers.append(EqeParser())\n",
    "Paragraph.parsers.append(EqeParser())\n",
    "\n",
    "Sentence.parsers.append(FfParser())\n",
    "Paragraph.parsers.append(FfParser())"
   ]
  },
  {
   "cell_type": "code",
   "execution_count": 80,
   "metadata": {},
   "outputs": [],
   "source": [
    "doc = Document(\n",
    "    Heading('5,10,15,20-Tetra(4-carboxyphenyl)porphyrin (3).'),\n",
    "    Paragraph('m.p. 90°C.'),\n",
    "    Paragraph('pce 15 %'),\n",
    "    Paragraph('fill factor (FF) of 20%'),\n",
    "    Paragraph('open-circuit voltage (Voc) of 12 V'),\n",
    "    Paragraph('EQE 57 %'),\n",
    "    Paragraph('Mw 12 kg/mol'),\n",
    "    Paragraph('Jsc 12 mA/cm2'),\n",
    ")\n",
    "\n",
    "rec = doc.records.serialize()"
   ]
  },
  {
   "cell_type": "code",
   "execution_count": 81,
   "metadata": {},
   "outputs": [
    {
     "data": {
      "text/plain": [
       "[{'names': ['5,10,15,20-Tetra(4-carboxyphenyl)porphyrin'],\n",
       "  'labels': ['3'],\n",
       "  'melting_points': [{'value': '90', 'units': '°C'}],\n",
       "  'mw_pattern': [{'value': '12'}],\n",
       "  'pce_pattern': [{'value': '15', 'units': '%'}],\n",
       "  'eqe_pattern': [{'value': '57', 'units': '%'}]}]"
      ]
     },
     "execution_count": 81,
     "metadata": {},
     "output_type": "execute_result"
    }
   ],
   "source": [
    "rec"
   ]
  },
  {
   "cell_type": "markdown",
   "metadata": {},
   "source": [
    "In this case we can test on doc7 on data patching. "
   ]
  },
  {
   "cell_type": "code",
   "execution_count": 57,
   "metadata": {},
   "outputs": [
    {
     "data": {
      "text/html": [
       "<p class=\"cde-paragraph\">ABSTRACT: We report the synthesis, properties, and photo-\n",
       "voltaic applications of new π-conjugated polymers having\n",
       "thiophene, 3,4-dihexylthiophene, and 1,3,4-oxadiazole (OXD) or\n",
       "1,3,4-thiadiazole (TD) units in the main chain, denoted as P1 and\n",
       "P2. They were synthesized by the Stille coupling reaction of 2,5-\n",
       "bis(trimethylstannyl)thiophene and the corresponding monomers\n",
       "of 2,5-bis(5′-bromo-3′,4′-dihexylthien-2′-yl)-1,3,4-oxadiazole or\n",
       "2,5-bis(5′-bromo-3′,4′-dihexylthien-2′-yl)-1,3,4-thiadiazole,\n",
       "re-\n",
       "spectively. The experimental results indicated that the introduc-\n",
       "tion of an electron-accepting moiety of OXD or TD lowered the\n",
       "highest occupied molecular orbital (HOMO) energy levels,\n",
       "resulting in the higher the open-circuit voltage (Voc) values of\n",
       "polymer solar cells (PSCs). Indeed, the PSCs of P1 and P2\n",
       "showed high Voc values in the range 0.80−0.90 V. The highest\n",
       "ﬁeld-eﬀect transistor (FET) mobilities of P1 and P2 with the OXD and TD moieties, respectively, were 1.41 × 10−3 and 8.81 ×\n",
       "10−2 cm2 V−1 s−1. The higher mobility of P2 was related to its orderly nanoﬁbrillar structure, as evidenced from the TEM images.\n",
       "Moreover, the higher absorption coeﬃcient and smaller band gap of P2 provided a more eﬃcient light-harvesting ability. The\n",
       "power conversion eﬃciency (PCE) of the PSC based on P2:PCBM = 1:1 (w/w) reached 3.04% with a short-circuit current\n",
       "density (Jsc) value of 6.60 mA/cm2, a Voc value of 0.80 V, and a ﬁll factor (FF) value of 0.576 during the illumination of AM 1.5,\n",
       "100 mW/cm2. In comparison,\n",
       "the electron-accepting moiety exhibited an inferior device\n",
       "performance (FET mobility = 2.10 × 10−4 cm2 V−1 s−1 and PCE = 1.91%). The experimental results demonstrated that\n",
       "incorporating the electron-acceptor moiety into the polythiophene backbone could enhance the device performance due to the\n",
       "low-lying HOMO levels, compact packing structure, and high charge carrier mobility. This is the ﬁrst report for the achievement\n",
       "of PCE > 3% using PSCs based on polythiophenes having TD units in the main chain.</p>"
      ],
      "text/plain": [
       "Paragraph(id=None, references=[], text='ABSTRACT: We report the synthesis, properties, and photo-\\nvoltaic applications of new π-conjugated polymers having\\nthiophene, 3,4-dihexylthiophene, and 1,3,4-oxadiazole (OXD) or\\n1,3,4-thiadiazole (TD) units in the main chain, denoted as P1 and\\nP2. They were synthesized by the Stille coupling reaction of 2,5-\\nbis(trimethylstannyl)thiophene and the corresponding monomers\\nof 2,5-bis(5′-bromo-3′,4′-dihexylthien-2′-yl)-1,3,4-oxadiazole or\\n2,5-bis(5′-bromo-3′,4′-dihexylthien-2′-yl)-1,3,4-thiadiazole,\\nre-\\nspectively. The experimental results indicated that the introduc-\\ntion of an electron-accepting moiety of OXD or TD lowered the\\nhighest occupied molecular orbital (HOMO) energy levels,\\nresulting in the higher the open-circuit voltage (Voc) values of\\npolymer solar cells (PSCs). Indeed, the PSCs of P1 and P2\\nshowed high Voc values in the range 0.80−0.90 V. The highest\\nﬁeld-eﬀect transistor (FET) mobilities of P1 and P2 with the OXD and TD moieties, respectively, were 1.41 × 10−3 and 8.81 ×\\n10−2 cm2 V−1 s−1. The higher mobility of P2 was related to its orderly nanoﬁbrillar structure, as evidenced from the TEM images.\\nMoreover, the higher absorption coeﬃcient and smaller band gap of P2 provided a more eﬃcient light-harvesting ability. The\\npower conversion eﬃciency (PCE) of the PSC based on P2:PCBM = 1:1 (w/w) reached 3.04% with a short-circuit current\\ndensity (Jsc) value of 6.60 mA/cm2, a Voc value of 0.80 V, and a ﬁll factor (FF) value of 0.576 during the illumination of AM 1.5,\\n100 mW/cm2. In comparison,\\nthe electron-accepting moiety exhibited an inferior device\\nperformance (FET mobility = 2.10 × 10−4 cm2 V−1 s−1 and PCE = 1.91%). The experimental results demonstrated that\\nincorporating the electron-acceptor moiety into the polythiophene backbone could enhance the device performance due to the\\nlow-lying HOMO levels, compact packing structure, and high charge carrier mobility. This is the ﬁrst report for the achievement\\nof PCE > 3% using PSCs based on polythiophenes having TD units in the main chain.')"
      ]
     },
     "execution_count": 57,
     "metadata": {},
     "output_type": "execute_result"
    }
   ],
   "source": [
    "doc7[11]"
   ]
  },
  {
   "cell_type": "code",
   "execution_count": 74,
   "metadata": {},
   "outputs": [],
   "source": [
    "doc = Document(\n",
    "    Heading('Abstract:'),\n",
    "    Paragraph('We report the synthesis, properties, and photo- voltaic applications of new π-conjugated polymers having thiophene, 3,4-dihexylthiophene, and 1,3,4-oxadiazole (OXD) or 1,3,4-thiadiazole (TD) units in the main chain, denoted as P1 and P2. They were synthesized by the Stille coupling reaction of 2,5- bis(trimethylstannyl)thiophene and the corresponding monomers of 2,5-bis(5′-bromo-3′,4′-dihexylthien-2′-yl)-1,3,4-oxadiazole or 2,5-bis(5′-bromo-3′,4′-dihexylthien-2′-yl)-1,3,4-thiadiazole, re- spectively. '),\n",
    "    Paragraph('The experimental results indicated that the introduc- tion of an electron-accepting moiety of OXD or TD lowered the highest occupied molecular orbital (HOMO) energy levels, resulting in the higher the open-circuit voltage (Voc) values of polymer solar cells (PSCs). Indeed, the PSCs of P1 and P2 showed high Voc values in the range 0.80−0.90 V. The highest ﬁeld-eﬀect transistor (FET) mobilities of P1 and P2 with the OXD and TD moieties, respectively, were 1.41 × 10−3 and 8.81 × 10−2 cm2 V−1 s−1. '),\n",
    "    Paragraph('The higher mobility of P2 was related to its orderly nanoﬁbrillar structure, as evidenced from the TEM images. Moreover, the higher absorption coeﬃcient and smaller band gap of P2 provided a more eﬃcient light-harvesting ability. '),\n",
    "    Paragraph('The power conversion eﬃciency (PCE) of the PSC based on P2:PCBM = 1:1 (w/w) reached 3.04 % with a short-circuit current density (Jsc) value of 6.60 mA/cm2, a Voc value of 0.80 V, and a fill factor (as) value of 57.6% during the illumination of AM 1.5, 100 mW/cm2. '),\n",
    "    Paragraph('In comparison, the electron-accepting moiety exhibited an inferior device performance (FET mobility = 2.10 × 10−4 cm2 V−1 s−1 and PCE = 1.91%). The experimental results demonstrated that incorporating the electron-acceptor moiety into the polythiophene backbone could enhance the device performance due to the low-lying HOMO levels, compact packing structure, and high charge carrier mobility. This is the ﬁrst report for the achievement of PCE > 3% using PSCs based on polythiophenes having TD units in the main chain.')\n",
    ")\n",
    "\n",
    "rec = doc.records.serialize()"
   ]
  },
  {
   "cell_type": "code",
   "execution_count": 75,
   "metadata": {},
   "outputs": [
    {
     "data": {
      "text/plain": [
       "[{'names': ['thiophene']},\n",
       " {'names': ['3,4-dihexylthiophene']},\n",
       " {'names': ['1,3,4-thiadiazole', 'TD']},\n",
       " {'names': ['2,5- bis(trimethylstannyl)thiophene']},\n",
       " {'names': ['2,5-bis(5′-bromo-3′,4′-dihexylthien-2′-yl)-1,3,4-oxadiazole']},\n",
       " {'names': ['2,5-bis(5′-bromo-3′,4′-dihexylthien-2′-yl)-1,3,4-thiadiazole']},\n",
       " {'names': ['PCBM']},\n",
       " {'voc_pattern': [{'value': '0.80', 'units': 'V'}]},\n",
       " {'names': ['polythiophene']},\n",
       " {'names': ['polythiophenes']},\n",
       " {'names': ['OXD', '1,3,4-oxadiazole']}]"
      ]
     },
     "execution_count": 75,
     "metadata": {},
     "output_type": "execute_result"
    }
   ],
   "source": [
    "rec"
   ]
  },
  {
   "cell_type": "code",
   "execution_count": 53,
   "metadata": {},
   "outputs": [
    {
     "data": {
      "text/plain": [
       "[{'names': ['thiophene']},\n",
       " {'names': ['3,4-dihexylthiophene']},\n",
       " {'names': ['1,3,4-oxadiazole', 'OXD']},\n",
       " {'names': ['1,3,4-thiadiazole', 'TD']},\n",
       " {'names': ['2,5- bis(trimethylstannyl)thiophene']},\n",
       " {'names': ['2,5-bis(5′-bromo-3′,4′-dihexylthien-2′-yl)-1,3,4-oxadiazole']},\n",
       " {'names': ['2,5-bis(5′-bromo-3′,4′-dihexylthien-2′-yl)-1,3,4-thiadiazole']},\n",
       " {'names': ['OXD']},\n",
       " {'names': ['OXD']},\n",
       " {'names': ['PCBM']},\n",
       " {'voc_pattern': [{'value': '0.80', 'units': 'V'}]},\n",
       " {'names': ['polythiophene']},\n",
       " {'names': ['polythiophenes']}]"
      ]
     },
     "execution_count": 53,
     "metadata": {},
     "output_type": "execute_result"
    }
   ],
   "source": [
    "doc7[11].records.serialize()"
   ]
  },
  {
   "cell_type": "markdown",
   "metadata": {},
   "source": [
    "In the abstract of doc7, it gives the following values:\n",
    "\n",
    "1. Voc\n",
    "2. PCE\n",
    "3. Mobility\n",
    "4. Blend ratio\n",
    "\n",
    "and compounds \n",
    "\n",
    "1. P1\n",
    "2. P2\n",
    "\n",
    "from above we see no P1 and P2, but only the two units in the main chain OXD and TD. "
   ]
  },
  {
   "cell_type": "code",
   "execution_count": null,
   "metadata": {},
   "outputs": [],
   "source": []
  },
  {
   "cell_type": "code",
   "execution_count": null,
   "metadata": {},
   "outputs": [],
   "source": []
  },
  {
   "cell_type": "code",
   "execution_count": null,
   "metadata": {},
   "outputs": [],
   "source": []
  },
  {
   "cell_type": "code",
   "execution_count": null,
   "metadata": {},
   "outputs": [],
   "source": []
  }
 ],
 "metadata": {
  "kernelspec": {
   "display_name": "Python 3",
   "language": "python",
   "name": "python3"
  },
  "language_info": {
   "codemirror_mode": {
    "name": "ipython",
    "version": 3
   },
   "file_extension": ".py",
   "mimetype": "text/x-python",
   "name": "python",
   "nbconvert_exporter": "python",
   "pygments_lexer": "ipython3",
   "version": "3.6.9"
  }
 },
 "nbformat": 4,
 "nbformat_minor": 2
}
