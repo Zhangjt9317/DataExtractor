{
 "cells": [
  {
   "cell_type": "markdown",
   "metadata": {},
   "source": [
    "## Test on Properties\n",
    "\n",
    "This notebook focuses on customizing parsers that can be used to extract information\n",
    "\n",
    "In this case we are going to try to check for data patching and parsers at the same time. If the extracted properties misalign with compounds extracted, the project would be meaningless.\n",
    "\n",
    "\n",
    "10/15/2019 meeting \n",
    "\n",
    "Challenge:\n",
    "\n",
    "1. in parser, if a full name with a abbrev in () it will not recognize\n",
    "2. too messy data paragraphs --> cannot efficiently recognize \n"
   ]
  },
  {
   "cell_type": "code",
   "execution_count": 9,
   "metadata": {},
   "outputs": [],
   "source": [
    "import logging\n",
    "import re\n",
    "import pandas as pd\n",
    "import urllib\n",
    "import time\n",
    "\n",
    "import chemdataextractor as cde\n",
    "from chemdataextractor import Document\n",
    "import chemdataextractor.model as model\n",
    "from chemdataextractor.model import Compound, UvvisSpectrum, UvvisPeak, BaseModel, StringType, ListType, ModelType\n",
    "from chemdataextractor.parse.common import hyphen\n",
    "from chemdataextractor.parse.base import BaseParser\n",
    "from chemdataextractor.utils import first\n",
    "from chemdataextractor.parse.actions import strip_stop\n",
    "from chemdataextractor.parse.elements import W, I, T, R, Optional, ZeroOrMore, OneOrMore, Or, And\n",
    "from chemdataextractor.parse.cem import chemical_name\n",
    "from chemdataextractor.doc import Paragraph, Sentence, Caption, Figure,Table, Heading\n",
    "from chemdataextractor.doc.table import Table, Cell"
   ]
  },
  {
   "cell_type": "code",
   "execution_count": 10,
   "metadata": {},
   "outputs": [],
   "source": [
    "from chemdataextractor.text.chem import SOLVENT_RE, INCHI_RE, SMILES_RE"
   ]
  },
  {
   "cell_type": "code",
   "execution_count": null,
   "metadata": {},
   "outputs": [],
   "source": [
    "# open and read files\n",
    "f = open('../test_articles/paper0.pdf', 'rb')\n",
    "doc = Document.from_file(f)\n",
    "abstract = [11]\n",
    "\n",
    "f1 = open('../test_articles/paper1.pdf', 'rb')\n",
    "doc1 = Document.from_file(f1)\n",
    "abstract1 = [7,8]\n",
    "\n",
    "f2 = open('../test_articles/paper2.pdf', 'rb')\n",
    "doc2 = Document.from_file(f2)\n",
    "abstract2 = [7,8]\n",
    "\n",
    "f3 = open('../test_articles/paper3.pdf', 'rb')\n",
    "doc3 = Document.from_file(f3)\n",
    "abstract3 = [10]\n",
    "\n",
    "f4 = open('../test_articles/paper4.pdf', 'rb')\n",
    "doc4 = Document.from_file(f4)\n",
    "abstract4 = [12]\n",
    "\n",
    "f5 = open('../test_articles/paper5.pdf', 'rb')\n",
    "doc5 = Document.from_file(f5)\n",
    "abstract5 = [3,4]\n",
    "\n",
    "f6 = open('../test_articles/paper6.pdf', 'rb')\n",
    "doc6 = Document.from_file(f6)\n",
    "abstract6 = [5,6,7,8]\n",
    "\n",
    "f7 = open('../test_articles/paper7.pdf', 'rb')\n",
    "doc7 = Document.from_file(f7)\n",
    "abstract7 = [11]"
   ]
  },
  {
   "cell_type": "code",
   "execution_count": null,
   "metadata": {},
   "outputs": [],
   "source": [
    "# split the paragraph into elements\n",
    "paras = doc.elements\n",
    "cems = doc.cems\n",
    "a = doc.records.serialize()"
   ]
  },
  {
   "cell_type": "code",
   "execution_count": null,
   "metadata": {},
   "outputs": [],
   "source": [
    "a"
   ]
  },
  {
   "cell_type": "code",
   "execution_count": null,
   "metadata": {},
   "outputs": [],
   "source": [
    "doc"
   ]
  },
  {
   "cell_type": "markdown",
   "metadata": {},
   "source": [
    "PCE and FF works fine, as well as other quantities end in %. For other units, further customization required\n",
    "\n",
    "Most of properties from literature have the same layout, so if one example works, the rest of them should work too.\n",
    "\n",
    "Any unit with simple expression (1 component) is easy to extract. Otherwise a combination is needed."
   ]
  },
  {
   "cell_type": "code",
   "execution_count": null,
   "metadata": {},
   "outputs": [],
   "source": [
    "class Jsc(BaseModel):\n",
    "    value = StringType()\n",
    "    units = StringType()\n",
    "\n",
    "Compound.jsc_pattern = ListType(ModelType(Jsc))\n",
    "\n",
    "abbrv_prefix = (I(u'jsc') | I(u'Jsc')).hide()\n",
    "words_pref = (I(u'short') + I(u'circuit') + I(u'current') + I(u'density')).hide()\n",
    "hyphanated_pref = (I(u'short') + I(u'-') + I('circuit') + I(u'current') + I(u'density')).hide()\n",
    "\n",
    "prefix = abbrv_prefix | words_pref | hyphanated_pref\n",
    "\n",
    "common_text = R('(\\w+)?\\D(\\D+)+(\\w+)?').hide()\n",
    "common_paren = R('\\((.+)\\)|\\[(.*?)\\]') # get the common parenthesis \n",
    "units = ((W('m') + W(u'A') + W(u'/') + W(u'cm') + W('2')))(u'units') # get the unit\n",
    "value = R(u'\\d+(\\.\\d+)?')(u'value') # get the value\n",
    "\n",
    "jsc_first= (prefix + ZeroOrMore(common_text) + value + units)(u'jsc')\n",
    "jsc_second = (value + units + prefix)(u'jsc')\n",
    "jsc_third = (prefix + ZeroOrMore(common_paren) + value + units)(u'jsc')\n",
    "\n",
    "jsc_pattern = jsc_first | jsc_second | jsc_third\n",
    "\n",
    "class JscParser(BaseParser):\n",
    "    root = jsc_pattern\n",
    "\n",
    "    def interpret(self, result, start, end):\n",
    "        compound = Compound(\n",
    "            jsc_pattern=[\n",
    "                Jsc(\n",
    "                    value=first(result.xpath('./value/text()')),\n",
    "                    units=first(result.xpath('./units/text()'))\n",
    "                )\n",
    "            ]\n",
    "        )\n",
    "        yield compound\n",
    "\n",
    "def parse_jsc(list_of_sentences):\n",
    "    \"\"\" \n",
    "    Takes a list of sentences and parses for quantified PCE\n",
    "    information and relationships to chemicals/chemical labels\n",
    "    \"\"\"\n",
    "\n",
    "    Sentence.parsers.append(JscParser())\n",
    "\n",
    "    cde_senteces = [Sentence(sent).records.serialize() for sent in list_of_sentences]\n",
    "    return cde_senteces"
   ]
  },
  {
   "cell_type": "markdown",
   "metadata": {},
   "source": [
    "Possible situations for the unit and combination are like the followings:\n",
    "\n",
    "Comb\n",
    "\n",
    "1. **name** (abbrev) + value + unit\n",
    "2. **name** [abbrev] + value + unit\n",
    "3. **name** + value + unit\n",
    "4. The above situations with no space between value and unit --> not likely\n",
    "\n",
    "if there is any insertion between value and the previous part, parser does not work"
   ]
  },
  {
   "cell_type": "code",
   "execution_count": null,
   "metadata": {},
   "outputs": [],
   "source": [
    "Sentence.parsers.append(JscParser())\n",
    "Paragraph.parsers.append(JscParser())\n",
    "\n",
    "Sentence.parsers.append(VocParser())\n",
    "Paragraph.parsers.append(VocParser())\n",
    "\n",
    "# Sentence.parsers.append(MwParser())\n",
    "# Paragraph.parsers.append(MwParser())\n",
    "\n",
    "Sentence.parsers.append(PceParser())\n",
    "Paragraph.parsers.append(PceParser())\n",
    "\n",
    "# Sentence.parsers.append(EqeParser())\n",
    "# Paragraph.parsers.append(EqeParser())\n",
    "\n",
    "# Sentence.parsers.append(FfParser())\n",
    "# Paragraph.parsers.append(FfParser())"
   ]
  },
  {
   "cell_type": "code",
   "execution_count": null,
   "metadata": {},
   "outputs": [],
   "source": [
    "doc = Document(\n",
    "    Heading('5,10,15,20-Tetra(4-carboxyphenyl)porphyrin (3).'),\n",
    "    Paragraph('m.p. 90°C.'),\n",
    "    Paragraph('open-circuit voltage of 5 V'),\n",
    "    Paragraph('power-conversion efficiency of 12 %'),\n",
    "    Paragraph('with the short-circuit current density (Jsc) of 12 mAcm-2')\n",
    ")\n",
    "\n",
    "rec = doc.records.serialize()"
   ]
  },
  {
   "cell_type": "code",
   "execution_count": null,
   "metadata": {},
   "outputs": [],
   "source": [
    "rec"
   ]
  },
  {
   "cell_type": "markdown",
   "metadata": {},
   "source": [
    "In this case we can test on doc7 on data patching. "
   ]
  },
  {
   "cell_type": "code",
   "execution_count": null,
   "metadata": {},
   "outputs": [],
   "source": [
    "doc7[11]"
   ]
  },
  {
   "cell_type": "code",
   "execution_count": null,
   "metadata": {},
   "outputs": [],
   "source": [
    "doc = Document(\n",
    "    Heading('Abstract:'),\n",
    "    Paragraph('We report the synthesis, properties, and photo- voltaic applications of new π-conjugated polymers having thiophene, 3,4-dihexylthiophene, and 1,3,4-oxadiazole (OXD) or 1,3,4-thiadiazole (TD) units in the main chain, denoted as P1 and P2. They were synthesized by the Stille coupling reaction of 2,5- bis(trimethylstannyl)thiophene and the corresponding monomers of 2,5-bis(5′-bromo-3′,4′-dihexylthien-2′-yl)-1,3,4-oxadiazole or 2,5-bis(5′-bromo-3′,4′-dihexylthien-2′-yl)-1,3,4-thiadiazole, re- spectively. '),\n",
    "    Paragraph('The experimental results indicated that the introduc- tion of an electron-accepting moiety of OXD or TD lowered the highest occupied molecular orbital (HOMO) energy levels, resulting in the higher the open-circuit voltage (Voc) values of polymer solar cells (PSCs). Indeed, the PSCs of P1 and P2 showed high Voc values in the range 0.80−0.90 V. The highest ﬁeld-eﬀect transistor (FET) mobilities of P1 and P2 with the OXD and TD moieties, respectively, were 1.41 × 10−3 and 8.81 × 10−2 cm2 V−1 s−1. '),\n",
    "    Paragraph('The higher mobility of P2 was related to its orderly nanoﬁbrillar structure, as evidenced from the TEM images. Moreover, the higher absorption coeﬃcient and smaller band gap of P2 provided a more eﬃcient light-harvesting ability. '),\n",
    "    Paragraph('The power conversion eﬃciency (PCE) of the PSC based on P2:PCBM = 1:1 (w/w) reached 3.04 % with a short-circuit current density (Jsc) value of 6.60 mA/cm2, a Voc value of 0.80 V, and a fill factor (as) value of 57.6% during the illumination of AM 1.5, 100 mW/cm2. '),\n",
    "    Paragraph('In comparison, the electron-accepting moiety exhibited an inferior device performance (FET mobility = 2.10 × 10−4 cm2 V−1 s−1 and PCE = 1.91%). The experimental results demonstrated that incorporating the electron-acceptor moiety into the polythiophene backbone could enhance the device performance due to the low-lying HOMO levels, compact packing structure, and high charge carrier mobility. This is the ﬁrst report for the achievement of PCE > 3% using PSCs based on polythiophenes having TD units in the main chain.')\n",
    ")\n",
    "\n",
    "rec = doc.records.serialize()"
   ]
  },
  {
   "cell_type": "code",
   "execution_count": null,
   "metadata": {},
   "outputs": [],
   "source": [
    "rec"
   ]
  },
  {
   "cell_type": "code",
   "execution_count": null,
   "metadata": {},
   "outputs": [],
   "source": [
    "doc7[11].records.serialize()"
   ]
  },
  {
   "cell_type": "markdown",
   "metadata": {},
   "source": [
    "In the abstract of doc7, it gives the following values:\n",
    "\n",
    "1. Voc\n",
    "2. PCE\n",
    "3. Mobility\n",
    "4. Blend ratio\n",
    "\n",
    "and compounds \n",
    "\n",
    "1. P1\n",
    "2. P2\n",
    "\n",
    "from above we see no P1 and P2, but only the two units in the main chain OXD and TD. "
   ]
  },
  {
   "cell_type": "markdown",
   "metadata": {},
   "source": [
    "## Regex Tester"
   ]
  },
  {
   "cell_type": "markdown",
   "metadata": {},
   "source": [
    "1. \\[    : [ is a meta char and needs to be escaped if you want to match it literally.\n",
    "2. (.*?) : match everything in a non-greedy way and capture it.\n",
    "3. \\]    : ] is a meta char and needs to be escaped if you want to match it literally."
   ]
  },
  {
   "cell_type": "code",
   "execution_count": null,
   "metadata": {},
   "outputs": [],
   "source": [
    "# regex finder and tester, use this to test regex you plan to give for the parser \n",
    "# coding=utf8\n",
    "# the above tag defines encoding for this document and is for Python 2.x compatibility\n",
    "\n",
    "import re\n",
    "\n",
    "regex = r\"\\((.+)\\)\"\n",
    "# regex = r\"\\[(.*?)\\]\"\n",
    "\n",
    "\n",
    "test_str = \"molecular weight (Mw) of 12 kg\"\n",
    "\n",
    "matches = re.finditer(regex, test_str)\n",
    "\n",
    "for matchNum, match in enumerate(matches, start=1):\n",
    "    \n",
    "    print (\"Match {matchNum} was found at {start}-{end}: {match}\".format(matchNum = matchNum, start = match.start(), end = match.end(), match = match.group()))\n",
    "    \n",
    "    for groupNum in range(0, len(match.groups())):\n",
    "        groupNum = groupNum + 1\n",
    "        \n",
    "        print (\"Group {groupNum} found at {start}-{end}: {group}\".format(groupNum = groupNum, start = match.start(groupNum), end = match.end(groupNum), group = match.group(groupNum)))\n",
    "\n",
    "# Note: for Python 2.7 compatibility, use ur\"\" to prefix the regex and u\"\" to prefix the test string and substitution."
   ]
  },
  {
   "cell_type": "code",
   "execution_count": null,
   "metadata": {},
   "outputs": [],
   "source": []
  },
  {
   "cell_type": "code",
   "execution_count": null,
   "metadata": {},
   "outputs": [],
   "source": []
  }
 ],
 "metadata": {
  "kernelspec": {
   "display_name": "Python 3",
   "language": "python",
   "name": "python3"
  },
  "language_info": {
   "codemirror_mode": {
    "name": "ipython",
    "version": 3
   },
   "file_extension": ".py",
   "mimetype": "text/x-python",
   "name": "python",
   "nbconvert_exporter": "python",
   "pygments_lexer": "ipython3",
   "version": "3.6.9"
  }
 },
 "nbformat": 4,
 "nbformat_minor": 2
}
