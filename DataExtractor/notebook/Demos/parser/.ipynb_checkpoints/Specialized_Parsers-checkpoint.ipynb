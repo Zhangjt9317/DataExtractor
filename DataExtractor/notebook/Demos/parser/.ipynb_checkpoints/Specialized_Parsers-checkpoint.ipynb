{
 "cells": [
  {
   "cell_type": "markdown",
   "metadata": {},
   "source": [
    "## Specializing Parsers Here\n",
    "\n",
    "Following the original code from CDE we can customize our parsers to great varieties. The \n",
    "\n"
   ]
  },
  {
   "cell_type": "code",
   "execution_count": 2,
   "metadata": {},
   "outputs": [],
   "source": [
    "import logging\n",
    "import re\n",
    "import pandas as pd\n",
    "import urllib\n",
    "import time\n",
    "\n",
    "import chemdataextractor as cde\n",
    "from chemdataextractor import Document\n",
    "from chemdataextractor.reader import acs,base,cssp,HtmlReader,NlmXmlReader,PdfReader,RscHtmlReader,XmlReader\n",
    "from chemdataextractor.model import Compound, UvvisSpectrum, UvvisPeak, BaseModel, StringType, ListType, ModelType\n",
    "from chemdataextractor.parse.common import hyphen,lbrct, dt, rbrct\n",
    "from chemdataextractor.parse.base import BaseParser\n",
    "from chemdataextractor.utils import first\n",
    "\n",
    "from chemdataextractor.parse.actions import strip_stop, merge, join\n",
    "from chemdataextractor.parse.elements import W, I, T, R, Optional, ZeroOrMore, OneOrMore, Or, And, Not, Any\n",
    "from chemdataextractor.parse.cem import chemical_name,cem, chemical_label, lenient_chemical_label, solvent_name\n",
    "from chemdataextractor.doc import Paragraph, Sentence, Caption, Figure,Table, Heading\n",
    "from chemdataextractor.doc.table import Table, Cell\n",
    "\n",
    "# import modules for scraping information from local xml files\n",
    "from chemdataextractor.scrape import pub\n",
    "from chemdataextractor.scrape.pub import rsc\n",
    "from chemdataextractor.scrape.pub import springer\n",
    "from chemdataextractor.scrape.pub import nlm"
   ]
  },
  {
   "cell_type": "markdown",
   "metadata": {},
   "source": [
    "XMLReader not really working, needs to be fixed\n",
    "HTMLReader and pdfReader work"
   ]
  },
  {
   "cell_type": "code",
   "execution_count": 4,
   "metadata": {},
   "outputs": [],
   "source": [
    "# open and read files\n",
    "f = open('../one_compound/36 ja200314m.pdf', 'rb')\n",
    "doc = Document.from_file(f)\n",
    "paras = doc.elements\n",
    "cems = doc.cems\n",
    "\n",
    "# open and read files\n",
    "f1 = open('../one_compound/39 ja101888b.pdf', 'rb')\n",
    "doc1 = Document.from_file(f1)\n",
    "paras1 = doc.elements\n",
    "cems1 = doc.cems"
   ]
  },
  {
   "cell_type": "code",
   "execution_count": 4,
   "metadata": {},
   "outputs": [],
   "source": [
    "# import os\n",
    "# directory = '../one_compound/'\n",
    "# files = [item for item in os.listdir(directory) if os.path.isfile(os.path.join(directory, item))]\n",
    "\n",
    "# doc = []\n",
    "# para = []\n",
    "# cem = []\n",
    "# for file in files:\n",
    "#     f = open(\"../one_compound/\" + f, 'rb')\n",
    "#     doc.append(Document.from_file(f))\n",
    "#     para.append(doc.elements)\n",
    "#     cem.append(doc.cems)"
   ]
  },
  {
   "cell_type": "markdown",
   "metadata": {},
   "source": [
    "## Spealize PCE parsers\n",
    "\n",
    "In this case we customize the pce parser to test all different combinations of pce interpretations possible in the text / literature."
   ]
  },
  {
   "cell_type": "code",
   "execution_count": 5,
   "metadata": {},
   "outputs": [],
   "source": [
    "class Pce(BaseModel):\n",
    "    value = StringType()\n",
    "    units = StringType()\n",
    "\n",
    "Compound.pce_pattern = ListType(ModelType(Pce))\n",
    "\n",
    "common_text = R('(\\w+)?\\D(\\D+)+(\\w+)?').hide()\n",
    "units = (W(u'%') | I(u'percent'))(u'units')\n",
    "value = R(u'\\d+(\\.\\d+)?')(u'value')\n",
    "\n",
    "abbrv_prefix = (I(u'PCE') | I(u'PCEs') | I(u'pce')).hide()\n",
    "words_pref = (I(u'power') + I(u'conversion') + I(u'efficiency')).hide()\n",
    "hyphanated_pref = (I(u'power') + I(u'-') + I('conversion') + I(u'efficiency')).hide()\n",
    "joined_range = R('^[\\+\\-–−]?\\d+(\\.\\d+)?[\\-–−~∼˜]\\d+(\\.\\d+)?$')('value').add_action(merge)\n",
    "spaced_range = (R('^[\\+\\-–−]?\\d+(\\.\\d+)?$') + Optional(units).hide() + (R('^[\\-–−~∼˜]$') +\n",
    "                                                                        R('^[\\+\\-–−]?\\d+(\\.\\d+)?$') | R('^[\\+\\-–−]\\d+(\\.\\d+)?$')))('value').add_action(merge)\n",
    "to_range = (R('^[\\+\\-–−]?\\d+(\\.\\d+)?$') + Optional(units).hide() + (I('to') +\n",
    "                                                                    R('^[\\+\\-–−]?\\d+(\\.\\d+)?$') | R('^[\\+\\-–−]\\d+(\\.\\d+)?$')))('value').add_action(join)\n",
    "\n",
    "prefix = Optional(I('a')).hide() + (Optional(lbrct) + W('PCEs') + Optional(rbrct) | I('power') + Optional(I('conversion')) + Optional((I('efficiency') | I('range'))) + Optional((I('temperature') | I('range')))\n",
    "                                    ).hide() + Optional(lbrct + W('PCE') + rbrct) + Optional(W('=') | I('of') | I('was') | I('is') | I('at')).hide() + Optional(I('in') + I('the') + I('range') + Optional(I('of')) | I('about') | ('around') | I('%')).hide()\n",
    "\n",
    "pce_first  = (words_pref + (Optional(lbrct) + abbrv_prefix + Optional(rbrct)) + ZeroOrMore(common_text) + value + units)(u'pce')\n",
    "# pce_first = (prefix + ZeroOrMore(common_text) + value + units)(u'pce')\n",
    "pce_second = (prefix + value + units)(u'pce')\n",
    "pce_pattern = pce_first | pce_second\n",
    "\n",
    "class PceParser(BaseParser):\n",
    "    root = pce_pattern\n",
    "\n",
    "    def interpret(self, result, start, end):\n",
    "        compound = Compound(\n",
    "            pce_pattern = [\n",
    "                Pce(\n",
    "                    value = first(result.xpath('./value/text()')),\n",
    "                    units = first(result.xpath('./units/text()'))\n",
    "                )\n",
    "            ]\n",
    "        )\n",
    "        yield compound"
   ]
  },
  {
   "cell_type": "code",
   "execution_count": 6,
   "metadata": {},
   "outputs": [],
   "source": [
    "Sentence.parsers.append(PceParser())\n",
    "Paragraph.parsers.append(PceParser())"
   ]
  },
  {
   "cell_type": "code",
   "execution_count": 7,
   "metadata": {},
   "outputs": [
    {
     "data": {
      "text/plain": [
       "[]"
      ]
     },
     "execution_count": 7,
     "metadata": {},
     "output_type": "execute_result"
    }
   ],
   "source": [
    "doc = Document(\n",
    "    Paragraph(\"A pce of 10%\"),\n",
    "    Paragraph(\"materials with power-conversion efficiency (PCE) of 12% and 20%\"), # good enough for parsing\n",
    "    Paragraph(\"with the efficiency of 1%\"),\n",
    "    Paragraph(\"have the conversion efficiency of 10%\"),\n",
    ")\n",
    "\n",
    "doc.records.serialize()"
   ]
  },
  {
   "cell_type": "code",
   "execution_count": null,
   "metadata": {},
   "outputs": [],
   "source": []
  },
  {
   "cell_type": "markdown",
   "metadata": {},
   "source": [
    "**Voc parsers**"
   ]
  },
  {
   "cell_type": "code",
   "execution_count": 8,
   "metadata": {},
   "outputs": [],
   "source": [
    "class Voc(BaseModel):\n",
    "    value = StringType()\n",
    "    units = StringType()\n",
    "\n",
    "Compound.voc_pattern = ListType(ModelType(Voc))\n",
    "\n",
    "common_text = R('(\\w+)?\\D(\\D+)+(\\w+)?').hide()\n",
    "units = (W(u'V') | I(u'v') | I(u'volt') | I(u'volts'))(u'units')\n",
    "value = R(u'\\d+(\\.\\d+)?')(u'value')\n",
    "\n",
    "abbrv_prefix = (I(u'Voc') | I(u'voc')).hide()\n",
    "words_pref = (I(u'open') + I(u'circuit') + I(u'voltage')).hide()\n",
    "hyphanated_pref = (I(u'open') + I(u'-') + I('circuit') + I(u'voltage')).hide()\n",
    "joined_range = R('^[\\+\\-–−]?\\d+(\\.\\d+)?[\\-–−~∼˜]\\d+(\\.\\d+)?$')('value').add_action(merge)\n",
    "spaced_range = (R('^[\\+\\-–−]?\\d+(\\.\\d+)?$') + Optional(units).hide() + (R('^[\\-–−~∼˜]$') +\n",
    "                                                                        R('^[\\+\\-–−]?\\d+(\\.\\d+)?$') | R('^[\\+\\-–−]\\d+(\\.\\d+)?$')))('value').add_action(merge)\n",
    "to_range = (R('^[\\+\\-–−]?\\d+(\\.\\d+)?$') + Optional(units).hide() + (I('to') +\n",
    "                                                                    R('^[\\+\\-–−]?\\d+(\\.\\d+)?$') | R('^[\\+\\-–−]\\d+(\\.\\d+)?$')))('value').add_action(join)\n",
    "\n",
    "prefix = Optional(I('a')).hide() + (Optional(lbrct) + W('Voc') + Optional(rbrct) | I('open') + Optional(I('circuit')) + Optional((I('voltage')))\n",
    "                                    ).hide() + Optional(lbrct + W('Voc') + rbrct) + Optional(W('=') | I('of') | I('was') | I('is') | I('at')).hide() + Optional(I('in') + I('the') + I('range') + Optional(I('of')) | I('about') | ('around') | units).hide()\n",
    "\n",
    "voc_first  = (words_pref + (Optional(lbrct) + abbrv_prefix + Optional(rbrct)) + ZeroOrMore(common_text) + value + units)(u'voc')\n",
    "voc_second = (prefix + value + units)(u'voc')\n",
    "voc_pattern = voc_first | voc_second\n",
    "\n",
    "class VocParser(BaseParser):\n",
    "    root = voc_pattern\n",
    "\n",
    "    def interpret(self, result, start, end):\n",
    "        compound = Compound(\n",
    "            voc_pattern=[\n",
    "                Voc(\n",
    "                    value=first(result.xpath('./value/text()')),\n",
    "                    units=first(result.xpath('./units/text()'))\n",
    "                )\n",
    "            ]\n",
    "        )\n",
    "        yield compound"
   ]
  },
  {
   "cell_type": "code",
   "execution_count": 9,
   "metadata": {},
   "outputs": [],
   "source": [
    "Sentence.parsers.append(VocParser())\n",
    "Paragraph.parsers.append(VocParser())"
   ]
  },
  {
   "cell_type": "code",
   "execution_count": 10,
   "metadata": {},
   "outputs": [],
   "source": [
    "doc = Document(\n",
    "    Paragraph(\"A open-circuit voltage of 12 volt\"),\n",
    "    Paragraph(\"A open-circuit voltage (Voc) of 144 V\"),\n",
    "    Paragraph(\"A Voc of 22 V\"),\n",
    ")\n",
    "\n",
    "rec = doc.records.serialize()"
   ]
  },
  {
   "cell_type": "code",
   "execution_count": 11,
   "metadata": {},
   "outputs": [
    {
     "data": {
      "text/plain": [
       "[{'voc_pattern': [{'value': '144', 'units': 'V'}]},\n",
       " {'voc_pattern': [{'value': '22', 'units': 'V'}]}]"
      ]
     },
     "execution_count": 11,
     "metadata": {},
     "output_type": "execute_result"
    }
   ],
   "source": [
    "rec"
   ]
  },
  {
   "cell_type": "markdown",
   "metadata": {},
   "source": [
    "**Jsc Parser**"
   ]
  },
  {
   "cell_type": "code",
   "execution_count": 12,
   "metadata": {},
   "outputs": [],
   "source": [
    "class Jsc(BaseModel):\n",
    "    value = StringType()\n",
    "    units = StringType()\n",
    "\n",
    "Compound.jsc_pattern = ListType(ModelType(Jsc))\n",
    "\n",
    "common_text = R('(\\w+)?\\D(\\D+)+(\\w+)?').hide()\n",
    "\n",
    "# delim = R('^[;:,\\./]$').hide()\n",
    "\n",
    "units = Optional(W('/')).hide() + (\n",
    "    R('^\\[?mAcm[-–−‒]?2\\]?$') |\n",
    "    W('mAcm') + R('^[-–−‒]$') + W('2') | \n",
    "    R('^\\[?mA\\/cm2\\]?$') | \n",
    "    W('mA') + W('^\\/?$') + W('cm') +  W('2')\n",
    ")('units').add_action(merge)\n",
    "\n",
    "value = R(u'\\d+(\\.\\d+)?')(u'value')\n",
    "\n",
    "abbrv_prefix = (I(u'Jsc') | I(u'jsc')).hide()\n",
    "words_pref = (I(u'short') + I(u'circuit') + I(u'current') + I(u'density')).hide()\n",
    "hyphanated_pref = (I(u'short') + I(u'-') + I('circuit') + I(u'current') + I(u'density')).hide()\n",
    "joined_range = R('^[\\+\\-–−]?\\d+(\\.\\d+)?[\\-–−~∼˜]\\d+(\\.\\d+)?$')('value').add_action(merge)\n",
    "spaced_range = (R('^[\\+\\-–−]?\\d+(\\.\\d+)?$') + Optional(units).hide() + (R('^[\\-–−~∼˜]$') +\n",
    "                                                                        R('^[\\+\\-–−]?\\d+(\\.\\d+)?$') | R('^[\\+\\-–−]\\d+(\\.\\d+)?$')))('value').add_action(merge)\n",
    "to_range = (R('^[\\+\\-–−]?\\d+(\\.\\d+)?$') + Optional(units).hide() + (I('to') +\n",
    "                                                                    R('^[\\+\\-–−]?\\d+(\\.\\d+)?$') | R('^[\\+\\-–−]\\d+(\\.\\d+)?$')))('value').add_action(join)\n",
    "\n",
    "prefix = Optional(I('a')).hide() + (Optional(lbrct) + W('Jsc') + Optional(rbrct) | I('short') + Optional(I('circuit')) + Optional((I('current'))) + Optional(I('density'))\n",
    "                                    ).hide() + Optional(lbrct + W('Jsc') + rbrct) + Optional(W('=') | I('of') | I('was') | I('is') | I('at')).hide() + Optional(I('in') + I('the') + I('range') + Optional(I('of')) | I('about') | ('around') | I('mAcm-2') | I('mA/cm2')).hide()\n",
    "\n",
    "jsc_first  = (words_pref + (Optional(lbrct) + abbrv_prefix + Optional(rbrct)) + ZeroOrMore(common_text) + value + units)(u'jsc')\n",
    "jsc_second = (prefix + value + units)(u'jsc')\n",
    "jsc_pattern = jsc_first | jsc_second\n",
    "\n",
    "class JscParser(BaseParser):\n",
    "    root = jsc_pattern\n",
    "\n",
    "    def interpret(self, result, start, end):\n",
    "        compound = Compound(\n",
    "            jsc_pattern=[\n",
    "                Jsc(\n",
    "                    value=first(result.xpath('./value/text()')),\n",
    "                    units=first(result.xpath('./units/text()'))\n",
    "                )\n",
    "            ]\n",
    "        )\n",
    "        yield compound"
   ]
  },
  {
   "cell_type": "code",
   "execution_count": 13,
   "metadata": {},
   "outputs": [],
   "source": [
    "Sentence.parsers.append(JscParser())\n",
    "Paragraph.parsers.append(JscParser())"
   ]
  },
  {
   "cell_type": "code",
   "execution_count": 14,
   "metadata": {},
   "outputs": [],
   "source": [
    "doc = Document(\n",
    "    Paragraph(\"A short-circuit current density (Jsc) of 12 mAcm-2\"),\n",
    "    Paragraph(\"A Jsc of 11 mA/cm2\"),\n",
    "    Paragraph(\"A short-circuit current density (Jsc) of 10 mAcm-2\"),\n",
    ")\n",
    "\n",
    "rec = doc.records.serialize()"
   ]
  },
  {
   "cell_type": "code",
   "execution_count": 15,
   "metadata": {},
   "outputs": [
    {
     "data": {
      "text/plain": [
       "[{'jsc_pattern': [{'value': '12', 'units': 'mAcm-2'}]},\n",
       " {'jsc_pattern': [{'value': '10', 'units': 'mAcm-2'}]}]"
      ]
     },
     "execution_count": 15,
     "metadata": {},
     "output_type": "execute_result"
    }
   ],
   "source": [
    "rec"
   ]
  },
  {
   "cell_type": "markdown",
   "metadata": {},
   "source": [
    "**Molecular Weight Parser**"
   ]
  },
  {
   "cell_type": "code",
   "execution_count": 16,
   "metadata": {},
   "outputs": [],
   "source": [
    "class Mw(BaseModel):\n",
    "    value = StringType()\n",
    "    units = StringType()\n",
    "\n",
    "Compound.mw_pattern = ListType(ModelType(Mw))\n",
    "\n",
    "common_text = R('(\\w+)?\\D(\\D+)+(\\w+)?').hide()\n",
    "\n",
    "units = Optional(W('/')).hide() + (\n",
    "    R('^\\[?kgmol[-–−‒]?1\\]?$') |\n",
    "    W('kgmol') + R('^[-–−‒]$') + W('1') | \n",
    "    R('\\[?kg[\\/]?mol\\]?$') | \n",
    "    W('kg') + W('^\\/?$') + W('mol')\n",
    ")('units').add_action(merge)\n",
    "\n",
    "value = R(u'\\d+(\\.\\d+)?')(u'value')\n",
    "\n",
    "abbrv_prefix = (I(u'Mw') | I(u'mw')).hide()\n",
    "words_pref = (I(u'molecular') + I(u'weight')).hide()\n",
    "joined_range = R('^[\\+\\-–−]?\\d+(\\.\\d+)?[\\-–−~∼˜]\\d+(\\.\\d+)?$')('value').add_action(merge)\n",
    "spaced_range = (R('^[\\+\\-–−]?\\d+(\\.\\d+)?$') + Optional(units).hide() + (R('^[\\-–−~∼˜]$') +\n",
    "                                                                        R('^[\\+\\-–−]?\\d+(\\.\\d+)?$') | R('^[\\+\\-–−]\\d+(\\.\\d+)?$')))('value').add_action(merge)\n",
    "to_range = (R('^[\\+\\-–−]?\\d+(\\.\\d+)?$') + Optional(units).hide() + (I('to') +\n",
    "                                                                    R('^[\\+\\-–−]?\\d+(\\.\\d+)?$') | R('^[\\+\\-–−]\\d+(\\.\\d+)?$')))('value').add_action(join)\n",
    "\n",
    "prefix = Optional(I('a')).hide() + (Optional(lbrct) + W('Mw') + Optional(rbrct) | I('molecular') + Optional(I('weight'))\n",
    "                                    ).hide() + Optional(lbrct + W('Mw') + rbrct) + Optional(W('=') | I('of') | I('was') | I('is') | I('at')).hide() + Optional(I('in') + I('the') + I('range') + Optional(I('of')) | I('about') | ('around') | I('kgmol-1') | I('kg/mol')).hide()\n",
    "\n",
    "mw_first  = (words_pref + (Optional(lbrct) + abbrv_prefix + Optional(rbrct)) + ZeroOrMore(common_text) + value + units)(u'mw')\n",
    "mw_second = (prefix + value + units)(u'mw')\n",
    "mw_pattern = mw_first | mw_second\n",
    "\n",
    "class MwParser(BaseParser):\n",
    "    root = mw_pattern\n",
    "\n",
    "    def interpret(self, result, start, end):\n",
    "        compound = Compound(\n",
    "            mw_pattern=[\n",
    "                Mw(\n",
    "                    value=first(result.xpath('./value/text()')),\n",
    "                    units=first(result.xpath('./units/text()'))\n",
    "                )\n",
    "            ]\n",
    "        )\n",
    "        yield compound"
   ]
  },
  {
   "cell_type": "code",
   "execution_count": 17,
   "metadata": {},
   "outputs": [],
   "source": [
    "Sentence.parsers.append(MwParser())\n",
    "Paragraph.parsers.append(MwParser())"
   ]
  },
  {
   "cell_type": "code",
   "execution_count": 18,
   "metadata": {},
   "outputs": [],
   "source": [
    "doc = Document(\n",
    "    Paragraph(\"the polymer weighs about 100 kgmol-1\"),\n",
    "    Paragraph(\"PBDT has a molecular weight (Mw) of 110 kg/mol\"),\n",
    "    Paragraph(\"PSEHTT has a molecular weight (Mw) of 120 kgmol-1\"),\n",
    "    Paragraph(\"this PSEHTT has a molecular weight of 200 kgmol-1\"),\n",
    ")\n",
    "\n",
    "rec = doc.records.serialize()"
   ]
  },
  {
   "cell_type": "code",
   "execution_count": 19,
   "metadata": {},
   "outputs": [
    {
     "data": {
      "text/plain": [
       "[{'names': ['PBDT'],\n",
       "  'mw_pattern': [{'value': '200', 'units': 'kgmol-1'},\n",
       "   {'value': '120', 'units': 'kgmol-1'}]}]"
      ]
     },
     "execution_count": 19,
     "metadata": {},
     "output_type": "execute_result"
    }
   ],
   "source": [
    "rec"
   ]
  },
  {
   "cell_type": "code",
   "execution_count": null,
   "metadata": {},
   "outputs": [],
   "source": []
  },
  {
   "cell_type": "markdown",
   "metadata": {},
   "source": [
    "**FF Parser**"
   ]
  },
  {
   "cell_type": "code",
   "execution_count": 20,
   "metadata": {},
   "outputs": [],
   "source": [
    "class Ff(BaseModel):\n",
    "    value = StringType()\n",
    "    units = StringType()\n",
    "\n",
    "Compound.ff_pattern = ListType(ModelType(Ff))\n",
    "\n",
    "common_text = R('(\\w+)?\\D(\\D+)+(\\w+)?').hide()\n",
    "units = (W(u'%') | I(u'percent'))(u'units')\n",
    "value = R(u'\\d+(\\.\\d+)?')(u'value')\n",
    "\n",
    "abbrv_prefix = (I(u'FF') | I(u'ff')).hide()\n",
    "words_pref = (I(u'fill') + I(u'factor')).hide()\n",
    "hyphanated_pref = (I(u'fill') + I(u'-') + I('factor')).hide()\n",
    "joined_range = R('^[\\+\\-–−]?\\d+(\\.\\d+)?[\\-–−~∼˜]\\d+(\\.\\d+)?$')('value').add_action(merge)\n",
    "spaced_range = (R('^[\\+\\-–−]?\\d+(\\.\\d+)?$') + Optional(units).hide() + (R('^[\\-–−~∼˜]$') +\n",
    "                                                                        R('^[\\+\\-–−]?\\d+(\\.\\d+)?$') | R('^[\\+\\-–−]\\d+(\\.\\d+)?$')))('value').add_action(merge)\n",
    "to_range = (R('^[\\+\\-–−]?\\d+(\\.\\d+)?$') + Optional(units).hide() + (I('to') +\n",
    "                                                                    R('^[\\+\\-–−]?\\d+(\\.\\d+)?$') | R('^[\\+\\-–−]\\d+(\\.\\d+)?$')))('value').add_action(join)\n",
    "\n",
    "prefix = Optional(I('a')).hide() + (Optional(lbrct) + W('FF') + Optional(rbrct) | I('fill') + Optional(I('factor'))\n",
    "                                    ).hide() + Optional(lbrct + W('FF') + rbrct) + Optional(W('=') | I('of') | I('was') | I('is') | I('at')).hide() + Optional(I('in') + I('the') + I('range') + Optional(I('of')) | I('about') | ('around') | I('%')).hide()\n",
    "\n",
    "ff_first  = (words_pref + (Optional(lbrct) + abbrv_prefix + Optional(rbrct)) + ZeroOrMore(common_text) + value + units)(u'ff')\n",
    "ff_second = (prefix + value + units)(u'ff')\n",
    "ff_pattern = ff_first | ff_second\n",
    "\n",
    "class FfParser(BaseParser):\n",
    "    root = ff_pattern\n",
    "\n",
    "    def interpret(self, result, start, end):\n",
    "        compound = Compound(\n",
    "            ff_pattern=[\n",
    "                Ff(\n",
    "                    value=first(result.xpath('./value/text()')),\n",
    "                    units=first(result.xpath('./units/text()'))\n",
    "                )\n",
    "            ]\n",
    "        )\n",
    "        yield compound\n",
    "\n",
    "def parse_ff(list_of_sentences):\n",
    "    \"\"\" \n",
    "    Takes a list of sentences and parses for quantified PCE\n",
    "    information and relationships to chemicals/chemical labels\n",
    "    \"\"\"\n",
    "\n",
    "    Sentence.parsers.append(FfParser())\n",
    "\n",
    "    cde_senteces = [Sentence(sent).records.serialize()\n",
    "                    for sent in list_of_sentences]\n",
    "    return cde_senteces\n"
   ]
  },
  {
   "cell_type": "code",
   "execution_count": 21,
   "metadata": {},
   "outputs": [],
   "source": [
    "Sentence.parsers.append(FfParser())\n",
    "Paragraph.parsers.append(FfParser())"
   ]
  },
  {
   "cell_type": "code",
   "execution_count": 22,
   "metadata": {},
   "outputs": [],
   "source": [
    "doc = Document(\n",
    "    Paragraph(\"the fill factor (FF) is about 20%\"),\n",
    "    Paragraph(\"FF is about 30%\"),\n",
    ")\n",
    "\n",
    "rec = doc.records.serialize()"
   ]
  },
  {
   "cell_type": "code",
   "execution_count": 23,
   "metadata": {},
   "outputs": [
    {
     "data": {
      "text/plain": [
       "[{'ff_pattern': [{'value': '20', 'units': '%'}]},\n",
       " {'ff_pattern': [{'value': '30', 'units': '%'}]}]"
      ]
     },
     "execution_count": 23,
     "metadata": {},
     "output_type": "execute_result"
    }
   ],
   "source": [
    "rec"
   ]
  },
  {
   "cell_type": "markdown",
   "metadata": {},
   "source": [
    "### Compare to the testing dataset\n",
    "\n",
    "In this case we extract our information from abstracts from all 8 papers and then compare to what they have originally in the text. "
   ]
  },
  {
   "cell_type": "code",
   "execution_count": 24,
   "metadata": {},
   "outputs": [
    {
     "name": "stderr",
     "output_type": "stream",
     "text": [
      "c:\\users\\jtz93\\anaconda3\\envs\\matenv\\lib\\site-packages\\ipykernel_launcher.py:1: ParserWarning: Falling back to the 'python' engine because the 'c' engine does not support regex separators (separators > 1 char and different from '\\s+' are interpreted as regex); you can avoid this warning by specifying engine='python'.\n",
      "  \"\"\"Entry point for launching an IPython kernel.\n"
     ]
    }
   ],
   "source": [
    "test = pd.read_csv('../test_articles/test.csv',sep='\\t',delimiter='\\\\t')\n",
    "test_pce = test['PCE_ave']\n",
    "test_ff = test['FF']\n",
    "test_voc = test['Voc (V)']"
   ]
  },
  {
   "cell_type": "code",
   "execution_count": 26,
   "metadata": {},
   "outputs": [],
   "source": [
    "# abstract_doc = doc.elements[11]\n",
    "# abstract1_doc = doc1.elements[7] + doc1.elements[8]\n",
    "# abstract2_doc = doc2.elements[7] + doc2.elements[8]\n",
    "# abstract3_doc = doc3.elements[10]\n",
    "# abstract4_doc = doc4.elements[12]\n",
    "# abstract5_doc = doc5.elements[3] + doc5.elements[4]\n",
    "# abstract6_doc = doc6.elements[5] + doc6.elements[6] + doc6.elements[7] + doc6.elements[8]\n",
    "# abstract7_doc = doc7.elements[11]"
   ]
  },
  {
   "cell_type": "code",
   "execution_count": 28,
   "metadata": {},
   "outputs": [],
   "source": [
    "# goes back to the doc in paper0\n",
    "# abstract_doc = doc.elements[11]\n",
    "# abstract_doc"
   ]
  },
  {
   "cell_type": "code",
   "execution_count": 29,
   "metadata": {},
   "outputs": [],
   "source": [
    "# doc = Document(\n",
    "#     Heading(\"The followings are abstracts\"),\n",
    "#     abstract_doc,\n",
    "#     abstract1_doc,\n",
    "#     abstract2_doc,\n",
    "#     abstract3_doc,\n",
    "#     abstract4_doc,\n",
    "#     abstract5_doc,\n",
    "#     abstract6_doc,\n",
    "#     abstract7_doc\n",
    "# )\n",
    "\n",
    "# rec = doc.records.serialize()"
   ]
  },
  {
   "cell_type": "code",
   "execution_count": 30,
   "metadata": {},
   "outputs": [
    {
     "data": {
      "text/plain": [
       "[{'ff_pattern': [{'value': '20', 'units': '%'}]},\n",
       " {'ff_pattern': [{'value': '30', 'units': '%'}]}]"
      ]
     },
     "execution_count": 30,
     "metadata": {},
     "output_type": "execute_result"
    }
   ],
   "source": [
    "rec"
   ]
  },
  {
   "cell_type": "markdown",
   "metadata": {},
   "source": [
    "from the above we can see the following results, the tabulated \n",
    "\n",
    "| Paper          | PCE (real)   | PCE (found)  |\n",
    "| :------------- | :----------: | -----------: |\n",
    "| paper0         | 2.55,5.86    | 2.55, 5.86   |\n",
    "| paper1         | 5.52, 7.04   | 5.52, 1.76 (not exp), 6.3|\n",
    "| paper2         | 1.19, 0.79   | P1 and P2 problem|\n",
    "| paper3         | N/A          | no PCE reported in abst|\n",
    "| paper4         | 6.74, 4.44   | 6.74         |\n",
    "| paper5         | 1.33, None   | P1 and P2 problem |\n",
    "| paper6         | 0.22, 0.31,1.38 | 1.38      |\n",
    "| paper7         | 3.04, 1.91   | 1.91         |"
   ]
  },
  {
   "cell_type": "code",
   "execution_count": null,
   "metadata": {},
   "outputs": [],
   "source": []
  },
  {
   "cell_type": "code",
   "execution_count": 31,
   "metadata": {},
   "outputs": [],
   "source": [
    "doc_form = Document(\n",
    "    Heading(\"The followings are abstracts\"),\n",
    "    doc,\n",
    "    doc1,\n",
    "#     doc2,\n",
    "#     doc3,\n",
    "#     doc4,\n",
    "#     doc5,\n",
    "#     doc6,\n",
    "#     doc7\n",
    ")\n",
    "\n",
    "rec = doc_form.records.serialize()"
   ]
  },
  {
   "cell_type": "code",
   "execution_count": 32,
   "metadata": {},
   "outputs": [
    {
     "data": {
      "text/plain": [
       "[{'ff_pattern': [{'value': '20', 'units': '%'}]},\n",
       " {'ff_pattern': [{'value': '30', 'units': '%'}]},\n",
       " {'names': ['2,1,3-ben- zothiadiazole', 'BT']},\n",
       " {'names': ['4,7-dithien-2-yl-2,1,3-benzothiadiazole', 'DTBT']},\n",
       " {'names': ['ﬂuorenes,6a carbazoles,6b dibenzosiloles,2c dithienosiloles,6c ladder oligo-p- phenylenes,6d']},\n",
       " {'names': ['pyrrole']},\n",
       " {'names': ['PBDTTPDa']},\n",
       " {'names': ['P(o-tolyl)3']},\n",
       " {'names': ['toluene']},\n",
       " {'names': ['platinum']},\n",
       " {'names': ['Bu4NBF4']},\n",
       " {'names': ['CH3CN']},\n",
       " {'names': ['2,6-bis(trimethyltin)-4,8-di(2-ethylhexy- loxyl)benzo[1,2-b:4,5-b′]dithiophene7a and 1,3-dibromo-5-octylth- ieno-[3,4-c]pyrrole-4,6-dione8e']},\n",
       " {'names': ['o-dichlo- robenzene', 'ODCB']},\n",
       " {'names': ['BDT']},\n",
       " {'names': ['alkoxy']},\n",
       " {'names': ['ITO']},\n",
       " {'names': ['LiF']},\n",
       " {'names': ['Al']},\n",
       " {'names': ['poly(3,4-ethylenedioxy- thiophene )']},\n",
       " {'names': ['poly(styrenesulfonate)']},\n",
       " {'names': ['lithium ﬂuoride ( LiF )']},\n",
       " {'names': ['low-band-gap thieno[3,4-c]pyrrole-4,6- dione']},\n",
       " {'names': ['Met']},\n",
       " {'names': ['JA101888B']},\n",
       " {'names': ['benzodithiophenes', 'BDTs']},\n",
       " {'names': ['alkyl']},\n",
       " {'names': ['chloroform']},\n",
       " {'names': ['PEDOT']},\n",
       " {'names': ['1,2,4-trichlorobenzene', 'TCB']},\n",
       " {'names': ['C O M M U N I C A T I O N S'],\n",
       "  'voc_pattern': [{'value': '0.85', 'units': 'V'}]},\n",
       " {'names': ['H']},\n",
       " {'names': ['Pomerantz']},\n",
       " {'names': ['6,6-phenyl-C61-butyric acid methyl ester', 'PC61BM']},\n",
       " {'names': ['PC71BM', '[6,6]-phenyl-C71-butyric acid methyl ester'],\n",
       "  'labels': ['9']},\n",
       " {'names': ['Li']},\n",
       " {'names': ['Thieno[3,4-c]pyrrole-4,6-dione',\n",
       "   'thieno[3,4-c]pyrrole-4,6-dione',\n",
       "   'TPD',\n",
       "   'thieno[3,4- c]pyrrole-4,6-dione'],\n",
       "  'glass_transitions': [{'value': '138', 'units': '°C'}]},\n",
       " {'names': ['PBDTTPD'], 'roles': ['data for']}]"
      ]
     },
     "execution_count": 32,
     "metadata": {},
     "output_type": "execute_result"
    }
   ],
   "source": [
    "rec"
   ]
  },
  {
   "cell_type": "code",
   "execution_count": 33,
   "metadata": {},
   "outputs": [],
   "source": [
    "import json"
   ]
  },
  {
   "cell_type": "code",
   "execution_count": 34,
   "metadata": {},
   "outputs": [],
   "source": [
    "with open(\"data_file.json\", \"w\") as write_file:\n",
    "    json.dump(rec, write_file)"
   ]
  },
  {
   "cell_type": "markdown",
   "metadata": {},
   "source": [
    "**Table Parser**"
   ]
  },
  {
   "cell_type": "markdown",
   "metadata": {},
   "source": [
    "Try samples on some xml files extracted before. We can utilize CDE's table parser in the scraper section. They have already included the "
   ]
  },
  {
   "cell_type": "code",
   "execution_count": 35,
   "metadata": {},
   "outputs": [],
   "source": [
    "from chemdataextractor import scrape as scrape"
   ]
  },
  {
   "cell_type": "code",
   "execution_count": null,
   "metadata": {},
   "outputs": [],
   "source": []
  },
  {
   "cell_type": "markdown",
   "metadata": {},
   "source": [
    "**Mol Parser**"
   ]
  },
  {
   "cell_type": "code",
   "execution_count": null,
   "metadata": {},
   "outputs": [],
   "source": []
  },
  {
   "cell_type": "code",
   "execution_count": null,
   "metadata": {},
   "outputs": [],
   "source": []
  }
 ],
 "metadata": {
  "kernelspec": {
   "display_name": "Python 3",
   "language": "python",
   "name": "python3"
  },
  "language_info": {
   "codemirror_mode": {
    "name": "ipython",
    "version": 3
   },
   "file_extension": ".py",
   "mimetype": "text/x-python",
   "name": "python",
   "nbconvert_exporter": "python",
   "pygments_lexer": "ipython3",
   "version": "3.7.4"
  }
 },
 "nbformat": 4,
 "nbformat_minor": 2
}
