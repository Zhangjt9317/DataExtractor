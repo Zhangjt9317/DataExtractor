{
 "cells": [
  {
   "cell_type": "markdown",
   "metadata": {},
   "source": [
    "## Test on Properties\n",
    "\n",
    "This notebook focuses on customizing parsers that can be used to extract information\n",
    "\n",
    "In this case we are going to try to check for data patching and parsers at the same time. If the extracted properties misalign with compounds extracted, the project would be meaningless.\n",
    "\n",
    "\n",
    "10/15/2019 meeting \n",
    "\n",
    "Challenge:\n",
    "\n",
    "1. in parser, if a full name with a abbrev in () it will not recognize\n",
    "2. too messy data paragraphs --> cannot efficiently recognize \n"
   ]
  },
  {
   "cell_type": "code",
   "execution_count": 1,
   "metadata": {},
   "outputs": [],
   "source": [
    "import logging\n",
    "import re\n",
    "import pandas as pd\n",
    "import urllib\n",
    "import time\n",
    "\n",
    "import chemdataextractor as cde\n",
    "from chemdataextractor import Document\n",
    "from chemdataextractor.model import Compound, UvvisSpectrum, UvvisPeak, BaseModel, StringType, ListType, ModelType\n",
    "from chemdataextractor.parse.common import hyphen,lbrct, dt, rbrct\n",
    "from chemdataextractor.parse.base import BaseParser\n",
    "from chemdataextractor.utils import first\n",
    "\n",
    "from chemdataextractor.parse.actions import strip_stop\n",
    "from chemdataextractor.parse.elements import W, I, T, R, Optional, ZeroOrMore, OneOrMore, Or, And\n",
    "from chemdataextractor.parse.cem import chemical_name,cem, chemical_label, lenient_chemical_label, solvent_name\n",
    "from chemdataextractor.doc import Paragraph, Sentence, Caption, Figure,Table, Heading\n",
    "from chemdataextractor.doc.table import Table, Cell"
   ]
  },
  {
   "cell_type": "code",
   "execution_count": 2,
   "metadata": {},
   "outputs": [],
   "source": [
    "from chemdataextractor.text.chem import SOLVENT_RE, INCHI_RE, SMILES_RE"
   ]
  },
  {
   "cell_type": "code",
   "execution_count": 3,
   "metadata": {},
   "outputs": [],
   "source": [
    "# open and read files\n",
    "f = open('../test_articles/paper0.pdf', 'rb')\n",
    "doc = Document.from_file(f)\n",
    "abstract = [11]\n",
    "paras = doc.elements\n",
    "cems = doc.cems\n",
    "\n",
    "f1 = open('../test_articles/paper1.pdf', 'rb')\n",
    "doc1 = Document.from_file(f1)\n",
    "abstract1 = [7,8]\n",
    "paras1 = doc1.elements\n",
    "cems1 = doc1.cems\n",
    "\n",
    "f2 = open('../test_articles/paper2.pdf', 'rb')\n",
    "doc2 = Document.from_file(f2)\n",
    "abstract2 = [7,8]\n",
    "paras2 = doc2.elements\n",
    "cems2 = doc2.cems\n",
    "\n",
    "f3 = open('../test_articles/paper3.pdf', 'rb')\n",
    "doc3 = Document.from_file(f3)\n",
    "abstract3 = [10]\n",
    "paras3 = doc3.elements\n",
    "cems3 = doc3.cems\n",
    "\n",
    "f4 = open('../test_articles/paper4.pdf', 'rb')\n",
    "doc4 = Document.from_file(f4)\n",
    "abstract4 = [12]\n",
    "paras4 = doc4.elements\n",
    "cems4 = doc4.cems\n",
    "\n",
    "f5 = open('../test_articles/paper5.pdf', 'rb')\n",
    "doc5 = Document.from_file(f5)\n",
    "abstract5 = [3,4]\n",
    "paras5 = doc5.elements\n",
    "cems5 = doc5.cems\n",
    "\n",
    "f6 = open('../test_articles/paper6.pdf', 'rb')\n",
    "doc6 = Document.from_file(f6)\n",
    "abstract6 = [5,6,7,8]\n",
    "paras6 = doc6.elements\n",
    "cems6 = doc6.cems\n",
    "\n",
    "f7 = open('../test_articles/paper7.pdf', 'rb')\n",
    "doc7 = Document.from_file(f7)\n",
    "abstract7 = [11]\n",
    "paras7 = doc7.elements\n",
    "cems7 = doc7.cems"
   ]
  },
  {
   "cell_type": "code",
   "execution_count": 4,
   "metadata": {},
   "outputs": [],
   "source": [
    "# split the paragraph into elements\n",
    "paras = doc.elements\n",
    "cems = doc.cems\n",
    "a = doc.records.serialize()"
   ]
  },
  {
   "cell_type": "markdown",
   "metadata": {},
   "source": [
    "PCE and FF works fine, as well as other quantities end in %. For other units, further customization required\n",
    "\n",
    "Most of properties from literature have the same layout, so if one example works, the rest of them should work too.\n",
    "\n",
    "Any unit with simple expression (1 component) is easy to extract. Otherwise a combination is needed."
   ]
  },
  {
   "cell_type": "markdown",
   "metadata": {},
   "source": [
    "An example from CDE. Tg parser's regex phrase is defined in the following code. Our parser should be based on this too."
   ]
  },
  {
   "cell_type": "code",
   "execution_count": 5,
   "metadata": {},
   "outputs": [],
   "source": [
    "# All hyphen and minus characters. Probably more robust than the hyph POS tag.\n",
    "hyphen = R('^[\\-‐‑⁃‒–—―−－⁻]$')\n",
    "\n",
    "# All quote and apostrophe characters\n",
    "quote = R('^[\\'’՚Ꞌꞌ＇‘’‚‛\"“”„‟`´’‘]$')\n",
    "\n",
    "slash = W('/')"
   ]
  },
  {
   "cell_type": "code",
   "execution_count": 6,
   "metadata": {},
   "outputs": [],
   "source": [
    "from chemdataextractor.model import Compound, UvvisSpectrum, UvvisPeak, BaseModel, StringType, ListType, ModelType\n",
    "from chemdataextractor.parse.common import hyphen,lbrct, dt, rbrct\n",
    "from chemdataextractor.parse.base import BaseParser\n",
    "from chemdataextractor.utils import first\n",
    "from chemdataextractor.parse.actions import strip_stop, merge, join\n",
    "from chemdataextractor.parse.elements import W, I, T, R, Optional, ZeroOrMore, OneOrMore, Not, Any\n",
    "from chemdataextractor.parse.cem import chemical_name\n",
    "from chemdataextractor.doc import Paragraph, Sentence\n",
    "from chemdataextractor.model import GlassTransition, Compound\n",
    "\n",
    "log = logging.getLogger(__name__)\n",
    "\n",
    "prefix = Optional(I('a')).hide() + (Optional(lbrct) + W('Tg') + Optional(rbrct) | I('glass') + Optional(I('transition')) + Optional((I('temperature') | I('range') | I('temp.'))) | W('transition') + Optional((I('temperature') | I('range') | I('temp.')))\n",
    "                                    ).hide() + Optional(lbrct + W('Tg') + rbrct) + Optional(W('=') | I('of') | I('was') | I('is') | I('at')).hide() + Optional(I('in') + I('the') + I('range') + Optional(I('of')) | I('about') | ('around') | I('ca') | I('ca.')).hide()\n",
    "\n",
    "delim = R('^[:;\\.,]$')\n",
    "\n",
    "# TODO: Consider allowing degree symbol to be optional. The prefix should be restrictive enough to stop false positives.\n",
    "units = (W('°') + Optional(R('^[CFK]\\.?$')) |\n",
    "         W('K\\.?'))('units').add_action(merge)\n",
    "\n",
    "joined_range = R('^[\\+\\-–−]?\\d+(\\.\\d+)?[\\-–−~∼˜]\\d+(\\.\\d+)?$')('value').add_action(merge)\n",
    "\n",
    "spaced_range = (R('^[\\+\\-–−]?\\d+(\\.\\d+)?$') + Optional(units).hide() + (R('^[\\-–−~∼˜]$') +\n",
    "                                                                        R('^[\\+\\-–−]?\\d+(\\.\\d+)?$') | R('^[\\+\\-–−]\\d+(\\.\\d+)?$')))('value').add_action(merge)\n",
    "\n",
    "to_range = (R('^[\\+\\-–−]?\\d+(\\.\\d+)?$') + Optional(units).hide() + (I('to') +\n",
    "                                                                    R('^[\\+\\-–−]?\\d+(\\.\\d+)?$') | R('^[\\+\\-–−]\\d+(\\.\\d+)?$')))('value').add_action(join)\n",
    "\n",
    "temp_range = (Optional(R('^[\\-–−]$')) + (joined_range | spaced_range | to_range))('value').add_action(merge)\n",
    "\n",
    "temp_value = (Optional(R('^[~∼˜\\<\\>]$')) + Optional(R('^[\\-–−]$')) +\n",
    "              R('^[\\+\\-–−]?\\d+(\\.\\d+)?$'))('value').add_action(merge)\n",
    "\n",
    "temp = Optional(lbrct).hide() + (temp_range | temp_value)('value') + Optional(rbrct).hide()\n",
    "\n",
    "tg = (prefix + Optional(delim).hide() + temp + units)('tg')\n",
    "\n",
    "bracket_any = lbrct + OneOrMore(Not(tg) + Not(rbrct) + Any()) + rbrct\n",
    "\n",
    "cem_tg_phrase = (Optional(cem) + Optional(I('having')).hide() + Optional(delim).hide() + Optional(\n",
    "    bracket_any).hide() + Optional(delim).hide() + Optional(lbrct) + tg + Optional(rbrct))('tg_phrase')\n",
    "\n",
    "obtained_tg_phrase = ((cem | chemical_label) + (I('is') | I('are') | I('was')).hide() + (I('measured') |\n",
    "                                                                                         I('obtained') | I('yielded')).hide() + ZeroOrMore(Not(tg) + Not(cem) + Any()).hide() + tg)('tg_phrase')\n",
    "\n",
    "#tg_phrase = cem_tg_phrase | method1_phrase | method2_phrase | method3_phrase | obtained_tg_phrase\n",
    "tg_phrase = cem_tg_phrase | obtained_tg_phrase\n",
    "\n",
    "\n",
    "class TgParser(BaseParser):\n",
    "    \"\"\"\"\"\"\n",
    "    root = tg_phrase\n",
    "\n",
    "    #print ('outside parser', tg_phrase, type(tg_phrase))\n",
    "\n",
    "    def interpret(self, result, start, end):\n",
    "        compound = Compound(\n",
    "            glass_transitions=[\n",
    "                GlassTransition(\n",
    "                    value=first(result.xpath('./tg/value/text()')),\n",
    "                    units=first(result.xpath('./tg/units/text()'))\n",
    "                )\n",
    "            ]\n",
    "        )\n",
    "        cem_el = first(result.xpath('./cem'))\n",
    "        if cem_el is not None:\n",
    "            compound.names = cem_el.xpath('./name/text()')\n",
    "            compound.labels = cem_el.xpath('./label/text()')\n",
    "        yield compound"
   ]
  },
  {
   "cell_type": "code",
   "execution_count": 32,
   "metadata": {},
   "outputs": [],
   "source": [
    "\"\"\"\n",
    "DataExtractor.parsers.pce\n",
    "~~~~~~~~~~~~~~~~~~~~~~~~~~~~~\n",
    "\n",
    "This is built on top of the chemdataextractor module:\n",
    "'chemdataextractor.parse.uvvis' as an example for implementaion of the\n",
    "chemdataextractor pasing syntax.\n",
    "\n",
    "Parses the power conversion efficiency, it can be applied to solar cells.\n",
    "PCE is one key parameter to measure the performance of solar cells.\n",
    "\n",
    "\"\"\"\n",
    "\n",
    "import logging\n",
    "import re\n",
    "\n",
    "from chemdataextractor.model import Compound, UvvisSpectrum, UvvisPeak, BaseModel, StringType, ListType, ModelType\n",
    "from chemdataextractor.parse.common import hyphen\n",
    "from chemdataextractor.parse.base import BaseParser\n",
    "from chemdataextractor.utils import first\n",
    "from chemdataextractor.parse.actions import strip_stop\n",
    "from chemdataextractor.parse.elements import W, I, T, R, Optional, ZeroOrMore, OneOrMore\n",
    "from chemdataextractor.parse.cem import chemical_name\n",
    "from chemdataextractor.doc import Paragraph, Sentence\n",
    "\n",
    "\n",
    "class Pce(BaseModel):\n",
    "    value = StringType()\n",
    "    units = StringType()\n",
    "\n",
    "Compound.pce_pattern = ListType(ModelType(Pce))\n",
    "\n",
    "abbrv_prefix = (I(u'PCE') | I(u'PCEs') | I(u'pce')).hide()\n",
    "words_pref = (I(u'power') + I(u'conversion') + I(u'efficiency')).hide()\n",
    "hyphanated_pref = (I(u'power') + I(u'-') + I('conversion') + I(u'efficiency')).hide()\n",
    "joined_range = R('^[\\+\\-–−]?\\d+(\\.\\d+)?[\\-–−~∼˜]\\d+(\\.\\d+)?$')('value').add_action(merge)\n",
    "spaced_range = (R('^[\\+\\-–−]?\\d+(\\.\\d+)?$') + Optional(units).hide() + (R('^[\\-–−~∼˜]$') +\n",
    "                                                                        R('^[\\+\\-–−]?\\d+(\\.\\d+)?$') | R('^[\\+\\-–−]\\d+(\\.\\d+)?$')))('value').add_action(merge)\n",
    "to_range = (R('^[\\+\\-–−]?\\d+(\\.\\d+)?$') + Optional(units).hide() + (I('to') +\n",
    "                                                                    R('^[\\+\\-–−]?\\d+(\\.\\d+)?$') | R('^[\\+\\-–−]\\d+(\\.\\d+)?$')))('value').add_action(join)\n",
    "\n",
    "prefix = Optional(I('a')).hide() + (Optional(lbrct) + W('PCE') + Optional(rbrct) | I('power') + Optional(I('conversion')) + Optional((I('efficiency') | I('range'))) + Optional((I('temperature') | I('range')))\n",
    "                                    ).hide() + Optional(lbrct + W('PCE') + rbrct) + Optional(W('=') | I('of') | I('was') | I('is') | I('at')).hide() + Optional(I('in') + I('the') + I('range') + Optional(I('of')) | I('about') | ('around') | I('%')).hide()\n",
    "\n",
    "# prefix = abbrv_prefix | words_pref | hyphanated_pref\n",
    "\n",
    "common_text = R('(\\w+)?\\D(\\D+)+(\\w+)?').hide()\n",
    "units = (W(u'%') | I(u'percent'))(u'units')\n",
    "value = R(u'\\d+(\\.\\d+)?')(u'value')\n",
    "\n",
    "pce_first  = (words_pref + (Optional(lbrct) + abbrv_prefix + Optional(rbrct)) + ZeroOrMore(common_text) + value + units)(u'pce')\n",
    "# pce_first = (prefix + ZeroOrMore(common_text) + value + units)(u'pce')\n",
    "pce_second = (prefix + value + units)(u'pce')\n",
    "pce_pattern = pce_first | pce_second\n",
    "\n",
    "class PceParser(BaseParser):\n",
    "    root = pce_pattern\n",
    "\n",
    "    def interpret(self, result, start, end):\n",
    "        compound = Compound(\n",
    "            pce_pattern=[\n",
    "                Pce(\n",
    "                    value=first(result.xpath('./value/text()')),\n",
    "                    units=first(result.xpath('./units/text()'))\n",
    "                )\n",
    "            ]\n",
    "        )\n",
    "        yield compound"
   ]
  },
  {
   "cell_type": "code",
   "execution_count": 33,
   "metadata": {},
   "outputs": [],
   "source": [
    "# Sentence.parsers.append(FfParser())\n",
    "# Paragraph.parsers.append(FfParser())\n",
    "\n",
    "# Sentence.parsers.append(VocParser())\n",
    "# Paragraph.parsers.append(VocParser())\n",
    "\n",
    "Sentence.parsers.append(PceParser())\n",
    "Paragraph.parsers.append(PceParser())"
   ]
  },
  {
   "cell_type": "code",
   "execution_count": 34,
   "metadata": {},
   "outputs": [],
   "source": [
    "doc = Document(\n",
    "#     Heading('5,10,15,20-Tetra(4-carboxyphenyl)porphyrin (3).'),\n",
    "#     Paragraph('a glass-transition temperature (Tg) of 20°C'),\n",
    "    Paragraph('open circuit voltage (voc) equal to 0.7 V'),\n",
    "    Paragraph('Voc of 0.8 V'),\n",
    "    Paragraph('we have a PCE of 10%'),\n",
    "    Paragraph('It has been found that PSHQ4 has a Tg of ca. 130°'),\n",
    "    Paragraph('with the short circuit current density (Jsc) of 12 mAcm-2'),\n",
    "    Paragraph('material with a fill factor (ff) of 0.2'),\n",
    ")\n",
    "\n",
    "rec = doc.records.serialize()"
   ]
  },
  {
   "cell_type": "code",
   "execution_count": 35,
   "metadata": {},
   "outputs": [
    {
     "data": {
      "text/plain": [
       "[{'glass_transitions': [{'value': '130', 'units': '°'}]}]"
      ]
     },
     "execution_count": 35,
     "metadata": {},
     "output_type": "execute_result"
    }
   ],
   "source": [
    "rec"
   ]
  },
  {
   "cell_type": "markdown",
   "metadata": {},
   "source": [
    "In this case we can test on doc7 on data patching. "
   ]
  },
  {
   "cell_type": "code",
   "execution_count": 12,
   "metadata": {},
   "outputs": [
    {
     "data": {
      "text/html": [
       "<p class=\"cde-paragraph\">ABSTRACT: We report the synthesis, properties, and photo-\n",
       "voltaic applications of new π-conjugated polymers having\n",
       "thiophene, 3,4-dihexylthiophene, and 1,3,4-oxadiazole (OXD) or\n",
       "1,3,4-thiadiazole (TD) units in the main chain, denoted as P1 and\n",
       "P2. They were synthesized by the Stille coupling reaction of 2,5-\n",
       "bis(trimethylstannyl)thiophene and the corresponding monomers\n",
       "of 2,5-bis(5′-bromo-3′,4′-dihexylthien-2′-yl)-1,3,4-oxadiazole or\n",
       "2,5-bis(5′-bromo-3′,4′-dihexylthien-2′-yl)-1,3,4-thiadiazole,\n",
       "re-\n",
       "spectively. The experimental results indicated that the introduc-\n",
       "tion of an electron-accepting moiety of OXD or TD lowered the\n",
       "highest occupied molecular orbital (HOMO) energy levels,\n",
       "resulting in the higher the open-circuit voltage (Voc) values of\n",
       "polymer solar cells (PSCs). Indeed, the PSCs of P1 and P2\n",
       "showed high Voc values in the range 0.80−0.90 V. The highest\n",
       "ﬁeld-eﬀect transistor (FET) mobilities of P1 and P2 with the OXD and TD moieties, respectively, were 1.41 × 10−3 and 8.81 ×\n",
       "10−2 cm2 V−1 s−1. The higher mobility of P2 was related to its orderly nanoﬁbrillar structure, as evidenced from the TEM images.\n",
       "Moreover, the higher absorption coeﬃcient and smaller band gap of P2 provided a more eﬃcient light-harvesting ability. The\n",
       "power conversion eﬃciency (PCE) of the PSC based on P2:PCBM = 1:1 (w/w) reached 3.04% with a short-circuit current\n",
       "density (Jsc) value of 6.60 mA/cm2, a Voc value of 0.80 V, and a ﬁll factor (FF) value of 0.576 during the illumination of AM 1.5,\n",
       "100 mW/cm2. In comparison,\n",
       "the electron-accepting moiety exhibited an inferior device\n",
       "performance (FET mobility = 2.10 × 10−4 cm2 V−1 s−1 and PCE = 1.91%). The experimental results demonstrated that\n",
       "incorporating the electron-acceptor moiety into the polythiophene backbone could enhance the device performance due to the\n",
       "low-lying HOMO levels, compact packing structure, and high charge carrier mobility. This is the ﬁrst report for the achievement\n",
       "of PCE > 3% using PSCs based on polythiophenes having TD units in the main chain.</p>"
      ],
      "text/plain": [
       "Paragraph(id=None, references=[], text='ABSTRACT: We report the synthesis, properties, and photo-\\nvoltaic applications of new π-conjugated polymers having\\nthiophene, 3,4-dihexylthiophene, and 1,3,4-oxadiazole (OXD) or\\n1,3,4-thiadiazole (TD) units in the main chain, denoted as P1 and\\nP2. They were synthesized by the Stille coupling reaction of 2,5-\\nbis(trimethylstannyl)thiophene and the corresponding monomers\\nof 2,5-bis(5′-bromo-3′,4′-dihexylthien-2′-yl)-1,3,4-oxadiazole or\\n2,5-bis(5′-bromo-3′,4′-dihexylthien-2′-yl)-1,3,4-thiadiazole,\\nre-\\nspectively. The experimental results indicated that the introduc-\\ntion of an electron-accepting moiety of OXD or TD lowered the\\nhighest occupied molecular orbital (HOMO) energy levels,\\nresulting in the higher the open-circuit voltage (Voc) values of\\npolymer solar cells (PSCs). Indeed, the PSCs of P1 and P2\\nshowed high Voc values in the range 0.80−0.90 V. The highest\\nﬁeld-eﬀect transistor (FET) mobilities of P1 and P2 with the OXD and TD moieties, respectively, were 1.41 × 10−3 and 8.81 ×\\n10−2 cm2 V−1 s−1. The higher mobility of P2 was related to its orderly nanoﬁbrillar structure, as evidenced from the TEM images.\\nMoreover, the higher absorption coeﬃcient and smaller band gap of P2 provided a more eﬃcient light-harvesting ability. The\\npower conversion eﬃciency (PCE) of the PSC based on P2:PCBM = 1:1 (w/w) reached 3.04% with a short-circuit current\\ndensity (Jsc) value of 6.60 mA/cm2, a Voc value of 0.80 V, and a ﬁll factor (FF) value of 0.576 during the illumination of AM 1.5,\\n100 mW/cm2. In comparison,\\nthe electron-accepting moiety exhibited an inferior device\\nperformance (FET mobility = 2.10 × 10−4 cm2 V−1 s−1 and PCE = 1.91%). The experimental results demonstrated that\\nincorporating the electron-acceptor moiety into the polythiophene backbone could enhance the device performance due to the\\nlow-lying HOMO levels, compact packing structure, and high charge carrier mobility. This is the ﬁrst report for the achievement\\nof PCE > 3% using PSCs based on polythiophenes having TD units in the main chain.')"
      ]
     },
     "execution_count": 12,
     "metadata": {},
     "output_type": "execute_result"
    }
   ],
   "source": [
    "doc7[11]"
   ]
  },
  {
   "cell_type": "code",
   "execution_count": 13,
   "metadata": {},
   "outputs": [],
   "source": [
    "doc = Document(\n",
    "    Heading('Abstract:'),\n",
    "    Paragraph('We report the synthesis, properties, and photo- voltaic applications of new π-conjugated polymers having thiophene, 3,4-dihexylthiophene, and 1,3,4-oxadiazole (OXD) or 1,3,4-thiadiazole (TD) units in the main chain, denoted as P1 and P2. They were synthesized by the Stille coupling reaction of 2,5- bis(trimethylstannyl)thiophene and the corresponding monomers of 2,5-bis(5′-bromo-3′,4′-dihexylthien-2′-yl)-1,3,4-oxadiazole or 2,5-bis(5′-bromo-3′,4′-dihexylthien-2′-yl)-1,3,4-thiadiazole, re- spectively. '),\n",
    "    Paragraph('The experimental results indicated that the introduc- tion of an electron-accepting moiety of OXD or TD lowered the highest occupied molecular orbital (HOMO) energy levels, resulting in the higher the open-circuit voltage (Voc) values of polymer solar cells (PSCs). Indeed, the PSCs of P1 and P2 showed high Voc values in the range 0.80−0.90 V. The highest ﬁeld-eﬀect transistor (FET) mobilities of P1 and P2 with the OXD and TD moieties, respectively, were 1.41 × 10−3 and 8.81 × 10−2 cm2 V−1 s−1. '),\n",
    "    Paragraph('The higher mobility of P2 was related to its orderly nanoﬁbrillar structure, as evidenced from the TEM images. Moreover, the higher absorption coeﬃcient and smaller band gap of P2 provided a more eﬃcient light-harvesting ability. '),\n",
    "    Paragraph('The power conversion eﬃciency (PCE) of the PSC based on P2:PCBM = 1:1 (w/w) reached 3.04 % with a short-circuit current density (Jsc) value of 6.60 mA/cm2, a Voc value of 0.80 V, and a fill factor value of 57.6% during the illumination of AM 1.5, 100 mW/cm2. '),\n",
    "    Paragraph('In comparison, the electron-accepting moiety exhibited an inferior device performance (FET mobility = 2.10 × 10−4 cm2 V−1 s−1 and PCE = 1.91%). The experimental results demonstrated that incorporating the electron-acceptor moiety into the polythiophene backbone could enhance the device performance due to the low-lying HOMO levels, compact packing structure, and high charge carrier mobility. This is the ﬁrst report for the achievement of PCE > 3% using PSCs based on polythiophenes having TD units in the main chain.')\n",
    ")\n",
    "\n",
    "rec = doc.records.serialize()"
   ]
  },
  {
   "cell_type": "markdown",
   "metadata": {},
   "source": [
    "### Example to run on the abstract"
   ]
  },
  {
   "cell_type": "code",
   "execution_count": 14,
   "metadata": {},
   "outputs": [],
   "source": [
    "def abstract_ext(paras):\n",
    "    \"\"\"\n",
    "    Abstract extraction from text\n",
    "    [] paras\n",
    "    \"\"\"\n",
    "    abstract = []\n",
    "    for i in range(len(paras)):\n",
    "        if (\"Abstract\" in paras[i].text or \"ABSTRACT\" in paras[i].text):\n",
    "            abstract.append(paras[i])\n",
    "    return abstract"
   ]
  },
  {
   "cell_type": "code",
   "execution_count": 15,
   "metadata": {},
   "outputs": [],
   "source": [
    "abs_text = abstract_ext(paras)\n",
    "abs_text1 = abstract_ext(paras1)\n",
    "abs_text2 = abstract_ext(paras2)\n",
    "abs_text3 = abstract_ext(paras3)\n",
    "abs_text4 = abstract_ext(paras4)\n",
    "abs_text5 = abstract_ext(paras5)\n",
    "abs_text6 = abstract_ext(paras6)\n",
    "abs_text7 = abstract_ext(paras7)"
   ]
  },
  {
   "cell_type": "markdown",
   "metadata": {},
   "source": [
    "### Test on Abstracts\n",
    "\n",
    "1. Test on Saeki sensei's paper\n",
    "2. "
   ]
  },
  {
   "cell_type": "code",
   "execution_count": 16,
   "metadata": {},
   "outputs": [
    {
     "ename": "IndexError",
     "evalue": "list index out of range",
     "output_type": "error",
     "traceback": [
      "\u001b[1;31m---------------------------------------------------------------------------\u001b[0m",
      "\u001b[1;31mIndexError\u001b[0m                                Traceback (most recent call last)",
      "\u001b[1;32m<ipython-input-16-488d7e4871c2>\u001b[0m in \u001b[0;36m<module>\u001b[1;34m\u001b[0m\n\u001b[1;32m----> 1\u001b[1;33m \u001b[0mabstract_doc\u001b[0m \u001b[1;33m=\u001b[0m \u001b[0mdoc\u001b[0m\u001b[1;33m.\u001b[0m\u001b[0melements\u001b[0m\u001b[1;33m[\u001b[0m\u001b[1;36m11\u001b[0m\u001b[1;33m]\u001b[0m\u001b[1;33m\u001b[0m\u001b[1;33m\u001b[0m\u001b[0m\n\u001b[0m\u001b[0;32m      2\u001b[0m \u001b[0mabstract_doc\u001b[0m\u001b[1;33m.\u001b[0m\u001b[0mrecords\u001b[0m\u001b[1;33m.\u001b[0m\u001b[0mserialize\u001b[0m\u001b[1;33m(\u001b[0m\u001b[1;33m)\u001b[0m\u001b[1;33m\u001b[0m\u001b[1;33m\u001b[0m\u001b[0m\n",
      "\u001b[1;31mIndexError\u001b[0m: list index out of range"
     ]
    }
   ],
   "source": [
    "abstract_doc = doc.elements[11]\n",
    "abstract_doc.records.serialize()"
   ]
  },
  {
   "cell_type": "code",
   "execution_count": null,
   "metadata": {},
   "outputs": [],
   "source": [
    "abstract1_doc = doc1.elements[7] + doc1.elements[8]\n",
    "abstract1_doc.records.serialize()"
   ]
  },
  {
   "cell_type": "code",
   "execution_count": null,
   "metadata": {},
   "outputs": [],
   "source": [
    "abstract2_doc = doc2.elements[7] + doc2.elements[8]\n",
    "abstract2_doc.records.serialize()"
   ]
  },
  {
   "cell_type": "code",
   "execution_count": null,
   "metadata": {},
   "outputs": [],
   "source": [
    "abstract3_doc = doc3.elements[10]\n",
    "abstract3_doc.records.serialize()"
   ]
  },
  {
   "cell_type": "code",
   "execution_count": null,
   "metadata": {},
   "outputs": [],
   "source": [
    "abstract4_doc = doc4.elements[12]\n",
    "abstract4_doc.records.serialize()"
   ]
  },
  {
   "cell_type": "code",
   "execution_count": null,
   "metadata": {},
   "outputs": [],
   "source": [
    "abstract5_doc = doc5.elements[3] + doc5.elements[4]\n",
    "abstract5_doc.records.serialize()"
   ]
  },
  {
   "cell_type": "code",
   "execution_count": null,
   "metadata": {},
   "outputs": [],
   "source": [
    "abstract6_doc = doc6.elements[5] + doc6.elements[6] + doc6.elements[7] + doc6.elements[8]\n",
    "abstract6_doc.records.serialize()"
   ]
  },
  {
   "cell_type": "code",
   "execution_count": null,
   "metadata": {},
   "outputs": [],
   "source": [
    "abstract7_doc = doc7.elements[11]\n",
    "abstract7_doc.records.serialize()"
   ]
  },
  {
   "cell_type": "markdown",
   "metadata": {},
   "source": [
    "### Refer to the tese dataset"
   ]
  },
  {
   "cell_type": "code",
   "execution_count": null,
   "metadata": {},
   "outputs": [],
   "source": [
    "test = pd.read_csv(\"../test_articles/test.csv\",sep=\"/t\",delimiter=\"\\\\t\")\n",
    "test"
   ]
  },
  {
   "cell_type": "code",
   "execution_count": null,
   "metadata": {},
   "outputs": [],
   "source": []
  },
  {
   "cell_type": "code",
   "execution_count": null,
   "metadata": {},
   "outputs": [],
   "source": []
  }
 ],
 "metadata": {
  "kernelspec": {
   "display_name": "Python 3",
   "language": "python",
   "name": "python3"
  },
  "language_info": {
   "codemirror_mode": {
    "name": "ipython",
    "version": 3
   },
   "file_extension": ".py",
   "mimetype": "text/x-python",
   "name": "python",
   "nbconvert_exporter": "python",
   "pygments_lexer": "ipython3",
   "version": "3.6.9"
  }
 },
 "nbformat": 4,
 "nbformat_minor": 4
}
