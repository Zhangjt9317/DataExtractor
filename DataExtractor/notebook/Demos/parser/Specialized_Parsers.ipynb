{
 "cells": [
  {
   "cell_type": "markdown",
   "metadata": {},
   "source": [
    "## Specializing Parsers Here\n",
    "\n",
    "Following the original code from CDE we can customize our parsers to great varieties. The \n",
    "\n"
   ]
  },
  {
   "cell_type": "code",
<<<<<<< HEAD
   "execution_count": 2,
=======
   "execution_count": 1,
>>>>>>> 4ac0aa6255f7b2407e14e3d87e194b0b6c85ce02
   "metadata": {},
   "outputs": [],
   "source": [
    "import logging\n",
    "import re\n",
    "import pandas as pd\n",
    "import urllib\n",
    "import time\n",
    "\n",
    "import chemdataextractor as cde\n",
    "from chemdataextractor import Document\n",
    "from chemdataextractor.reader import acs,base,cssp,HtmlReader,NlmXmlReader,PdfReader,RscHtmlReader,XmlReader\n",
    "from chemdataextractor.model import Compound, UvvisSpectrum, UvvisPeak, BaseModel, StringType, ListType, ModelType\n",
    "from chemdataextractor.parse.common import hyphen,lbrct, dt, rbrct\n",
    "from chemdataextractor.parse.base import BaseParser\n",
    "from chemdataextractor.utils import first\n",
    "\n",
    "from chemdataextractor.parse.actions import strip_stop, merge, join\n",
    "from chemdataextractor.parse.elements import W, I, T, R, Optional, ZeroOrMore, OneOrMore, Or, And, Not, Any\n",
    "from chemdataextractor.parse.cem import chemical_name,cem, chemical_label, lenient_chemical_label, solvent_name\n",
    "from chemdataextractor.doc import Paragraph, Sentence, Caption, Figure,Table, Heading\n",
    "from chemdataextractor.doc.table import Table, Cell\n",
    "\n",
    "# import modules for scraping information from local xml files\n",
    "from chemdataextractor.scrape import pub\n",
    "from chemdataextractor.scrape.pub import rsc\n",
    "from chemdataextractor.scrape.pub import springer\n",
    "from chemdataextractor.scrape.pub import nlm"
   ]
  },
  {
<<<<<<< HEAD
=======
   "cell_type": "markdown",
   "metadata": {},
   "source": [
    "XMLReader not really working, needs to be fixed. Try to do \n",
    "\n",
    "`\n",
    "Document.from_file(f, reader=[HTMLReader()]\n",
    "`\n",
    "\n",
    "details can be found from http://chemdataextractor.org/docs/intro\n",
    "\n",
    "HTMLReader and pdfReader work"
   ]
  },
  {
   "cell_type": "markdown",
   "metadata": {},
   "source": [
    "## Reading and Loading Documents\n",
    "\n",
    "### 1. Finding location of abstracts \n",
    "\n",
    "you can use this definition to find the location of abstracts in a document"
   ]
  },
  {
   "cell_type": "code",
   "execution_count": 2,
   "metadata": {},
   "outputs": [],
   "source": [
    "# def abstract_ext(paras):\n",
    "#     \"\"\"\n",
    "#     Abstract extraction from text\n",
    "#     [] paras\n",
    "#     \"\"\"\n",
    "#     abstract = []\n",
    "#     for i in range(len(paras)):\n",
    "#         if (\"Abstract\" in paras[i].text or \"ABSTRACT\" in paras[i].text):\n",
    "#             abstract.append(paras[i])\n",
    "#     return abstract"
   ]
  },
  {
   "cell_type": "code",
   "execution_count": 3,
   "metadata": {},
   "outputs": [],
   "source": [
    "# abs_text = abstract_ext(paras)\n",
    "# abs_text1 = abstract_ext(paras1)\n",
    "# abs_text2 = abstract_ext(paras2)\n",
    "# abs_text3 = abstract_ext(paras3)\n",
    "# abs_text4 = abstract_ext(paras4)\n",
    "# abs_text5 = abstract_ext(paras5)\n",
    "# abs_text6 = abstract_ext(paras6)\n",
    "# abs_text7 = abstract_ext(paras7)"
   ]
  },
  {
>>>>>>> 4ac0aa6255f7b2407e14e3d87e194b0b6c85ce02
   "cell_type": "markdown",
   "metadata": {},
   "source": [
    "### 2. Read 1-compound papers\n",
    "\n",
    "1. load all files in the 1-compound folder \n",
    "2. open all files\n",
    "3. use chemdataextractor.Document to read opened files\n",
    "4. save the documents to text files"
   ]
  },
  {
   "cell_type": "code",
   "execution_count": 101,
   "metadata": {},
   "outputs": [],
   "source": [
    "import os\n",
    "import pickle\n",
    "\n",
    "path = \"../test_articles/\"\n",
    "entries = os.listdir('../test_articles/')\n",
    "\n",
    "# open a file for writing and creating read documents from the test_articles folder\n",
    "docs = []\n",
    "# length = len(entries)\n",
    "for i in range(79,158):\n",
    "    f = open(path + \"paper%d\" % i + \".pdf\",'rb')\n",
    "    doc = Document.from_file(f)\n",
    "    docs.append(doc)"
   ]
  },
  {
   "cell_type": "markdown",
   "metadata": {},
   "source": [
    "Below cell is the cell for smaller single compound paper group\n"
   ]
  },
  {
   "cell_type": "code",
<<<<<<< HEAD
   "execution_count": 4,
   "metadata": {},
   "outputs": [],
   "source": [
    "# open and read files\n",
    "f = open('../one_compound/36 ja200314m.pdf', 'rb')\n",
    "doc = Document.from_file(f)\n",
    "paras = doc.elements\n",
    "cems = doc.cems\n",
    "\n",
    "# open and read files\n",
    "f1 = open('../one_compound/39 ja101888b.pdf', 'rb')\n",
    "doc1 = Document.from_file(f1)\n",
    "paras1 = doc.elements\n",
    "cems1 = doc.cems"
=======
   "execution_count": 2,
   "metadata": {},
   "outputs": [],
   "source": [
    "import os\n",
    "import pickle\n",
    "\n",
    "path = \"../interested_one_compound/\"\n",
    "entries = os.listdir('../interested_one_compound/')\n",
    "\n",
    "# open a file for writing and creating read documents from the one-compound folder\n",
    "docs = []\n",
    "# length = len(entries)\n",
    "for i in range(0,34):\n",
    "    f = open(path + \"paper%d\" % i + \".pdf\",'rb')\n",
    "    doc = Document.from_file(f)\n",
    "    docs.append(doc)"
>>>>>>> 4ac0aa6255f7b2407e14e3d87e194b0b6c85ce02
   ]
  },
  {
   "cell_type": "code",
<<<<<<< HEAD
   "execution_count": 4,
   "metadata": {},
   "outputs": [],
   "source": [
    "# import os\n",
    "# directory = '../one_compound/'\n",
    "# files = [item for item in os.listdir(directory) if os.path.isfile(os.path.join(directory, item))]\n",
    "\n",
    "# doc = []\n",
    "# para = []\n",
    "# cem = []\n",
    "# for file in files:\n",
    "#     f = open(\"../one_compound/\" + f, 'rb')\n",
    "#     doc.append(Document.from_file(f))\n",
    "#     para.append(doc.elements)\n",
    "#     cem.append(doc.cems)"
=======
   "execution_count": 2,
   "metadata": {},
   "outputs": [],
   "source": [
    "import os\n",
    "import pickle\n",
    "\n",
    "path = \"../interested_multiple_compound/\"\n",
    "entries = os.listdir('../interested_multiple_compound/')\n",
    "\n",
    "# open a file for writing and creating read documents from the one-compound folder\n",
    "docs = []\n",
    "# length = len(entries)\n",
    "for i in range(0,11):\n",
    "    f = open(path + \"paper%d\" % i + \".pdf\",'rb')\n",
    "    doc = Document.from_file(f)\n",
    "    docs.append(doc)"
   ]
  },
  {
   "cell_type": "code",
   "execution_count": 3,
   "metadata": {
    "scrolled": true
   },
   "outputs": [
    {
     "data": {
      "text/html": [
       "<div class=\"cde-document\">\n",
       "<p class=\"cde-paragraph\">Polymer\n",
       "Chemistry</p>\n",
       "<p class=\"cde-paragraph\">Cite this: Polym. Chem., 2011, 2, 2872</p>\n",
       "<p class=\"cde-paragraph\">www.rsc.org/polymers</p>\n",
       "<p class=\"cde-paragraph\">Dynamic Article LinksC<</p>\n",
       "<p class=\"cde-paragraph\">PAPER</p>\n",
       "<p class=\"cde-paragraph\">A furan-bridged D-p-A copolymer with deep HOMO level: synthesis and\n",
       "application in polymer solar cells</p>\n",
       "<p class=\"cde-paragraph\">Xiaochen Wang,a Song Chen,ac Yeping Sun,ab Maojie Zhang,b Yongfang Li,*b Xiaoyu Li*a and Haiqiao Wang*a</p>\n",
       "<p class=\"cde-paragraph\">Received 18th August 2011, Accepted 15th September 2011\n",
       "DOI: 10.1039/c1py00364j</p>\n",
       "<p class=\"cde-paragraph\">A novel D-p-A copolymer, PFBT-BDT, based on furan-containing benzothiadiazole (FBT) and\n",
       "benzodithiophene (BDT) was designed and synthesized by Pd-catalyzed Stille-coupling method. The\n",
       "copolymer showed good solubility and ﬁlm-forming ability combining with good thermal stability.\n",
       "PFBT-BDT exhibited a broad absorption from 300 to 630 nm with an absorption peak centered at 522\n",
       "opt) determined from the onset of absorption of the polymer ﬁlm was 1.96\n",
       "nm. The optical band gap (Eg\n",
       "eV. The LUMO and HOMO energy levels of the polymer were estimated to be (cid:1)3.48 eV and (cid:1)5.44 eV,\n",
       "respectively. The polymer solar cell fabricated from the blend of the polymer as donor and PC71BM as\n",
       "acceptor exhibited a moderate power conversion efﬁciency of 2.81% with a high Voc of 0.94 V without\n",
       "annealing and any additives. To the best of our knowledge, this is among the highest Voc values for\n",
       "PSCs based on benzodithiophene derivatives. This work demonstrates that the replacement of\n",
       "thiophene moieties in conjugated polymers with more electron-withdrawing furan moieties is able to\n",
       "signiﬁcantly lower the HOMO energy levels, and therefore, increase the open circuit voltage of solar\n",
       "cells.</p>\n",
       "<p class=\"cde-paragraph\">Introduction</p>\n",
       "<p class=\"cde-paragraph\">Bulk heterojunction (BHJ) polymer solar cells (PSCs) have\n",
       "attracted tremendous interest due to their potential applications\n",
       "in large area, light weight, ﬂexible photovoltaic devices through\n",
       "low-cost solution-processable techniques. In recent years, great\n",
       "efforts have been made to improve the power conversion efﬁ-\n",
       "ciency (PCE) of the PSCs by designing and synthesizing new\n",
       "conjugated polymer materials.1–9 But nearly all high-perfor-\n",
       "mance devices reported so far rely on thiophene-based conju-\n",
       "gated polymers. There is only a small amount of research focus\n",
       "on nonthiophene heterocycles-based conjugated polymer mate-\n",
       "rials. Recently, Walker et al.10 reported a benzofuran-substituted\n",
       "diketopyrrolopyrrole derivative which has one of\n",
       "the best\n",
       "performances among organic solar cells based on small mole-\n",
       "cules. More recently, Woo et al.11 used furan as an alternative to\n",
       "thiophene in conjugated polymers for application in PSCs. They\n",
       "found that furan-containing polymers exhibited similar optical\n",
       "and electronic properties relative to their thiophene counterparts.\n",
       "As a result, PSCs fabricated from furan-containing polymers and</p>\n",
       "<p class=\"cde-paragraph\">aKey Laboratory of Carbon Fiber and Functional Polymers, Ministry of\n",
       "Education, College of Materials Science and Engineering, Beijing\n",
       "University of Chemical Technology, Beijing, 100029, China. E-mail:\n",
       "wanghaiqiao@mail.buct.edu.cn; lixy@mail.buct.edu.cn\n",
       "bCAS Key Laboratory of Organic Solids, Institute of Chemistry, Chinese\n",
       "Academy of Sciences, Beijing, 100190, China. E-mail: liyf@iccas.ac.cn\n",
       "cDivision of Molecular and Materials Simulation, Key Lab for\n",
       "Nanomaterials, Ministry of Education, Beijing University of Chemical\n",
       "Technology, Beijing, 100029, China</p>\n",
       "<p class=\"cde-paragraph\">PC71BM as the acceptor showed power conversion efﬁciencies\n",
       "reaching 5%, which indicating the potential of furans as thio-\n",
       "phene alternatives in the design of high-performance organic\n",
       "solar cell materials.</p>\n",
       "<p class=\"cde-paragraph\">Importantly, as well known, the electro-negativity of oxygen\n",
       "atom is stronger than sulfur atom, so it is possible to reduce the\n",
       "HOMO level of the polymers by introducing furan moieties into\n",
       "polymers instead of thiophene ones. As a result, high open circuit\n",
       "voltage (Voc) of the bulk heterojunction polymer solar cells can\n",
       "be expected, because the Voc is related to the difference between\n",
       "the HOMO of the electron donor material and LUMO of the\n",
       "electron acceptor material.12 In addition, furan derivatives can be\n",
       "synthesized from natural products; hence, the corresponding\n",
       "synthesis procedure can be realized by a simple, low-cost and\n",
       "sustainable method. Inspired by the purpose of giving deeper\n",
       "insight into the properties and functions of furans in conjugated\n",
       "polymers, it is necessity to further design and synthesis more\n",
       "furan-containing polymers for research.</p>\n",
       "<p class=\"cde-paragraph\">Based on above mentioned issues, here we designed and\n",
       "synthesized a novel D-p-A copolymer, PFBT-BDT, as shown in\n",
       "Scheme 1a, with benzodithiophene (BDT) as the donor unit and\n",
       "bisoctyloxy substituted benzothiadiazole as the acceptor unit and\n",
       "furan as the bridged unit, to further explore new furan-con-\n",
       "taining polymers for the application as donor in PSCs. The\n",
       "polymer demonstrated good solubility in common organic\n",
       "solvents and a broad absorption in the wavelength range from\n",
       "300 to 610 nm. The PSCs based on PFBT-BDT as the donor and\n",
       "[6,6] phenyl-C71-butyric acid methyl ester (PC71BM) as the\n",
       "acceptor exhibit a moderate PCE of 2.81% with a high Voc of</p>\n",
       "<p class=\"cde-paragraph\">2872 | Polym. Chem., 2011, 2, 2872–2877</p>\n",
       "<p class=\"cde-paragraph\">This journal is ª The Royal Society of Chemistry 2011</p>\n",
       "<p class=\"cde-paragraph\">Scheme 1 Molecular structure of (a) PFBT-BDT and (b) PBDT-DODTBT.</p>\n",
       "<p class=\"cde-paragraph\">(cid:1)2. To the\n",
       "0.94V under the illumination of AM 1.5G, 100 mW cm\n",
       "best of our knowledge, 0.94 V is among the highest Voc values for\n",
       "PSCs based on benzodithiophene derivatives.</p>\n",
       "<p class=\"cde-paragraph\">Experimental section</p>\n",
       "<p class=\"cde-paragraph\">Materials</p>\n",
       "<p class=\"cde-paragraph\">2,6-Bis(trimethyltin)-4,8-didodecyloxy-benzo[1,2-b;3,4-b]dithio-\n",
       "phene (BDP),1 and 4,7-dibromo-5,6-bis(octyloxy)benzo-2,1,3-\n",
       "thiadiazole (1)13,14 were synthesized according to the literature.\n",
       "Tetrahydrofuran (THF) was dried over Na/benzophenone ketyl\n",
       "and freshly distilled prior to use. Other reagents and solvents\n",
       "were commercial grade and used as received without further\n",
       "puriﬁcation. All reactions were performed under nitrogen\n",
       "atmosphere.</p>\n",
       "<p class=\"cde-paragraph\">Measurements and characterization</p>\n",
       "<p class=\"cde-paragraph\">The molecular weight of the polymer was measured using gel\n",
       "permeation chromatography (GPC). The GPC measurements\n",
       "were performed on a Waters 515–2410 with polystyrenes as the\n",
       "reference standard and tetrahydrofuran (THF) as an eluent. All\n",
       "new compounds were characterized by nuclear magnetic reso-\n",
       "nance spectra (NMR). The NMR was recorded on a Bruker AV\n",
       "600 spectrometer at room temperature. Chemical shifts of 1H\n",
       "NMR were reported in ppm. Splitting patterns were designated\n",
       "as s (singlet), t (triplet), d (doublet), m (multiplet), and br\n",
       "(broadened). Elemental analyses were performed on a Flash EA\n",
       "1112 analyzer or Elementar vario EL III. Thermal gravimetric\n",
       "analysis (TGA, Netzsch TG209C) and the differential scanning\n",
       "calorimetry (DSC, TA-Q100) measurements were carried out\n",
       "(cid:1)1.\n",
       "under a nitrogen atmosphere at a heating rate of 10\n",
       "UV-Vis absorption spectra were recorded on a Shimadzu spec-\n",
       "trometer model UV-3150. Absorption spectra measurements of\n",
       "the polymer solutions were carried out in chloroform (analytical\n",
       "reagent) at 25\n",
       "C. Absorption spectra measurements of the\n",
       "polymer ﬁlms were carried out on the quartz plates with the\n",
       "polymer ﬁlms spin-coated from the polymer solutions in\n",
       "chloroform (analytical reagent) at 25\n",
       "C. The electrochemical\n",
       "cyclic voltammetry was conducted on a Zahner IM6e electro-\n",
       "chemical workstation with a Pt plate, Pt wire, and Ag/Ag+ elec-\n",
       "trode as the working electrode, counter electrode, and reference\n",
       "(cid:1)1 tetrabutylammonium\n",
       "electrode, respectively, in a 0.1 mol L</p>\n",
       "<p class=\"cde-paragraph\">C min</p>\n",
       "<p class=\"cde-paragraph\">(cid:3)</p>\n",
       "<p class=\"cde-paragraph\">(cid:3)</p>\n",
       "<p class=\"cde-paragraph\">(cid:3)</p>\n",
       "<p class=\"cde-paragraph\">hexaﬂuorophosphate (Bu4NPF6) acetonitrile solution. Polymer\n",
       "thin ﬁlms were formed by drop-casting 1 mm3 of polymer solu-\n",
       "(cid:1)1) on the working\n",
       "tions in THF (analytical reagent, 1 mg mL\n",
       "electrode and were then dried in air. Surface morphology of ﬁlms\n",
       "was characterized on a Digital Instruments Multimode Nano-\n",
       "scope IIIa AFM by tapping mode in an ambient atmosphere.</p>\n",
       "<p class=\"cde-paragraph\">Fabrication of photovoltaic devices</p>\n",
       "<p class=\"cde-paragraph\">PSC was fabricated with ITO glass as a positive electrode, Ca/Al\n",
       "as a negative electrode, and the blend ﬁlm of the polymer:PCBM\n",
       "between them as a photosensitive layer. The ITO glass was pre-\n",
       "cleaned and modiﬁed by a thin layer of PEDOT:PSS, which was\n",
       "spin-cast from a PEDOT:PSS aqueous solution (Clevious P VP\n",
       "AI 4083 H. C. Stark, Germany) on the ITO substrate, and the\n",
       "thickness of the PEDOT:PSS layer was about 60 nm. The\n",
       "photosensitive layer was prepared by spin-coating a blend solu-\n",
       "tion of the polymer and PC71BM with a weight ratio of 1 : 2 in o-\n",
       "dichlorobenzene on the ITO/PEDOT:PSS electrode. Then, the\n",
       "Ca/Al cathode was deposited on the polymer layer by vacuum\n",
       "(cid:1)4 Pa. The thickness of the photosen-\n",
       "sitive layer was ca. 80 nm, measured on an Ambios Tech XP-2\n",
       "proﬁlometer. The effective area of one cell was ca. 4 mm2. The\n",
       "current–voltage (I versus V) measurement of the devices was\n",
       "conducted on a computer controlled Keithley 236 source\n",
       "measure unit. A xenon lamp with an AM 1.5 ﬁlter was used as the\n",
       "white-light source, and the optical power at the sample was 100\n",
       "mW cm</p>\n",
       "<p class=\"cde-paragraph\">evaporation under 3 (cid:4) 10</p>\n",
       "<p class=\"cde-paragraph\">(cid:1)2.</p>\n",
       "<p class=\"cde-paragraph\">Syntheses of the monomers</p>\n",
       "<p class=\"cde-paragraph\">4,7-Difuran-2-yl-5,6-bis(octyloxy)benzo-2,1,3-thiadiazole</p>\n",
       "<p class=\"cde-paragraph\">(2).\n",
       "NaHCO3 (5 g, 60 mmol) and 70 mL H2O were added to\n",
       "a mixture of 1 (5.25 g, 15 mmol) and 2-furanboric acid (5 g, 45\n",
       "mmol) in 200 mL THF was added . The solution was ﬂushed with\n",
       "nitrogen for 10 min, and Pd(PPh3)4 (0.35 g, 0.3 mmol) was added.\n",
       "After another ﬂushing with nitrogen for 20 min, the reactant was\n",
       "heated to reﬂux for 3 days. After cooling to room temperature,\n",
       "the reaction mixture was poured into saturated ammonium\n",
       "chloride solution. The product was extracted with ethyl acetate (3</p>\n",
       "<p class=\"cde-paragraph\">(cid:4) 100 ml). The extracts were combined and washed with water</p>\n",
       "<p class=\"cde-paragraph\">and brine then dried over anhydrous sodium sulfate. After\n",
       "ﬁltration, the solvent was removed under reduced pressure. The</p>\n",
       "<p class=\"cde-paragraph\">This journal is ª The Royal Society of Chemistry 2011</p>\n",
       "<p class=\"cde-paragraph\">Polym. Chem., 2011, 2, 2872–2877 | 2873</p>\n",
       "<p class=\"cde-paragraph\">residue was puriﬁed by column chromatography on silica, eluting\n",
       "with petroleum ether/ethyl acetate (from 20 : 0 to 20 : 1), to give\n",
       "a yellow solid (6.2 g, 80%). 1H NMR (600 MHz, CDCl3): d (ppm)\n",
       "7.72 (d, 2H, Ar–H), 7.44 (d, 2H, Ar–H), 6.67 (dd, 2H, Ar–H),\n",
       "4.12 (t, 4H, CH2), 1.87 (m, 4H, CH2), 1.48 (m, 4H, CH2), 1.31–\n",
       "1.36 (m, 16H, CH2), 0.92 (t, 6H, CH3).</p>\n",
       "<p class=\"cde-paragraph\">were performed under an air-free environment. The structure of\n",
       "the polymer was conﬁrmed by 1H NMR spectroscopy and\n",
       "elemental analysis. PFBT-BDT has good solubility in common\n",
       "organic solvents such as THF, chloroform and chlorobenzene. It\n",
       "can be readily processed to form smooth and pinhole-free ﬁlms\n",
       "upon spin-coating.</p>\n",
       "<p class=\"cde-paragraph\">4,7-Bis(5-bromofuran-2-yl)-5,6-bis(octyloxy)benzo-2,1,3-thia-\n",
       "diazole (FBT). A mixture of 2 (2 g, 3.8 mmol), N-bromosucci-\n",
       "mide (NBS) (1.4 g, 7.8 mmol), chloroform (50 mL) and acetic\n",
       "acid (50 mL) was stirred at room temperature in dark over night.\n",
       "Then the reaction mixture was poured into water (200 mL) and</p>\n",
       "<p class=\"cde-paragraph\">extracted with chloroform (3 (cid:4) 50 ml). The extracts were</p>\n",
       "<p class=\"cde-paragraph\">combined and washed with water and saturated sodium bicar-\n",
       "bonate solution then dried over anhydrous sodium sulfate. After\n",
       "ﬁltration, the solvent was removed under reduced pressure. The\n",
       "residue was puriﬁed by column chromatography on silica, eluting\n",
       "with petroleum ether/chloroform (from 20 : 0 to 20 : 1), to give\n",
       "a bright yellow solid (1.77 g, 68%). 1H NMR (600 MHz, CDCl3):\n",
       "d (ppm) 7.48 (d, 2H, Ar–H), 6.56 (d, 2H, Ar–H), 4.13 (t, 4H,\n",
       "CH2), 1.93 (m, 4H, CH2), 1.51 (m, 4H, CH2), 1.25–1.38 (m, 16H,\n",
       "CH2), 0.90 (t, 6H, CH3). 13C NMR (600 MHz, CDCl3): d (ppm)\n",
       "152.64, 149.57, 149.52, 122.86, 116.51, 113.65, 113.44, 75.18,\n",
       "31.85, 30.27, 29.58, 29.29, 26.12, 22.68, 14.10.</p>\n",
       "<p class=\"cde-paragraph\">Synthesis of the polymer</p>\n",
       "<p class=\"cde-paragraph\">(cid:3)</p>\n",
       "<p class=\"cde-paragraph\">FBT monomer (205 mg, 0.3 mmol) and BDT monomer (232 mg,\n",
       "0.3 mmol) were put into a 25 mL two-neck ﬂask, and 10 mL of\n",
       "toluene was added. The mixture was stirred and purged with\n",
       "nitrogen for 10 min, and then Pd(PPh3)4 (18 mg, 0.015 mmol)\n",
       "was added. After being purged for 15 min, the mixture was\n",
       "heated at 110\n",
       "C for 48 h. After cooled to room temperature, the\n",
       "reaction mixture was added dropwise to 200 mL acidic methanol,\n",
       "then collected by ﬁltration and washed with methanol. The black\n",
       "solid was ﬁltered into a Soxhlet funnel and extracted by meth-\n",
       "anol, hexane, and chloroform successively. The polymer recov-\n",
       "ered from chloroform was puriﬁed by preparative gel permeation\n",
       "chromatography. Then, the product was dried under vacuum for\n",
       "1 day to recover the target polymer PFBT-BDT as a dark red</p>\n",
       "<p class=\"cde-paragraph\">solid. (yield 67.5%, Mn ¼ 6.2kDa, Mw ¼ 13.2kDa, PDI ¼ 2.1). 1H\n",
       "NMR (CDCl3, 600 MHz): d (ppm) 7.80 (br,2H), 7.61 (br, 2H),\n",
       "6.96 (br, 2H), 4.25 (br, 8H), 1.99–1.22 (m, 52H), 1.11–0.82 (m,\n",
       "18H). Anal. Calcd for (C56H74N2O6S2)n: C, 69.46; H, 7.65; N,\n",
       "2.89. Found: C, 68.38; H, 7.65; N, 2.95.</p>\n",
       "<p class=\"cde-paragraph\">Results and discussion</p>\n",
       "<p class=\"cde-paragraph\">Syntheses of monomers and polymer</p>\n",
       "<p class=\"cde-paragraph\">The synthesis routes of monomers and corresponding polymer\n",
       "are outlined in Schemes 2 and 3, respectively. First, compound 1\n",
       "was prepared in ﬁve steps according to the procedure repor-\n",
       "ted.13,14 Then, two furan rings were attached to compound 1 by\n",
       "Suzuki coupling15 using 2-furanboric acid as a reagent. Finally,\n",
       "compound 2 was brominated with NBS to give monomer FBT as\n",
       "a bright yellow solid in a 68% yield. The synthesis of the polymer\n",
       "was carried out using palladium-catalyzed Stille-coupling16\n",
       "between monomer FBT and BDT. All starting materials,\n",
       "reagents, and solvents were carefully puriﬁed, and all procedures</p>\n",
       "<p class=\"cde-paragraph\">Thermal analysis</p>\n",
       "<p class=\"cde-paragraph\">The thermal properties of the polymer were determined by\n",
       "thermogravimetric analysis\n",
       "(TGA). PFBT-BDT has good\n",
       "thermal stability with onset decomposition temperature with 5%\n",
       "weight loss at 333\n",
       "C, as shown in Fig. 1, indicating that the\n",
       "thermal stability of the polymer is good enough for most\n",
       "applications.</p>\n",
       "<p class=\"cde-paragraph\">(cid:3)</p>\n",
       "<p class=\"cde-paragraph\">Optical properties</p>\n",
       "<p class=\"cde-paragraph\">Fig. 2 shows the absorption spectra of the polymer in chloroform\n",
       "solution and solid ﬁlm on quartz plates. In chloroform solution,\n",
       "the polymer exhibited a broad absorption from 300 to 610 nm\n",
       "with three peaks at 343, 391 and 522 nm, respectively. In solid\n",
       "ﬁlm,\n",
       "the absorption spectrum was expanded to 632 nm.\n",
       "Compared with its absorption in the solution, the absorption\n",
       "peaks of the polymer ﬁlm were red shifted to 344, 398, and 534\n",
       "nm, respectively, which is due to the aggregation of the molecular\n",
       "opt) determined\n",
       "chains in the solid state. The optical band gap (Eg\n",
       "from the onset of absorption of PFBT-BDT ﬁlm was 1.96 eV,\n",
       "which is a litter larger than that of the thiophene-based analogue\n",
       "PBDT-DODTBT (as shown in Scheme 1b) reported earlier by\n",
       "Ding et al.17</p>\n",
       "<p class=\"cde-paragraph\">Electrochemical properties</p>\n",
       "<p class=\"cde-paragraph\">Cyclic voltammetry has been employed and considered as an\n",
       "effective tool in determining the electronic energy levels of the\n",
       "conjugated oligomers and polymers.18–21 From the onset oxida-\n",
       "tion and reduction potentials in the cyclic voltammogram, the\n",
       "highest occupied molecular orbital (HOMO) and lowest unoc-\n",
       "cupied molecular orbital (LUMO) energy levels can be readily\n",
       "estimated.</p>\n",
       "<p class=\"cde-paragraph\">Cyclic voltammogram of the polymer ﬁlm is shown in Fig. 3.\n",
       "The onset oxidation potential (Eox) and onset reduction potential\n",
       "(Ered) of PFBT-BDT are 0.73 V vs. Ag/Ag+ and (cid:1)1.23 V vs. Ag/</p>\n",
       "<p class=\"cde-paragraph\">Ag+, respectively. The HOMO and LUMO energy levels were\n",
       "calculated according the following equations:18,19\n",
       "EHOMO ¼ (cid:1)IP ¼ (cid:1)e(Eox + 4.71) eV</p>\n",
       "<p class=\"cde-paragraph\">ELUMO ¼ (cid:1)EA ¼ (cid:1)e(Ered + 4.71) eV</p>\n",
       "<p class=\"cde-paragraph\">Where the units of the onset redox potentials are V vs. Ag/Ag+.\n",
       "The LUMO and HOMO energy levels of the polymer obtained\n",
       "are (cid:1)3.48 eV and (cid:1)5.44 eV, respectively. The electrochemical\n",
       "ec ¼ 1.96 eV) is matched very well\n",
       "band gap of the polymer (Eg\n",
       "opt ¼ 1.96 eV). Compared to the\n",
       "with its optical band gap (Eg\n",
       "HOMO level ((cid:1)5.17 eV) of thiophene based analogue PBDT-\n",
       "DODTBT,17 that of PFBT-BDT is about 0.27 eV lower, indi-\n",
       "cating that PFBT-BDT is more stable than PBDT-DODTBT.</p>\n",
       "<p class=\"cde-paragraph\">2874 | Polym. Chem., 2011, 2, 2872–2877</p>\n",
       "<p class=\"cde-paragraph\">This journal is ª The Royal Society of Chemistry 2011</p>\n",
       "<p class=\"cde-paragraph\">Scheme 2 Synthesis routes of the monomers.</p>\n",
       "<p class=\"cde-paragraph\">This result also demonstrates that the replacement of thiophene\n",
       "moieties in conjugated polymers with furan ones is able to lower\n",
       "the HOMO energy levels, which means a higher Voc could be\n",
       "expected, because Voc is linearly correlated with the difference of\n",
       "the HOMO of the donor and the LUMO of the acceptor.22,23</p>\n",
       "<p class=\"cde-paragraph\">Theoretical calculations</p>\n",
       "<p class=\"cde-paragraph\">To provide further insight into the fundamentals of molecular\n",
       "architecture, density functional theory (DFT) calculations were\n",
       "performed to verify stationary points as stable states for the\n",
       "optimized conformations and single point energies, with</p>\n",
       "<p class=\"cde-paragraph\">a molecular main chain length n ¼ 1, at B3LYP/6-31 + g(3df,3pd)</p>\n",
       "<p class=\"cde-paragraph\">level using the Gaussian 03 program package. The ﬁnal energies\n",
       "were calculated as the sum of single point and zero point ener-\n",
       "gies. Moreover, all the CnH2n+1– side chains were replaced with\n",
       "CH3– in the calculation to avoid excessive computation demand,\n",
       "since they do not signiﬁcantly affect the electronic properties.</p>\n",
       "<p class=\"cde-paragraph\">Ionization potential (IP) and electron afﬁnity (EA) calculated</p>\n",
       "<p class=\"cde-paragraph\">were (cid:1)5.2149 eV and (cid:1)2.7858 eV, with the corresponding band</p>\n",
       "<p class=\"cde-paragraph\">gap of 2.4291 eV. The wave functions of the frontier molecular\n",
       "orbitals are depicted in Fig. 4. As can be observed, the HOMO is\n",
       "delocalized along the whole p-conjugated backbone while the\n",
       "LUMO is mostly concentrated on the benzothiadiazole-based\n",
       "acceptor groups. These images provide further evidence of the\n",
       "formation of well-deﬁned D-p-A structure and the intra-\n",
       "molecular charge transfer (ICT) behavior of the material (i.e., the\n",
       "HOMO to LUMO transition is a donor to acceptor intra-\n",
       "molecular charge transfer).24</p>\n",
       "<p class=\"cde-paragraph\">Fig. 2 Normalized absorption spectra of PFBT-BDT in chloroform\n",
       "solution and solid ﬁlm on quartz plates.</p>\n",
       "<p class=\"cde-paragraph\">Morphology of the blend ﬁlm of PFBT-BDT and PC71BM</p>\n",
       "<p class=\"cde-paragraph\">The morphology feature of the photoactive layer is very impor-\n",
       "tant for the performance of PSCs.25 Here, atomic force micros-\n",
       "copy (AFM) was used to characterize the surface morphology of</p>\n",
       "<p class=\"cde-paragraph\">active layers of PSCs. As shown in Fig. 5, the topography of the\n",
       "ﬁlm obtained from PFBT-BDT: PC71BM (1 : 2) in dichloro-\n",
       "benzene is smooth (RMS ¼ 1.1 nm, Ra ¼ 0.32 nm). The polymer</p>\n",
       "<p class=\"cde-paragraph\">and fullerene domains are uniformly distributed throughout the</p>\n",
       "<p class=\"cde-paragraph\">Fig. 1 TGA plot of the polymer with a heating rate of 10\n",
       "an inert atmosphere.</p>\n",
       "<p class=\"cde-paragraph\">(cid:3)</p>\n",
       "<p class=\"cde-paragraph\">C min</p>\n",
       "<p class=\"cde-paragraph\">(cid:1)1 under</p>\n",
       "<p class=\"cde-paragraph\">This journal is ª The Royal Society of Chemistry 2011</p>\n",
       "<p class=\"cde-paragraph\">Polym. Chem., 2011, 2, 2872–2877 | 2875</p>\n",
       "<p class=\"cde-paragraph\">Scheme 3 Synthetic route of the copolymer.</p>\n",
       "<p class=\"cde-paragraph\">a PCE of 2.81% with an open circuit voltage (Voc) of 0.94 V,\n",
       "(cid:1)2, and a ﬁll\n",
       "a short circuit current density (Jsc) of 6.5 mA cm\n",
       "factor (FF) of 0.46, without annealing and any additives. The\n",
       "PSC demonstrated a moderate PCE and Jsc and high Voc value.\n",
       "The Voc value is about 0.2 V higher than that of the device based\n",
       "on thiophene-based analogue PBDT-DODTBT.17 To the best of\n",
       "our knowledge, 0.94 V is among the highest Voc values for PSCs\n",
       "based on benzodithiophene derivatives. The high value of Voc of\n",
       "the device based on PFBT-BDT beneﬁts from the low HOMO\n",
       "energy level of the polymer. The external quantum efﬁciency\n",
       "(EQE) spectrum of the device is shown in Fig. 7. The device\n",
       "exhibited photoresponse spectrum covering from 300 to 650 nm\n",
       "with an EQE value of more than 30% in the region between 360\n",
       "and 560 nm. The integration of the EQE values agrees well with\n",
       "(cid:1)2. It is worth noting that the PSCs fabri-\n",
       "the Jsc of 6.5 mA cm\n",
       "cated from a blend of furan-containing polymers, PDPP2FT and\n",
       "PDPP3F, reported earlier by Woo et al.,11 with PC71BM\n",
       "demonstrated poor PCE (<1%), but the PCE can be greatly\n",
       "improved to 5% with the addition of additive 1-chloronaph-\n",
       "thalene (CN). If PC61BM was used as an alternative to PC71BM,\n",
       "PSC devices afforded more than 3.0% PCE (max. 3.8%), whereas\n",
       "the use of CN led to a slight improvement of PCE. In an attempt\n",
       "to improve the PCE of PSCs based on PFBT-BDT, we also used\n",
       "the additive CN to optimize blend morphology. Unfortunately,\n",
       "the device performance cannot be improved. This result mani-\n",
       "fests that other additives and different device conditions must be</p>\n",
       "<p class=\"cde-paragraph\">Fig. 6 Current density-voltage characteristic of the PSC based on\n",
       "PFBT-BDT:PC71BM (1 : 2, w/w), under the illumination of AM1.5G,\n",
       "100 mW cm</p>\n",
       "<p class=\"cde-paragraph\">(cid:1)2.</p>\n",
       "<p class=\"cde-paragraph\">Fig. 3 Cyclic voltammogram of the polymer ﬁlm on Pt electrode in 0.1\n",
       "mol L</p>\n",
       "<p class=\"cde-paragraph\">(cid:1)1 Bu4NPF6, CH3CN solution with a scan rate of 100 mV s</p>\n",
       "<p class=\"cde-paragraph\">(cid:1)1.</p>\n",
       "<p class=\"cde-paragraph\">Fig. 4 B3LYP/6-31g(3df,3pd) wave functions of the frontier molecular\n",
       "orbital (HOMO, left; LUMO, right) in PFBT-BDT with a chain length</p>\n",
       "<p class=\"cde-paragraph\">n ¼ 1.</p>\n",
       "<p class=\"cde-paragraph\">surface of the ﬁlm, in other words, the nanometre-scale inter-\n",
       "penetrating network has be formed in this blend, which can\n",
       "beneﬁt not only the charge separation but also the charge\n",
       "transport.</p>\n",
       "<p class=\"cde-paragraph\">Photovoltaic properties of the polymer</p>\n",
       "<p class=\"cde-paragraph\">In this paper, the motivation of the design and synthesis of the\n",
       "polymer is to look for a novel alternating copolymer based on\n",
       "furan substituted benzothiadiazole derivative for the application\n",
       "in solar cells. So, we fabricated the device with the structure of\n",
       "ITO/PEDOT: PSS/polymer:PC71BM (1 : 2 w/w)/Ca/Al, where\n",
       "the polymer was used as the electron donor and PC71BM was\n",
       "used as the electron acceptor, and the performance of the PSC\n",
       "was investigated tentatively. Fig. 6 shows the J–V curve of the\n",
       "(cid:1)2. It showed\n",
       "PSC under the illumination of AM 1.5, 100 mW cm</p>\n",
       "<p class=\"cde-paragraph\">Fig. 5 Tapping mode AFM topography (left) and phase (right) images of PFBT-BDT: PC71BM (1 : 2) ﬁlm.</p>\n",
       "<p class=\"cde-paragraph\">2876 | Polym. Chem., 2011, 2, 2872–2877</p>\n",
       "<p class=\"cde-paragraph\">This journal is ª The Royal Society of Chemistry 2011</p>\n",
       "<p class=\"cde-paragraph\">References</p>\n",
       "<p class=\"cde-paragraph\">1 J. H. Hou, H. Y. Chen, S. Q. Zhang, R. I. Chen, Y. Yang, Y. Wu and</p>\n",
       "<p class=\"cde-paragraph\">G. Li, J. Am. Chem. Soc., 2009, 131, 15586.</p>\n",
       "<p class=\"cde-paragraph\">2 H. Y. Chen, J. H. Hou, S. Q. Zhang, Y. Y. Liang, G. W. Yang,</p>\n",
       "<p class=\"cde-paragraph\">Y. Yang, L. P. Yu, Y. Wu and G. Li, Nat. Photonics, 2009, 3, 649.</p>\n",
       "<p class=\"cde-paragraph\">3 M. Wang, X. W. Hu, P. Liu, W. Li, X. Gong, F. Huang and Y. Cao, J.</p>\n",
       "<p class=\"cde-paragraph\">4 L. J. Huo, X. Guo, S. Q. Zhang, Y. F. Li and J. H. Hou,</p>\n",
       "<p class=\"cde-paragraph\">Am. Chem. Soc., 2011, 133, 9638.</p>\n",
       "<p class=\"cde-paragraph\">Macromolecules, 2011, 44, 4035.</p>\n",
       "<p class=\"cde-paragraph\">5 H. Bronstein, Z. Y. Chen, R. S. Ashraf, W. M. Zhang, J. P. Du,\n",
       "J. R. Durrant, P. S. Tuladhar, K. Song, S. E. Watkins, Y. Geerts,\n",
       "M. M. Wienk, R. A. J. Janssen, T. Anthopoulos, H. Sirringhaus,\n",
       "M. Heeney and I. McCulloch, J. Am. Chem. Soc., 2011, 133, 3272.</p>\n",
       "<p class=\"cde-paragraph\">6 Y. Huang, L. J. Huo, S. Q. Zhang, X. Guo, C. C. Han, Y. F. Li and</p>\n",
       "<p class=\"cde-paragraph\">J. H. Hou, Chem. Commun., 2011, 47, 8904.</p>\n",
       "<p class=\"cde-paragraph\">7 T. Y. Chu, J. P. Lu, S. Beaupr, Y. G. Zhang, J. R. Pouliot, S. Wakim,\n",
       "J. Y. Zhou, M. Leclerc, Z. Li, J. F. Ding and Y. Tao, J. Am. Chem.\n",
       "Soc., 2011, 133, 4250.</p>\n",
       "<p class=\"cde-paragraph\">8 S. C. Price, A. C. Stuart, L. Q. Yang, H. X. Zhou and W. You, J. Am.</p>\n",
       "<p class=\"cde-paragraph\">Chem. Soc., 2011, 133, 4625.</p>\n",
       "<p class=\"cde-paragraph\">9 H. X. Zhou, L. Q. Yang, A. C. Stuart, S. C. Price, S. B. Liu and</p>\n",
       "<p class=\"cde-paragraph\">W. You, Angew. Chem., Int. Ed., 2011, 50, 2995.</p>\n",
       "<p class=\"cde-paragraph\">10 B. Walker, A. B. Tomayo, X. D. Dang, P. Zalar, J. H. Seo, A. Garcia,\n",
       "M. Tantiwiwat and T. Q. Nguyen, Adv. Funct. Mater., 2009, 19, 3063.\n",
       "11 C. H. Woo, P. M. Beaujuge, T. W. Holcombe, O. P. Lee and</p>\n",
       "<p class=\"cde-paragraph\">J. M. J. Frechet, J. Am. Chem. Soc., 2010, 132, 15547.</p>\n",
       "<p class=\"cde-paragraph\">12 M. C. Scharber, D. Muhlbacher, M. Koppe, P. Denk, C. Waldauf,</p>\n",
       "<p class=\"cde-paragraph\">A. J. Heeger and C. J. Brabec, Adv. Mater., 2006, 18, 789.</p>\n",
       "<p class=\"cde-paragraph\">13 R. P. Qin, W. W. Li, C. H. Li, C. Du, C. Veit, H. F. Schleiermacher,\n",
       "M. Andersson, Z. S. Bo, Z. P. Liu, O. Inganas, U. Wuerfel and\n",
       "F. L. Zhang, J. Am. Chem. Soc., 2009, 131, 14612.</p>\n",
       "<p class=\"cde-paragraph\">14 F. Y. Qing, Y. P. Sun, X. C. Wang, N. Li, Y. F. Li, X. Y. Li and</p>\n",
       "<p class=\"cde-paragraph\">H. Q. Wang, Polym. Chem., 2011, 2, 2102.</p>\n",
       "<p class=\"cde-paragraph\">15 X. C. Wang, H. Q. Wang, Y. Yang, Y. J. He, L. Zhang, Y. F. Li and</p>\n",
       "<p class=\"cde-paragraph\">X. Y. Li, Macromolecules, 2010, 43, 709.</p>\n",
       "<p class=\"cde-paragraph\">16 Z. N. Bao, W. K. Chan and L. P. Yu, J.Am. Chem. Soc., 1995, 117,</p>\n",
       "<p class=\"cde-paragraph\">12426.</p>\n",
       "<p class=\"cde-paragraph\">17 P. Ding, C. C. Chu, B. Liu, B. Peng, Y. P. Zou, Y. H. He, K. C. Zhou</p>\n",
       "<p class=\"cde-paragraph\">and C. S. Hsu, Macromol. Chem. Phys., 2010, 211, 2555.</p>\n",
       "<p class=\"cde-paragraph\">18 Y. F. Li, Y. Cao, J. Gao, D. L. Wang, G. Yu and A. J. Heeger, Synth.</p>\n",
       "<p class=\"cde-paragraph\">19 Q. J. Sun, H. Q. Wang, C. H. Yang and Y. F. Li, J. Mater. Chem.,</p>\n",
       "<p class=\"cde-paragraph\">Met., 1999, 99, 243–248.</p>\n",
       "<p class=\"cde-paragraph\">2003, 13, 800.</p>\n",
       "<p class=\"cde-paragraph\">20 J. H. Hou, Z. A. Tan, Y. Yan, Y. J. He, C. H. Yang and Y. F. Li, J.</p>\n",
       "<p class=\"cde-paragraph\">Am. Chem. Soc., 2006, 128, 4911.</p>\n",
       "<p class=\"cde-paragraph\">21 C. L. Lu, H. Q. Wang, X. C. Wang, Y. F. Li, T. Oiu, L. F. He and</p>\n",
       "<p class=\"cde-paragraph\">X. Y. Li, J. Appl. Polym. Sci., 2010, 117, 517.</p>\n",
       "<p class=\"cde-paragraph\">22 M. C. Scharber, D. M. hlbacher, M. Koppe, P. Denk, C. Waldauf,</p>\n",
       "<p class=\"cde-paragraph\">A. J. Heeger and C. J. Brabec, Adv. Mater., 2006, 18, 789.</p>\n",
       "<p class=\"cde-paragraph\">23 L. J. Huo, J. H. Hou, S. Q. Zhang, H. Y. Chen and Y. Yang, Angew.</p>\n",
       "<p class=\"cde-paragraph\">Chem., Int. Ed., 2010, 122, 1542.</p>\n",
       "<p class=\"cde-paragraph\">24 T. M. Pappenfus, D. K. Schneiderman, J. Casado, J. T. L. Navarrete,\n",
       "M. C. R. Delgado, G. Zotti, B. Vercelli, M. D. Lovander,\n",
       "L. M. Hinkle, J. N. Bohnsack and K. R. Mann, Chem. Mater.,\n",
       "2011, 23, 823.</p>\n",
       "<p class=\"cde-paragraph\">25 C. V. Hoven, X. D. Dang, R. C. Cofﬁn, J. Peet, T. Q. Nguyen and</p>\n",
       "<p class=\"cde-paragraph\">G. C. Bazan, Adv. Mater., 2010, 22, E63.</p>\n",
       "<p class=\"cde-paragraph\">Fig. 7 The external quantum efﬁciency (EQE) spectrum of the PSC\n",
       "based on PFBT-BDT:PC71BM (1 : 2, w/w).</p>\n",
       "<p class=\"cde-paragraph\">tried for further improving the device performance. This work is\n",
       "still ongoing and a higher PCE is anticipated. Even so, the\n",
       "current device performance, which is 3 times higher than the PCE\n",
       "of devices based on PDPP2FT and PDPP3F with the same\n",
       "device conﬁguration without CN additive, indicates that PFBT-\n",
       "BDT would be a promising photovoltaic material.</p>\n",
       "<p class=\"cde-paragraph\">Conclusion</p>\n",
       "<p class=\"cde-paragraph\">(cid:3)</p>\n",
       "<p class=\"cde-paragraph\">We designed and synthesized a novel furan-containing benzo-\n",
       "thiadiazole derivative based D-p-A polymer (PFBT-BDT). The\n",
       "polymer demonstrated good thermal stability (Td > 330\n",
       "C),\n",
       "good solubility in common organic solvents, and a deep HOMO\n",
       "energy level at (cid:1)5.44 eV. The polymer solar cell fabricated from\n",
       "the blend of PFBT-BDT:PC71BM exhibited moderate PCE of\n",
       "2.81% with a high Voc of 0.94 V, which beneﬁts from the deep\n",
       "HOMO level of the polymer. Further improvements on device\n",
       "performance through device engineering as well as a structure\n",
       "optimization of polymer are in progress. These results demon-\n",
       "strate the potential of the replacement of thiophene with furan\n",
       "units in the design and synthesis of conjugated polymers with\n",
       "efﬁcient solar cell performance, and especially to lower the\n",
       "HOMO energy levels of the conjugated polymers, therefore,\n",
       "increase the open circuit voltage of solar cells. Most importantly,\n",
       "this work opens up a new path to design high performance\n",
       "photovoltaic materials.</p>\n",
       "<p class=\"cde-paragraph\">Acknowledgements</p>\n",
       "<p class=\"cde-paragraph\">This work was\n",
       "supported by NSFC (Nos. 20874106,\n",
       "20821120293 and 21021091), and Chinese Academy of Sciences.</p>\n",
       "<p class=\"cde-paragraph\">This journal is ª The Royal Society of Chemistry 2011</p>\n",
       "<p class=\"cde-paragraph\">Polym. Chem., 2011, 2, 2872–2877 | 2877</p>\n",
       "</div>"
      ],
      "text/plain": [
       "<Document: 154 elements>"
      ]
     },
     "execution_count": 3,
     "metadata": {},
     "output_type": "execute_result"
    }
   ],
   "source": [
    "docs[0]"
>>>>>>> 4ac0aa6255f7b2407e14e3d87e194b0b6c85ce02
   ]
  },
  {
   "cell_type": "code",
   "execution_count": null,
   "metadata": {},
   "outputs": [],
   "source": []
  },
  {
   "cell_type": "code",
   "execution_count": null,
   "metadata": {},
   "outputs": [],
   "source": []
  },
  {
   "cell_type": "markdown",
   "metadata": {},
   "source": [
    "## Spealize PCE parsers\n",
    "\n",
    "1. PCE parser"
   ]
  },
  {
   "cell_type": "code",
<<<<<<< HEAD
   "execution_count": 5,
=======
   "execution_count": 3,
>>>>>>> 4ac0aa6255f7b2407e14e3d87e194b0b6c85ce02
   "metadata": {},
   "outputs": [],
   "source": [
    "class Pce(BaseModel):\n",
    "    value = StringType()\n",
    "    units = StringType()\n",
    "\n",
    "Compound.pce_pattern = ListType(ModelType(Pce))\n",
    "\n",
<<<<<<< HEAD
=======
    "# prefix = abbrv_prefix | words_pref | hyphanated_pref\n",
>>>>>>> 4ac0aa6255f7b2407e14e3d87e194b0b6c85ce02
    "common_text = R('(\\w+)?\\D(\\D+)+(\\w+)?').hide()\n",
    "units = (W(u'%') | I(u'percent'))(u'units')\n",
    "value = R(u'\\d+(\\.\\d+)?')(u'value')\n",
    "\n",
    "abbrv_prefix = (I(u'PCE') | I(u'PCEs') | I(u'pce')).hide()\n",
    "words_pref = (I(u'power') + I(u'conversion') + I(u'efficiency') | I(u'efﬁciency')).hide()\n",
    "hyphanated_pref = (I(u'power') + I(u'-') + I('conversion') + I(u'efficiency') | I(u'efﬁciency')).hide()\n",
    "joined_range = R('^[\\+\\-–−]?\\d+(\\.\\d+)?[\\-–−~∼˜]\\d+(\\.\\d+)?$')('value').add_action(merge)\n",
    "spaced_range = (R('^[\\+\\-–−]?\\d+(\\.\\d+)?$') + Optional(units).hide() + (R('^[\\-–−~∼˜]$') +\n",
    "                                                                        R('^[\\+\\-–−]?\\d+(\\.\\d+)?$') | R('^[\\+\\-–−]\\d+(\\.\\d+)?$')))('value').add_action(merge)\n",
    "to_range = (R('^[\\+\\-–−]?\\d+(\\.\\d+)?$') + Optional(units).hide() + (I('to') +\n",
    "                                                                    R('^[\\+\\-–−]?\\d+(\\.\\d+)?$') | R('^[\\+\\-–−]\\d+(\\.\\d+)?$')))('value').add_action(join)\n",
    "\n",
    "# prefix = Optional(I('a')).hide() + (Optional(lbrct) + W('PCEs') + Optional(rbrct) | I('power') + Optional(I('conversion')) + Optional((I('efficiency') | I('range'))) + Optional((I('temperature') | I('range')))\n",
    "#                                     ).hide() + Optional(lbrct + W('PCE') + rbrct) + Optional(W('=') | I('of') | I('was') | I('is') | I('at')).hide() + Optional(I('in') + I('the') + I('range') + Optional(I('of')) | I('about') | ('around') | I('%')).hide()\n",
    "\n",
    "prefix = Optional(I('a')).hide() + (Optional(lbrct) + abbrv_prefix + Optional(rbrct) | I('power') + Optional(I('conversion')) + Optional((I('efficiency') | I(u'efﬁciency') | I('range') | words_pref)) + Optional((I('temperature') | I('range')))\n",
    "                                    ).hide() + Optional(lbrct + W('PCE') + rbrct) + Optional (W('thus')) + Optional (W('reached')) + Optional (W('result')) + Optional (W('up')) + Optional(W('=') | W('¼') | I('of') | I('was') | I('is') | I('at') | I('to')).hide() + Optional(I('in') + I('the') + I('range') + Optional(I('of')) | I('about') | ('around') | I('%')).hide()\n",
    "\n",
    "pce_first  = (words_pref + (Optional(lbrct) + abbrv_prefix + Optional(rbrct)) + ZeroOrMore(common_text) + value + units)(u'pce')\n",
    "# pce_first = (prefix + ZeroOrMore(common_text) + value + units)(u'pce')\n",
    "pce_second = (prefix + value + units)(u'pce')\n",
    "pce_pattern = pce_first | pce_second\n",
    "\n",
    "class PceParser(BaseParser):\n",
    "    root = pce_pattern\n",
    "\n",
    "    def interpret(self, result, start, end):\n",
    "        compound = Compound(\n",
    "            pce_pattern = [\n",
    "                Pce(\n",
    "                    value = first(result.xpath('./value/text()')),\n",
    "                    units = first(result.xpath('./units/text()'))\n",
    "                )\n",
    "            ]\n",
    "        )\n",
    "        yield compound"
   ]
  },
  {
   "cell_type": "code",
<<<<<<< HEAD
   "execution_count": 6,
=======
   "execution_count": 4,
>>>>>>> 4ac0aa6255f7b2407e14e3d87e194b0b6c85ce02
   "metadata": {},
   "outputs": [],
   "source": [
    "Sentence.parsers.append(PceParser())\n",
    "Paragraph.parsers.append(PceParser())"
   ]
  },
  {
   "cell_type": "code",
<<<<<<< HEAD
=======
   "execution_count": 6,
   "metadata": {},
   "outputs": [],
   "source": [
    "doc = Document(\n",
    "    Paragraph(\"A PCE of 10%\"),\n",
    "    Paragraph(\"materials with power conversion efﬁciency of 12% and 20%\"), # good enough for parsing\n",
    "    Paragraph(\"with the efficiency of 1%\"),\n",
    "    Paragraph(\"have the conversion efficiency of 10%\"),\n",
    "    Paragraph(\"pDTBDT-TTEH and pDTBDT-DTPD exhibited power conversion efficiencies (PCE) of 6.74% and 4.44%\"),\n",
    "#     Paragraph(\"The boiling point (bp) of Pottasium and Sodium are 20 ca.\")\n",
    "    Paragraph(\"PCE = 100 %\"),\n",
    "    Paragraph(\"the PCEs reached 10.1%\"),\n",
    "    Paragraph(\"a champion PCE result of 6.58%.\"),\n",
    "    Paragraph(\"a power conversion efﬁciency of 3.2%\"),#special symbol\n",
    "    Paragraph(\"The PCE of the PSCs based on P(BDT-TT-BO) reached 7.05%\")\n",
    ")\n",
    "\n",
    "rec = doc.records.serialize()"
   ]
  },
  {
   "cell_type": "code",
>>>>>>> 4ac0aa6255f7b2407e14e3d87e194b0b6c85ce02
   "execution_count": 7,
   "metadata": {},
   "outputs": [
    {
     "data": {
      "text/plain": [
<<<<<<< HEAD
       "[]"
=======
       "[{'pce_pattern': [{'value': '10', 'units': '%'}]},\n",
       " {'pce_pattern': [{'value': '12', 'units': '%'}]},\n",
       " {'names': ['DTPD']},\n",
       " {'pce_pattern': [{'value': '6.74', 'units': '%'}]},\n",
       " {'pce_pattern': [{'value': '100', 'units': '%'}]},\n",
       " {'pce_pattern': [{'value': '10.1', 'units': '%'}]},\n",
       " {'pce_pattern': [{'value': '6.58', 'units': '%'}]},\n",
       " {'pce_pattern': [{'value': '3.2', 'units': '%'}]}]"
>>>>>>> 4ac0aa6255f7b2407e14e3d87e194b0b6c85ce02
      ]
     },
     "execution_count": 7,
     "metadata": {},
     "output_type": "execute_result"
    }
   ],
   "source": [
    "doc = Document(\n",
    "    Paragraph(\"A pce of 10%\"),\n",
    "    Paragraph(\"materials with power-conversion efficiency (PCE) of 12% and 20%\"), # good enough for parsing\n",
    "    Paragraph(\"with the efficiency of 1%\"),\n",
    "    Paragraph(\"have the conversion efficiency of 10%\"),\n",
    ")\n",
    "\n",
    "doc.records.serialize()"
   ]
  },
  {
   "cell_type": "code",
<<<<<<< HEAD
=======
   "execution_count": 163,
   "metadata": {},
   "outputs": [],
   "source": [
    "## For test only############"
   ]
  },
  {
   "cell_type": "code",
   "execution_count": null,
   "metadata": {},
   "outputs": [],
   "source": []
  },
  {
   "cell_type": "code",
   "execution_count": null,
   "metadata": {},
   "outputs": [],
   "source": []
  },
  {
   "cell_type": "code",
   "execution_count": null,
   "metadata": {},
   "outputs": [],
   "source": []
  },
  {
   "cell_type": "code",
>>>>>>> 4ac0aa6255f7b2407e14e3d87e194b0b6c85ce02
   "execution_count": null,
   "metadata": {},
   "outputs": [],
   "source": []
  },
  {
   "cell_type": "markdown",
   "metadata": {},
   "source": [
    "**Voc parsers**"
   ]
  },
  {
   "cell_type": "code",
   "execution_count": null,
   "metadata": {},
   "outputs": [],
   "source": []
  },
  {
   "cell_type": "code",
   "execution_count": 5,
   "metadata": {},
   "outputs": [],
   "source": [
    "##comment on 12/09/2019\n",
    "\n",
    "class Voc(BaseModel):\n",
    "    value = StringType()\n",
    "    units = StringType()\n",
    "\n",
    "Compound.voc_pattern = ListType(ModelType(Voc))\n",
    "\n",
    "common_text = R('(\\w+)?\\D(\\D+)+(\\w+)?').hide()\n",
    "units = (W(u'V') | I(u'v') | I(u'volt') | I(u'volts'))(u'units').add_action(merge)\n",
    "value = R(u'\\d+(\\.\\d+)?')(u'value')\n",
    "\n",
    "abbrv_prefix = (I(u'Voc') | I(u'voc') | I(u'VOC')).hide()\n",
    "words_pref = (I(u'open') + I(u'circuit') + I(u'voltage')).hide()\n",
    "hyphanated_pref = (I(u'open') + I(u'-') + I('circuit') + I(u'voltage')).hide()\n",
    "joined_range = R('^[\\+\\-–−]?\\d+(\\.\\d+)?[\\-–−~∼˜]\\d+(\\.\\d+)?$')('value').add_action(merge)\n",
    "spaced_range = (R('^[\\+\\-–−]?\\d+(\\.\\d+)?$') + Optional(units).hide() + (R('^[\\-–−~∼˜]$') +\n",
    "                                                                        R('^[\\+\\-–−]?\\d+(\\.\\d+)?$') | R('^[\\+\\-–−]\\d+(\\.\\d+)?$')))('value').add_action(merge)\n",
    "to_range = (R('^[\\+\\-–−]?\\d+(\\.\\d+)?$') + Optional(units).hide() + (I('to') +\n",
    "                                                                    R('^[\\+\\-–−]?\\d+(\\.\\d+)?$') | R('^[\\+\\-–−]\\d+(\\.\\d+)?$')))('value').add_action(join)\n",
    "\n",
<<<<<<< HEAD
    "prefix = Optional(I('a')).hide() + (Optional(lbrct) + W('Voc') + Optional(rbrct) | I('open') + Optional(I('circuit')) + Optional((I('voltage')))\n",
    "                                    ).hide() + Optional(lbrct + W('Voc') + rbrct) + Optional(W('=') | I('of') | I('was') | I('is') | I('at')).hide() + Optional(I('in') + I('the') + I('range') + Optional(I('of')) | I('about') | ('around') | units).hide()\n",
=======
    "# prefix = Optional(I('a')).hide() + (Optional(lbrct) + W('Voc')|W('VOC') + Optional(rbrct) | I('open') + Optional(I('circuit')) + Optional((I('voltage')))\n",
    "#                                     ).hide() + Optional(lbrct + W('Voc') + rbrct) + Optional(W('=') | I('of') | I('was') | I('is') | I('at')).hide() + Optional(I('in') + I('the') + I('range') + Optional(I('of')) | I('about') | ('around') | I('V')).hide()\n",
    "# Original code from SAM\n",
    "\n",
    "prefix = Optional(I('a')).hide() + (Optional(lbrct) + I('Voc') + Optional(rbrct) | Optional(I('open')) + Optional(I('circuit')) + Optional((I('voltage')))\n",
    "                                    ).hide() + Optional(lbrct + W('Voc') + rbrct) + Optional(W('=') | W('¼') | I('of') | I('was') | I('is') | I('at')).hide() + Optional(I('in') + I('the') + I('range') + Optional(I('of')) | I('about') | ('around') | I('V')).hide()\n",
>>>>>>> 4ac0aa6255f7b2407e14e3d87e194b0b6c85ce02
    "\n",
    "voc_first  = (words_pref + (Optional(lbrct) + abbrv_prefix + Optional(rbrct)) + ZeroOrMore(common_text) + Optional(lbrct) + value + Optional(rbrct) + units)(u'voc')\n",
    "voc_second = (prefix + Optional(lbrct) + value + Optional(rbrct) + units)(u'voc')\n",
    "voc_pattern = voc_first | voc_second\n",
    "\n",
    "class VocParser(BaseParser):\n",
    "    root = voc_pattern\n",
    "\n",
    "    def interpret(self, result, start, end):\n",
    "        compound = Compound(\n",
    "            voc_pattern=[\n",
    "                Voc(\n",
    "                    value=first(result.xpath('./value/text()')),\n",
    "                    units=first(result.xpath('./units/text()'))\n",
    "                )\n",
    "            ]\n",
    "        )\n",
    "        yield compound"
   ]
  },
  {
   "cell_type": "code",
   "execution_count": 11,
   "metadata": {},
   "outputs": [],
   "source": [
    "# #This is code from original \n",
    "\n",
    "# class Voc(BaseModel):\n",
    "#     value = StringType()\n",
    "#     units = StringType()\n",
    "\n",
    "# Compound.voc_pattern = ListType(ModelType(Voc))\n",
    "\n",
    "# common_text = R('(\\w+)?\\D(\\D+)+(\\w+)?').hide()\n",
    "# units = (W(u'V') | I(u'v') | I(u'volt') | I(u'volts'))(u'units')\n",
    "# value = R(u'\\d+(\\.\\d+)?')(u'value')\n",
    "\n",
    "# abbrv_prefix = (I(u'Voc') | I(u'voc')).hide()\n",
    "# words_pref = (I(u'open') + I(u'circuit') + I(u'voltage')).hide()\n",
    "# hyphanated_pref = (I(u'open') + I(u'-') + I('circuit') + I(u'voltage')).hide()\n",
    "# joined_range = R('^[\\+\\-–−]?\\d+(\\.\\d+)?[\\-–−~∼˜]\\d+(\\.\\d+)?$')('value').add_action(merge)\n",
    "# spaced_range = (R('^[\\+\\-–−]?\\d+(\\.\\d+)?$') + Optional(units).hide() + (R('^[\\-–−~∼˜]$') +\n",
    "#                                                                         R('^[\\+\\-–−]?\\d+(\\.\\d+)?$') | R('^[\\+\\-–−]\\d+(\\.\\d+)?$')))('value').add_action(merge)\n",
    "# to_range = (R('^[\\+\\-–−]?\\d+(\\.\\d+)?$') + Optional(units).hide() + (I('to') +\n",
    "#                                                                     R('^[\\+\\-–−]?\\d+(\\.\\d+)?$') | R('^[\\+\\-–−]\\d+(\\.\\d+)?$')))('value').add_action(join)\n",
    "\n",
    "# prefix = Optional(I('a')).hide() + (Optional(lbrct) + W('Voc') + Optional(rbrct) | I('open') + Optional(I('circuit')) + Optional((I('voltage')))\n",
    "#                                     ).hide() + Optional(lbrct + W('Voc') + rbrct) + Optional(W('=') | I('of') | I('was') | I('is') | I('at')).hide() + Optional(I('in') + I('the') + I('range') + Optional(I('of')) | I('about') | ('around') | I('V')).hide()\n",
    "\n",
    "# voc_first  = (words_pref + (Optional(lbrct) + abbrv_prefix + Optional(rbrct)) + ZeroOrMore(common_text) + value + units)(u'voc')\n",
    "# voc_second = (prefix + value + units)(u'voc')\n",
    "# voc_pattern = voc_first | voc_second\n",
    "\n",
    "# class VocParser(BaseParser):\n",
    "#     root = voc_pattern\n",
    "\n",
    "#     def interpret(self, result, start, end):\n",
    "#         compound = Compound(\n",
    "#             voc_pattern=[\n",
    "#                 Voc(\n",
    "#                     value=first(result.xpath('./value/text()')),\n",
    "#                     units=first(result.xpath('./units/text()'))\n",
    "#                 )\n",
    "#             ]\n",
    "#         )\n",
    "#         yield compound"
   ]
  },
  {
   "cell_type": "code",
   "execution_count": 6,
   "metadata": {},
   "outputs": [],
   "source": [
    "Sentence.parsers.append(VocParser())\n",
    "Paragraph.parsers.append(VocParser())"
   ]
  },
  {
   "cell_type": "code",
   "execution_count": 13,
   "metadata": {},
   "outputs": [],
   "source": [
    "doc = Document(\n",
    "    Paragraph(\"A open circuit voltage (Voc) of 12 V\"),\n",
    "    Paragraph(\"A open-circuit voltage (Voc) of 144 V\"),\n",
    "    Paragraph(\"A Voc of 22 V\"),\n",
    "#     Paragraph(\"Differential scanning calorimetry revealed a glass transition temp. of (-19) ° for the homopolymer and 20° for the copolymer.\"),\n",
    "    Paragraph(\"VOC = 23 V\"),\n",
    ")\n",
    "\n",
    "rec = doc.records.serialize()"
   ]
  },
  {
   "cell_type": "code",
   "execution_count": 14,
   "metadata": {},
   "outputs": [
    {
     "data": {
      "text/plain": [
       "[{'voc_pattern': [{'value': '12', 'units': 'V'}]},\n",
       " {'voc_pattern': [{'value': '144', 'units': 'V'}]},\n",
       " {'voc_pattern': [{'value': '22', 'units': 'V'}]},\n",
       " {'voc_pattern': [{'value': '23', 'units': 'V'}]}]"
      ]
     },
     "execution_count": 14,
     "metadata": {},
     "output_type": "execute_result"
    }
   ],
   "source": [
    "rec"
   ]
  },
  {
   "cell_type": "markdown",
   "metadata": {},
   "source": [
    "**Jsc Parser**"
   ]
  },
  {
   "cell_type": "code",
   "execution_count": 7,
   "metadata": {},
   "outputs": [],
   "source": [
    "class Jsc(BaseModel):\n",
    "    value = StringType()\n",
    "    units = StringType()\n",
    "\n",
    "Compound.jsc_pattern = ListType(ModelType(Jsc))\n",
    "\n",
    "common_text = R('(\\w+)?\\D(\\D+)+(\\w+)?').hide()\n",
    "\n",
    "# delim = R('^[;:,\\./]$').hide()\n",
    "\n",
    "units = Optional(W('/')).hide() + (\n",
    "    R('^\\[?mAcm[-–−‒]?2\\]?$') |\n",
    "    W('mAcm') + R('^[-–−‒]$') + W('2') | \n",
    "    W('mA') + W(' ') + W('cm') + R('^[-–−‒]$') + W('2') |\n",
    "    R('^\\[?mA\\/cm2\\]?$') | \n",
    "    W('mA') + W('^\\/?$') + W('cm') +  W('2')|\n",
    "    W('mA') + R('^[-–/‒]$') + W('cm2')|\n",
    "    W('mA')\n",
    ")('units').add_action(merge)\n",
    "\n",
    "value = R(u'\\d+(\\.\\d+)?')(u'value')\n",
    "\n",
    "abbrv_prefix = (I(u'Jsc') | I(u'jsc')|I(u'JSC')).hide()\n",
    "words_pref = (I(u'short') + I(u'circuit') + I(u'current') + I(u'density')).hide()\n",
    "hyphanated_pref = (I(u'short') + I(u'-') + I('circuit') + I(u'current') + I(u'density')).hide()\n",
    "joined_range = R('^[\\+\\-–−]?\\d+(\\.\\d+)?[\\-–−~∼˜]\\d+(\\.\\d+)?$')('value').add_action(merge)\n",
    "spaced_range = (R('^[\\+\\-–−]?\\d+(\\.\\d+)?$') + Optional(units).hide() + (R('^[\\-–−~∼˜]$') +\n",
    "                                                                        R('^[\\+\\-–−]?\\d+(\\.\\d+)?$') | R('^[\\+\\-–−]\\d+(\\.\\d+)?$')))('value').add_action(merge)\n",
    "to_range = (R('^[\\+\\-–−]?\\d+(\\.\\d+)?$') + Optional(units).hide() + (I('to') +\n",
    "                                                                    R('^[\\+\\-–−]?\\d+(\\.\\d+)?$') | R('^[\\+\\-–−]\\d+(\\.\\d+)?$')))('value').add_action(join)\n",
    "\n",
    "# prefix = Optional(I('a')).hide() + (Optional(lbrct) + *W('Jsc')| W('JSC')* +  Optional(rbrct) | I('short') + Optional(I('circuit')) + Optional((I('current'))) + Optional(I('density'))\n",
    "#                                     ).hide() + Optional (words_pref).hide() + Optional(hyphanated_pref).hide() + Optional(lbrct + W('Jsc') + rbrct) + Optional(W('=') | I('of') | I('was') | I('is') | I('at')).hide() + Optional(I('in') + I('the') + I('range') + Optional(I('of')) | I('about') | I('around') + units).hide()\n",
    "\n",
    "# the star line code has been changed from W('Jsc')| W('JSC) to I('Jsc'), then the first and third paragraph is recognizable\n",
    "\n",
    "prefix = Optional(I('a')).hide() + (Optional(lbrct) + I('Jsc') + Optional(rbrct) | Optional(I('short')) + Optional(I('circuit')) + Optional((I('current'))) + Optional(I('density'))  \n",
    "                                   ).hide() + Optional(lbrct + W('Jsc') + rbrct) + Optional(W('=') | W('¼') | I('of') | I('was') | I('is') | I('at')).hide() + Optional(I('in') + I('the') + I('range') + Optional(I('of')) | I('about') | I('around')| I('mAcm-2') | I('mA/cm2')).hide()\n",
    "#original code from Sam\n",
    "# Sam's code allows to recognize number within ()\n",
    "# My code allows to recognize number within () too\n",
    "\n",
    "jsc_first  = (words_pref + (Optional(lbrct) + abbrv_prefix + Optional(rbrct)) + ZeroOrMore(common_text) + Optional(lbrct) + value + Optional(rbrct) + units)(u'jsc')\n",
    "jsc_second = (prefix + Optional(lbrct) + value + Optional(rbrct) + units)(u'jsc')\n",
    "\n",
    "jsc_pattern = jsc_first | jsc_second  \n",
    "\n",
    "class JscParser(BaseParser):\n",
    "    root = jsc_pattern\n",
    "\n",
    "    def interpret(self, result, start, end):\n",
    "        compound = Compound(\n",
    "            jsc_pattern=[\n",
    "                Jsc(\n",
    "                    value=first(result.xpath('./value/text()')),\n",
    "                    units=first(result.xpath('./units/text()'))\n",
    "                )\n",
    "            ]\n",
    "        )\n",
    "        yield compound"
   ]
  },
  {
   "cell_type": "code",
   "execution_count": 8,
   "metadata": {},
   "outputs": [],
   "source": [
    "Sentence.parsers.append(JscParser())\n",
    "Paragraph.parsers.append(JscParser())"
   ]
  },
  {
   "cell_type": "code",
   "execution_count": 17,
   "metadata": {},
   "outputs": [],
   "source": [
    "doc = Document(\n",
    "    Paragraph(\"A short-circuit current density (Jsc) of 12 mAcm-2\"),\n",
    "    Paragraph(\"A short circuit current density of 11 mA/cm2\"),\n",
    "    Paragraph(\"A short-circuit current density (Jsc) of 10 mAcm-2\"),\n",
    "    Paragraph(\"(JSC) = 15 mAcm-2\"),\n",
    "    Paragraph(\"Jsc = 13.364 mA cm−2\"),\n",
    "    Paragraph(\"A good current density (JSC) was obtained (6.92 mAcm–2)\")\n",
    ")\n",
    "\n",
    "rec = doc.records.serialize()"
   ]
  },
  {
   "cell_type": "code",
   "execution_count": 18,
   "metadata": {},
   "outputs": [
    {
     "data": {
      "text/plain": [
       "[{'jsc_pattern': [{'value': '12', 'units': 'mAcm-2'}]},\n",
       " {'jsc_pattern': [{'value': '11', 'units': 'mA/cm2'}]},\n",
       " {'jsc_pattern': [{'value': '10', 'units': 'mAcm-2'}]},\n",
       " {'jsc_pattern': [{'value': '15', 'units': 'mAcm-2'}]},\n",
       " {'jsc_pattern': [{'value': '13.364', 'units': 'mA'}]},\n",
       " {'jsc_pattern': [{'value': '6.92', 'units': 'mAcm–2'}]}]"
      ]
     },
     "execution_count": 18,
     "metadata": {},
     "output_type": "execute_result"
    }
   ],
   "source": [
    "rec\n",
    "# the star line code has been changed from W(u'Jsc')| W(u'JSC) to I(u'Jsc'), then the first and third paragraph is recognizable"
   ]
  },
  {
   "cell_type": "markdown",
   "metadata": {},
   "source": [
    "**Molecular Weight Parser**"
   ]
  },
  {
   "cell_type": "code",
<<<<<<< HEAD
   "execution_count": 16,
=======
   "execution_count": 19,
>>>>>>> 4ac0aa6255f7b2407e14e3d87e194b0b6c85ce02
   "metadata": {},
   "outputs": [],
   "source": [
    "class Mw(BaseModel):\n",
    "    value = StringType()\n",
    "    units = StringType()\n",
    "\n",
    "Compound.mw_pattern = ListType(ModelType(Mw))\n",
    "\n",
    "common_text = R('(\\w+)?\\D(\\D+)+(\\w+)?').hide()\n",
    "\n",
    "units = Optional(W('/')).hide() + (\n",
    "    R('^\\[?kgmol[-–−‒]?1\\]?$') |\n",
    "    W('kgmol') + R('^[-–−‒]$') + W('1') | \n",
    "    R('\\[?kg[\\/]?mol\\]?$') | \n",
    "    W('kg') + W('^\\/?$') + W('mol'\n",
    "                            )|\n",
    "    W('kg') + R('^[-–/‒]$') + W('mol')\n",
    ")('units').add_action(merge)\n",
    "\n",
    "value = R(u'\\d+(\\.\\d+)?')(u'value')\n",
    "\n",
    "abbrv_prefix = (I(u'Mw') | I(u'mw')).hide()\n",
    "words_pref = ((I(u'molecular') + I(u'weight')) | (I(u'polymer') + I(u'weight'))).hide()\n",
    "\n",
    "joined_range = R('^[\\+\\-–−]?\\d+(\\.\\d+)?[\\-–−~∼˜]\\d+(\\.\\d+)?$')('value').add_action(merge)\n",
    "spaced_range = (R('^[\\+\\-–−]?\\d+(\\.\\d+)?$') + Optional(units).hide() + (R('^[\\-–−~∼˜]$') +\n",
    "                                                                        R('^[\\+\\-–−]?\\d+(\\.\\d+)?$') | R('^[\\+\\-–−]\\d+(\\.\\d+)?$')))('value').add_action(merge)\n",
    "to_range = (R('^[\\+\\-–−]?\\d+(\\.\\d+)?$') + Optional(units).hide() + (I('to') +\n",
    "                                                                    R('^[\\+\\-–−]?\\d+(\\.\\d+)?$') | R('^[\\+\\-–−]\\d+(\\.\\d+)?$')))('value').add_action(join)\n",
    "\n",
    "prefix = Optional(I('a')).hide() + (Optional(lbrct) + W('Mw') + Optional(rbrct) | I('molecular') + Optional(I('weight')) | I('polymer') + Optional(I('weight'))\n",
    "                                    ).hide() + Optional(lbrct + W('Mw') + rbrct) + Optional(W('=') | W('¼') | I('of') | I('was') | I('is') | I('at')).hide() + Optional(I('in') + I('the') + I('range') + Optional(I('of')) | I('about') | ('around') | I('kgmol-1') | I('kg/mol')).hide()\n",
    "\n",
    "mw_first  = (words_pref + (Optional(lbrct) + abbrv_prefix + Optional(rbrct)) + ZeroOrMore(common_text) + value + units)(u'mw')\n",
    "mw_second = (prefix + value + units)(u'mw')\n",
    "mw_pattern = mw_first | mw_second\n",
    "\n",
    "class MwParser(BaseParser):\n",
    "    root = mw_pattern\n",
    "\n",
    "    def interpret(self, result, start, end):\n",
    "        compound = Compound(\n",
    "            mw_pattern=[\n",
    "                Mw(\n",
    "                    value=first(result.xpath('./value/text()')),\n",
    "                    units=first(result.xpath('./units/text()'))\n",
    "                )\n",
    "            ]\n",
    "        )\n",
    "        yield compound"
   ]
  },
  {
   "cell_type": "code",
<<<<<<< HEAD
   "execution_count": 17,
=======
   "execution_count": 20,
>>>>>>> 4ac0aa6255f7b2407e14e3d87e194b0b6c85ce02
   "metadata": {},
   "outputs": [],
   "source": [
    "Sentence.parsers.append(MwParser())\n",
    "Paragraph.parsers.append(MwParser())"
   ]
  },
  {
   "cell_type": "code",
<<<<<<< HEAD
   "execution_count": 18,
=======
   "execution_count": 21,
>>>>>>> 4ac0aa6255f7b2407e14e3d87e194b0b6c85ce02
   "metadata": {},
   "outputs": [],
   "source": [
    "doc = Document(\n",
    "    Paragraph(\"the polymer weight about 100 kg/mol\"),\n",
    "    Paragraph(\"PBDT has a molecular weight (Mw) of 110 kg/mol\"),\n",
    "    Paragraph(\"PSEHTT has a molecular weight (Mw) of 120 kgmol-1\"),\n",
    "    Paragraph(\"this PSEHTT has a molecular weight of 200 kgmol-1\"),\n",
    ")\n",
    "\n",
    "rec = doc.records.serialize()"
   ]
  },
  {
   "cell_type": "code",
<<<<<<< HEAD
   "execution_count": 19,
=======
   "execution_count": 22,
>>>>>>> 4ac0aa6255f7b2407e14e3d87e194b0b6c85ce02
   "metadata": {},
   "outputs": [
    {
     "data": {
      "text/plain": [
       "[{'mw_pattern': [{'value': '100', 'units': 'kg/mol'}]},\n",
       " {'names': ['PBDT']},\n",
       " {'mw_pattern': [{'value': '110', 'units': 'kg/mol'}]},\n",
       " {'mw_pattern': [{'value': '120', 'units': 'kgmol-1'}]},\n",
       " {'mw_pattern': [{'value': '200', 'units': 'kgmol-1'}]}]"
      ]
     },
<<<<<<< HEAD
     "execution_count": 19,
=======
     "execution_count": 22,
>>>>>>> 4ac0aa6255f7b2407e14e3d87e194b0b6c85ce02
     "metadata": {},
     "output_type": "execute_result"
    }
   ],
   "source": [
    "rec"
   ]
  },
  {
   "cell_type": "code",
   "execution_count": null,
   "metadata": {},
   "outputs": [],
   "source": []
  },
  {
   "cell_type": "markdown",
   "metadata": {},
   "source": [
    "**FF Parser**"
   ]
  },
  {
   "cell_type": "code",
<<<<<<< HEAD
   "execution_count": 20,
=======
   "execution_count": 9,
>>>>>>> 4ac0aa6255f7b2407e14e3d87e194b0b6c85ce02
   "metadata": {},
   "outputs": [],
   "source": [
    "class Ff(BaseModel):\n",
    "    value = StringType()\n",
    "    units = StringType()\n",
    "\n",
    "Compound.ff_pattern = ListType(ModelType(Ff))\n",
    "\n",
    "common_text = R('(\\w+)?\\D(\\D+)+(\\w+)?').hide()\n",
    "units = (W(u'%') | I(u'percent'))(u'units') \n",
    "# units = (W(u'%'|W(u' ')|I(u'percent')))('units').add_action(merge)\n",
    "\n",
    "value = R(u'\\d+(\\.\\d+)?')(u'value')\n",
    "\n",
    "abbrv_prefix = (I(u'FF') | I(u'ff')).hide()\n",
    "words_pref = (I(u'fill') | I(u'ﬁll') + I(u'factor')).hide()\n",
    "hyphanated_pref = (I(u'fill') | I(u'ﬁll') + I(u'-') + I('factor')).hide()\n",
    "joined_range = R('^[\\+\\-–−]?\\d+(\\.\\d+)?[\\-–−~∼˜]\\d+(\\.\\d+)?$')('value').add_action(merge)\n",
    "spaced_range = (R('^[\\+\\-–−]?\\d+(\\.\\d+)?$') + Optional(units).hide() + (R('^[\\-–−~∼˜]$') +\n",
    "                                                                        R('^[\\+\\-–−]?\\d+(\\.\\d+)?$') | R('^[\\+\\-–−]\\d+(\\.\\d+)?$')))('value').add_action(merge)\n",
    "to_range = (R('^[\\+\\-–−]?\\d+(\\.\\d+)?$') + Optional(units).hide() + (I('to') +\n",
    "                                                                    R('^[\\+\\-–−]?\\d+(\\.\\d+)?$') | R('^[\\+\\-–−]\\d+(\\.\\d+)?$')))('value').add_action(join)\n",
    "\n",
    "prefix = Optional(I('a')).hide() + (Optional(lbrct) + W('FF') + Optional(rbrct) | I('fill') | I('ﬁll') + Optional(I('factor'))\n",
    "                                    ).hide() + Optional(lbrct + W('FF') + rbrct) + Optional(W('=') | W('¼') | W(';') | W(',') | I('of') | I('was') | I('is') | I('at')).hide() + Optional(I('in') + I('the') + I('range') + Optional(I('of')) | I('about') | I('to') |I('around')| I ('%')).hide()\n",
    "\n",
    "ff_first  = (words_pref + (Optional(lbrct) + abbrv_prefix + Optional(rbrct)) + ZeroOrMore(common_text) + value + Optional(units))(u'ff')\n",
    "ff_second = (prefix + value + Optional(units))(u'ff')\n",
    "ff_third = (abbrv_prefix + prefix + value)(u'ff')\n",
    "ff_pattern = ff_first|ff_second|ff_third\n",
    "\n",
    "\n",
    "\n",
    "class FfParser(BaseParser):\n",
    "    root = ff_pattern\n",
    "\n",
    "    def interpret(self, result, start, end):\n",
    "        compound = Compound(\n",
    "            ff_pattern=[\n",
    "                Ff(\n",
    "                    value=first(result.xpath('./value/text()')),\n",
    "                    units=first(result.xpath('./units/text()'))\n",
    "                )\n",
    "            ]\n",
    "        )\n",
    "        yield compound\n",
    "\n",
    "def parse_ff(list_of_sentences):\n",
    "    \"\"\" \n",
    "    Takes a list of sentences and parses for quantified PCE\n",
    "    information and relationships to chemicals/chemical labels\n",
    "    \"\"\"\n",
    "\n",
    "    Sentence.parsers.append(FfParser())\n",
    "\n",
    "    cde_senteces = [Sentence(sent).records.serialize()\n",
    "                    for sent in list_of_sentences]\n",
    "    return cde_senteces\n"
   ]
  },
  {
   "cell_type": "code",
<<<<<<< HEAD
   "execution_count": 21,
=======
   "execution_count": 10,
>>>>>>> 4ac0aa6255f7b2407e14e3d87e194b0b6c85ce02
   "metadata": {},
   "outputs": [],
   "source": [
    "Sentence.parsers.append(FfParser())\n",
    "Paragraph.parsers.append(FfParser())"
   ]
  },
  {
   "cell_type": "code",
<<<<<<< HEAD
   "execution_count": 22,
=======
   "execution_count": 25,
>>>>>>> 4ac0aa6255f7b2407e14e3d87e194b0b6c85ce02
   "metadata": {},
   "outputs": [],
   "source": [
    "doc = Document(\n",
    "    Paragraph(\"We obtained a maximum PCE value of 4.32%.\"),\n",
    "    Paragraph(\"FF is about 30 percent\"),\n",
    "    Paragraph(\"FF = 0.5%\"),\n",
    "    Paragraph(\"Fill factor, at the time, is increased to 0.7%\"),\n",
    "    Paragraph(\"FF is about 29\"),\n",
    "    Paragraph(\"Notably, the PCE reached 10.1% (JSC =19.4 mAcm–2, VOC =0.708 V, FF=73.4%)\"),\n",
    "    Paragraph(\"FF; 29\"),\n",
    "    Paragraph(\"The optimized PBDTDTBTz device had a thickness of 60 nm, combined with a Voc value of 0.61 V to give an efﬁciency of 1.5%\")\n",
    ")\n",
    "\n",
    "rec = doc.records.serialize()"
   ]
  },
  {
   "cell_type": "code",
<<<<<<< HEAD
   "execution_count": 23,
=======
   "execution_count": 12,
>>>>>>> 4ac0aa6255f7b2407e14e3d87e194b0b6c85ce02
   "metadata": {},
   "outputs": [
    {
     "data": {
      "text/plain": [
       "[{'pce_pattern': [{'value': '10', 'units': '%'}]},\n",
       " {'pce_pattern': [{'value': '12', 'units': '%'}]},\n",
       " {'names': ['DTPD']},\n",
       " {'pce_pattern': [{'value': '6.74', 'units': '%'}]},\n",
       " {'pce_pattern': [{'value': '100', 'units': '%'}]},\n",
       " {'pce_pattern': [{'value': '10.1', 'units': '%'}]},\n",
       " {'pce_pattern': [{'value': '6.58', 'units': '%'}]},\n",
       " {'pce_pattern': [{'value': '3.2', 'units': '%'}]}]"
      ]
     },
<<<<<<< HEAD
     "execution_count": 23,
=======
     "execution_count": 12,
>>>>>>> 4ac0aa6255f7b2407e14e3d87e194b0b6c85ce02
     "metadata": {},
     "output_type": "execute_result"
    }
   ],
   "source": [
    "rec"
   ]
  },
  {
   "cell_type": "code",
   "execution_count": null,
   "metadata": {},
   "outputs": [],
   "source": []
  },
  {
   "cell_type": "code",
<<<<<<< HEAD
   "execution_count": 24,
=======
   "execution_count": 27,
>>>>>>> 4ac0aa6255f7b2407e14e3d87e194b0b6c85ce02
   "metadata": {},
   "outputs": [],
   "source": [
    "## For test article only############"
   ]
  },
  {
   "cell_type": "code",
<<<<<<< HEAD
   "execution_count": 26,
   "metadata": {},
   "outputs": [],
   "source": [
    "# abstract_doc = doc.elements[11]\n",
    "# abstract1_doc = doc1.elements[7] + doc1.elements[8]\n",
    "# abstract2_doc = doc2.elements[7] + doc2.elements[8]\n",
    "# abstract3_doc = doc3.elements[10]\n",
    "# abstract4_doc = doc4.elements[12]\n",
    "# abstract5_doc = doc5.elements[3] + doc5.elements[4]\n",
    "# abstract6_doc = doc6.elements[5] + doc6.elements[6] + doc6.elements[7] + doc6.elements[8]\n",
    "# abstract7_doc = doc7.elements[11]"
=======
   "execution_count": 12,
   "metadata": {},
   "outputs": [],
   "source": [
    "rec = docs[0].records.serialize()"
>>>>>>> 4ac0aa6255f7b2407e14e3d87e194b0b6c85ce02
   ]
  },
  {
   "cell_type": "code",
<<<<<<< HEAD
   "execution_count": 28,
   "metadata": {},
   "outputs": [],
   "source": [
    "# goes back to the doc in paper0\n",
    "# abstract_doc = doc.elements[11]\n",
    "# abstract_doc"
=======
   "execution_count": 15,
   "metadata": {
    "scrolled": true
   },
   "outputs": [
    {
     "data": {
      "text/plain": [
       "[{'names': ['Pd']},\n",
       " {'names': ['nonthiophene heterocycles']},\n",
       " {'names': ['benzofuran-substituted diketopyrrolopyrrole']},\n",
       " {'names': ['Carbon']},\n",
       " {'names': ['thio- phene']},\n",
       " {'names': ['oxygen']},\n",
       " {'names': ['sulfur']},\n",
       " {'names': ['bisoctyloxy substituted benzothiadiazole']},\n",
       " {'names': ['furan-con-']},\n",
       " {'names': ['Na']},\n",
       " {'names': ['benzophenone ketyl']},\n",
       " {'names': ['polystyrenes']},\n",
       " {'names': ['tetrabutylammonium']},\n",
       " {'names': ['hexaﬂuorophosphate']},\n",
       " {'names': ['Bu4NPF6']},\n",
       " {'names': ['acetonitrile']},\n",
       " {'names': ['PCBM']},\n",
       " {'names': ['o- dichlorobenzene']},\n",
       " {'names': ['xenon']},\n",
       " {'names': ['NaHCO3']},\n",
       " {'names': ['H2O']},\n",
       " {'names': ['ammonium chloride']},\n",
       " {'names': ['chlorobenzene']},\n",
       " {'names': ['acetic acid']},\n",
       " {'names': ['saturated sodium bicar- bonate']},\n",
       " {'names': ['13C']},\n",
       " {'names': ['toluene']},\n",
       " {'names': ['methanol']},\n",
       " {'names': ['meth- anol']},\n",
       " {'names': ['hexane']},\n",
       " {'names': ['Mn ¼ 6.2kDa']},\n",
       " {'names': ['br,2H']},\n",
       " {'names': ['8H']},\n",
       " {'names': ['(C56H74N2O6S2)n']},\n",
       " {'names': ['N']},\n",
       " {'labels': ['1'], 'roles': ['compound']},\n",
       " {'labels': ['2'], 'roles': ['compound']},\n",
       " {'names': ['palladium']},\n",
       " {'names': ['PBDT-DODTBT']},\n",
       " {'names': ['PBDT- DODTBT,17']},\n",
       " {'names': ['CnH2n+1']},\n",
       " {'names': ['dichloro- benzene']},\n",
       " {'names': ['fullerene']},\n",
       " {'names': ['PBDT-DODTBT.17']},\n",
       " {'names': ['1-chloronaph- thalene', 'CN']},\n",
       " {'names': ['CH3CN']},\n",
       " {'names': ['furan substituted benzothiadiazole']},\n",
       " {'names': ['O']},\n",
       " {'names': ['S']},\n",
       " {'names': ['Bo']},\n",
       " {'names': ['C. Zhou']},\n",
       " {'names': ['Macromol']},\n",
       " {'names': ['He']},\n",
       " {'names': ['Cofﬁn']},\n",
       " {'names': ['benzo- thiadiazole']},\n",
       " {'names': ['furans']},\n",
       " {'names': ['PBDT']},\n",
       " {'names': ['Pt']},\n",
       " {'names': ['4,7-Difuran-2-yl-5,6-bis(octyloxy)benzo-2,1,3-thiadiazole'],\n",
       "  'nmr_spectra': [{'nucleus': '1H',\n",
       "    'solvent': 'CDCl3',\n",
       "    'frequency': '600',\n",
       "    'frequency_units': 'MHz',\n",
       "    'temperature': 'room temperature',\n",
       "    'apparatus': 'Bruker AV 600 spectrometer',\n",
       "    'peaks': [{'shift': '7.72',\n",
       "      'multiplicity': 'd',\n",
       "      'number': '2H',\n",
       "      'assignment': 'Ar–H'},\n",
       "     {'shift': '7.44',\n",
       "      'multiplicity': 'd',\n",
       "      'number': '2H',\n",
       "      'assignment': 'Ar–H'},\n",
       "     {'shift': '6.67',\n",
       "      'multiplicity': 'dd',\n",
       "      'number': '2H',\n",
       "      'assignment': 'Ar–H'},\n",
       "     {'shift': '4.12',\n",
       "      'multiplicity': 't',\n",
       "      'number': '4H',\n",
       "      'assignment': 'CH2'},\n",
       "     {'shift': '1.87',\n",
       "      'multiplicity': 'm',\n",
       "      'number': '4H',\n",
       "      'assignment': 'CH2'},\n",
       "     {'shift': '1.48',\n",
       "      'multiplicity': 'm',\n",
       "      'number': '4H',\n",
       "      'assignment': 'CH2'},\n",
       "     {'shift': '1.31–1.36',\n",
       "      'multiplicity': 'm',\n",
       "      'number': '16H',\n",
       "      'assignment': 'CH2'},\n",
       "     {'shift': '0.92',\n",
       "      'multiplicity': 't',\n",
       "      'number': '6H',\n",
       "      'assignment': 'CH3'}]}]},\n",
       " {'names': ['2-furanboric acid']},\n",
       " {'names': ['Pd(PPh3)4']},\n",
       " {'names': ['ethyl acetate']},\n",
       " {'names': ['sodium sulfate']},\n",
       " {'names': ['silica']},\n",
       " {'names': ['Ar–H']},\n",
       " {'names': ['CH2']},\n",
       " {'names': ['N-bromosucci- mide', 'NBS']},\n",
       " {'names': ['2H']},\n",
       " {'names': ['Ag']},\n",
       " {'names': ['CH3']},\n",
       " {'names': ['quartz']},\n",
       " {'names': ['Ca']},\n",
       " {'names': ['Al']},\n",
       " {'names': ['J. Am', 'J.Am']},\n",
       " {'names': ['Ag+']},\n",
       " {'names': ['THF', 'Tetrahydrofuran', 'tetrahydrofuran']},\n",
       " {'names': ['ITO']},\n",
       " {'names': ['PEDOT']},\n",
       " {'names': ['nitrogen']},\n",
       " {'names': ['CDCl3']},\n",
       " {'names': ['1H']},\n",
       " {'names': ['benzothiadiazole',\n",
       "   '4,7-Bis(5-bromofuran-2-yl)-5,6-bis(octyloxy)benzo-2,1,3-thia- diazole',\n",
       "   'FBT'],\n",
       "  'nmr_spectra': [{'nucleus': '1H',\n",
       "    'solvent': 'CDCl3',\n",
       "    'frequency': '600',\n",
       "    'frequency_units': 'MHz',\n",
       "    'temperature': 'room temperature',\n",
       "    'apparatus': 'Bruker AV 600 spectrometer',\n",
       "    'peaks': [{'shift': '7.48',\n",
       "      'multiplicity': 'd',\n",
       "      'number': '2H',\n",
       "      'assignment': 'Ar–H'},\n",
       "     {'shift': '6.56',\n",
       "      'multiplicity': 'd',\n",
       "      'number': '2H',\n",
       "      'assignment': 'Ar–H'},\n",
       "     {'shift': '4.13',\n",
       "      'multiplicity': 't',\n",
       "      'number': '4H',\n",
       "      'assignment': 'CH2'},\n",
       "     {'shift': '1.93',\n",
       "      'multiplicity': 'm',\n",
       "      'number': '4H',\n",
       "      'assignment': 'CH2'},\n",
       "     {'shift': '1.51',\n",
       "      'multiplicity': 'm',\n",
       "      'number': '4H',\n",
       "      'assignment': 'CH2'},\n",
       "     {'shift': '1.25–1.38',\n",
       "      'multiplicity': 'm',\n",
       "      'number': '16H',\n",
       "      'assignment': 'CH2'},\n",
       "     {'shift': '0.90',\n",
       "      'multiplicity': 't',\n",
       "      'number': '6H',\n",
       "      'assignment': 'CH3'}]},\n",
       "   {'nucleus': '13C',\n",
       "    'solvent': 'CDCl3',\n",
       "    'frequency': '600',\n",
       "    'frequency_units': 'MHz',\n",
       "    'temperature': 'room temperature',\n",
       "    'apparatus': 'Bruker AV 600 spectrometer',\n",
       "    'peaks': [{'shift': '152.64'},\n",
       "     {'shift': '149.57'},\n",
       "     {'shift': '149.52'},\n",
       "     {'shift': '122.86'},\n",
       "     {'shift': '116.51'},\n",
       "     {'shift': '113.65'},\n",
       "     {'shift': '113.44'},\n",
       "     {'shift': '75.18'},\n",
       "     {'shift': '31.85'},\n",
       "     {'shift': '30.27'},\n",
       "     {'shift': '29.58'},\n",
       "     {'shift': '29.29'},\n",
       "     {'shift': '26.12'},\n",
       "     {'shift': '22.68'},\n",
       "     {'shift': '14.10'}]},\n",
       "   {'nucleus': '1H',\n",
       "    'solvent': 'CDCl3',\n",
       "    'frequency': '600',\n",
       "    'frequency_units': 'MHz',\n",
       "    'temperature': 'room temperature',\n",
       "    'apparatus': 'Bruker AV 600 spectrometer',\n",
       "    'peaks': [{'shift': '7.80', 'assignment': 'br,2H'},\n",
       "     {'shift': '7.61', 'multiplicity': 'br', 'number': '2H'},\n",
       "     {'shift': '6.96', 'multiplicity': 'br', 'number': '2H'},\n",
       "     {'shift': '4.25', 'multiplicity': 'br', 'number': '8H'},\n",
       "     {'shift': '1.99–1.22', 'multiplicity': 'm', 'number': '52H'},\n",
       "     {'shift': '1.11–0.82', 'multiplicity': 'm', 'number': '18H'}]}],\n",
       "  'voc_pattern': [{'value': '1)1.23', 'units': 'V'},\n",
       "   {'value': '0.73', 'units': 'V'}]},\n",
       " {'names': ['PFBT-BDT:PC71BM'],\n",
       "  'pce_pattern': [{'value': '2.81', 'units': '%'}],\n",
       "  'voc_pattern': [{'value': '0.94', 'units': 'V'}]},\n",
       " {'names': ['PFBT']},\n",
       " {'names': ['thiophene']},\n",
       " {'names': ['chloroform']},\n",
       " {'names': ['PFBT -', 'PFBT-']},\n",
       " {'names': ['PC71BM', 'phenyl-C71-butyric acid methyl ester']},\n",
       " {'names': ['C min'],\n",
       "  'pce_pattern': [{'value': '2.81', 'units': '%'}],\n",
       "  'voc_pattern': [{'value': '0.94', 'units': 'V'},\n",
       "   {'value': '0.2', 'units': 'V'}],\n",
       "  'jsc_pattern': [{'value': '6.5', 'units': 'mA'}],\n",
       "  'ff_pattern': [{'value': '0.46'}]},\n",
       " {'names': ['F']},\n",
       " {'names': ['H']},\n",
       " {'names': ['furan'],\n",
       "  'pce_pattern': [{'value': '2.81', 'units': '%'}],\n",
       "  'voc_pattern': [{'value': '0.94', 'units': 'V'}]},\n",
       " {'names': ['BDT', 'benzodithiophene']},\n",
       " {'names': ['Li']}]"
      ]
     },
     "execution_count": 15,
     "metadata": {},
     "output_type": "execute_result"
    }
   ],
   "source": [
    "rec"
>>>>>>> 4ac0aa6255f7b2407e14e3d87e194b0b6c85ce02
   ]
  },
  {
   "cell_type": "code",
<<<<<<< HEAD
   "execution_count": 29,
   "metadata": {},
   "outputs": [],
   "source": [
    "# doc = Document(\n",
    "#     Heading(\"The followings are abstracts\"),\n",
    "#     abstract_doc,\n",
    "#     abstract1_doc,\n",
    "#     abstract2_doc,\n",
    "#     abstract3_doc,\n",
    "#     abstract4_doc,\n",
    "#     abstract5_doc,\n",
    "#     abstract6_doc,\n",
    "#     abstract7_doc\n",
    "# )\n",
    "\n",
    "# rec = doc.records.serialize()"
=======
   "execution_count": null,
   "metadata": {},
   "outputs": [],
   "source": []
  },
  {
   "cell_type": "code",
   "execution_count": null,
   "metadata": {},
   "outputs": [],
   "source": []
  },
  {
   "cell_type": "code",
   "execution_count": null,
   "metadata": {},
   "outputs": [],
   "source": []
  },
  {
   "cell_type": "code",
   "execution_count": null,
   "metadata": {},
   "outputs": [],
   "source": [
    "########for test sentecnce from article only"
>>>>>>> 4ac0aa6255f7b2407e14e3d87e194b0b6c85ce02
   ]
  },
  {
   "cell_type": "code",
<<<<<<< HEAD
   "execution_count": 30,
=======
   "execution_count": 335,
>>>>>>> 4ac0aa6255f7b2407e14e3d87e194b0b6c85ce02
   "metadata": {},
   "outputs": [
    {
     "data": {
      "text/plain": [
<<<<<<< HEAD
       "[{'ff_pattern': [{'value': '20', 'units': '%'}]},\n",
       " {'ff_pattern': [{'value': '30', 'units': '%'}]}]"
      ]
     },
     "execution_count": 30,
=======
       "[{'pce_pattern': [{'value': '7.52', 'units': '%'}]},\n",
       " {'voc_pattern': [{'value': '0.87', 'units': 'V'}]},\n",
       " {'pce_pattern': [{'value': '7.1', 'units': '%'}]},\n",
       " {'pce_pattern': [{'value': '3.4', 'units': '%'}]},\n",
       " {'names': ['P(BDT-TT-BO)']}]"
      ]
     },
     "execution_count": 335,
>>>>>>> 4ac0aa6255f7b2407e14e3d87e194b0b6c85ce02
     "metadata": {},
     "output_type": "execute_result"
    }
   ],
   "source": [
    "doc = Document(\n",
    "    Paragraph(\"high performance inverted photovoltaic solar cells with a power conversion efficiency of 7.52% have been demonstrated.\"),\n",
    "    Paragraph(\"an open-circuit voltage of 0.87 V\"),\n",
    "    Paragraph(\"A power conversion efficiency of 7.1% \"),\n",
    "    Paragraph(\"The solar cell based on FBT polymer and PC71BM gives power conversion efficiency up to 3.4%\"),\n",
    "    Paragraph(\"Power conversion efficiency of the polymer solar cell with P(BDT-TT-BO) as donor reached 7.05%\"), # too long\n",
    "    Paragraph(\"short-circuit current density (Jsc) of 8.96 mA(cid:4) cm (cid:3)2\"),\n",
    "    Paragraph(\"We obtained a maximum PCE value of 4.32%\")\n",
    ")\n",
    "\n",
    "rec = doc.records.serialize()\n",
    "rec"
   ]
  },
  {
   "cell_type": "code",
   "execution_count": null,
   "metadata": {},
<<<<<<< HEAD
   "source": [
    "from the above we can see the following results, the tabulated \n",
    "\n",
    "| Paper          | PCE (real)   | PCE (found)  |\n",
    "| :------------- | :----------: | -----------: |\n",
    "| paper0         | 2.55,5.86    | 2.55, 5.86   |\n",
    "| paper1         | 5.52, 7.04   | 5.52, 1.76 (not exp), 6.3|\n",
    "| paper2         | 1.19, 0.79   | P1 and P2 problem|\n",
    "| paper3         | N/A          | no PCE reported in abst|\n",
    "| paper4         | 6.74, 4.44   | 6.74         |\n",
    "| paper5         | 1.33, None   | P1 and P2 problem |\n",
    "| paper6         | 0.22, 0.31,1.38 | 1.38      |\n",
    "| paper7         | 3.04, 1.91   | 1.91         |"
   ]
=======
   "outputs": [],
   "source": []
  },
  {
   "cell_type": "code",
   "execution_count": null,
   "metadata": {},
   "outputs": [],
   "source": []
>>>>>>> 4ac0aa6255f7b2407e14e3d87e194b0b6c85ce02
  },
  {
   "cell_type": "code",
   "execution_count": null,
   "metadata": {},
   "outputs": [],
   "source": []
  },
  {
   "cell_type": "code",
<<<<<<< HEAD
   "execution_count": 31,
=======
   "execution_count": null,
>>>>>>> 4ac0aa6255f7b2407e14e3d87e194b0b6c85ce02
   "metadata": {},
   "outputs": [],
   "source": []
  },
  {
   "cell_type": "code",
   "execution_count": null,
   "metadata": {},
   "outputs": [],
   "source": []
  },
  {
   "cell_type": "code",
   "execution_count": null,
   "metadata": {},
   "outputs": [],
   "source": []
  },
  {
   "cell_type": "markdown",
   "metadata": {},
   "source": [
<<<<<<< HEAD
    "doc_form = Document(\n",
    "    Heading(\"The followings are abstracts\"),\n",
    "    doc,\n",
    "    doc1,\n",
    "#     doc2,\n",
    "#     doc3,\n",
    "#     doc4,\n",
    "#     doc5,\n",
    "#     doc6,\n",
    "#     doc7\n",
    ")\n",
=======
    "### Compare to the testing dataset\n",
>>>>>>> 4ac0aa6255f7b2407e14e3d87e194b0b6c85ce02
    "\n",
    "In this case we extract our information from abstracts from all 8 papers and then compare to what they have originally in the text. "
   ]
  },
  {
   "cell_type": "code",
<<<<<<< HEAD
   "execution_count": 32,
   "metadata": {},
   "outputs": [
    {
     "data": {
      "text/plain": [
       "[{'ff_pattern': [{'value': '20', 'units': '%'}]},\n",
       " {'ff_pattern': [{'value': '30', 'units': '%'}]},\n",
       " {'names': ['2,1,3-ben- zothiadiazole', 'BT']},\n",
       " {'names': ['4,7-dithien-2-yl-2,1,3-benzothiadiazole', 'DTBT']},\n",
       " {'names': ['ﬂuorenes,6a carbazoles,6b dibenzosiloles,2c dithienosiloles,6c ladder oligo-p- phenylenes,6d']},\n",
       " {'names': ['pyrrole']},\n",
       " {'names': ['PBDTTPDa']},\n",
       " {'names': ['P(o-tolyl)3']},\n",
       " {'names': ['toluene']},\n",
       " {'names': ['platinum']},\n",
       " {'names': ['Bu4NBF4']},\n",
       " {'names': ['CH3CN']},\n",
       " {'names': ['2,6-bis(trimethyltin)-4,8-di(2-ethylhexy- loxyl)benzo[1,2-b:4,5-b′]dithiophene7a and 1,3-dibromo-5-octylth- ieno-[3,4-c]pyrrole-4,6-dione8e']},\n",
       " {'names': ['o-dichlo- robenzene', 'ODCB']},\n",
       " {'names': ['BDT']},\n",
       " {'names': ['alkoxy']},\n",
       " {'names': ['ITO']},\n",
       " {'names': ['LiF']},\n",
       " {'names': ['Al']},\n",
       " {'names': ['poly(3,4-ethylenedioxy- thiophene )']},\n",
       " {'names': ['poly(styrenesulfonate)']},\n",
       " {'names': ['lithium ﬂuoride ( LiF )']},\n",
       " {'names': ['low-band-gap thieno[3,4-c]pyrrole-4,6- dione']},\n",
       " {'names': ['Met']},\n",
       " {'names': ['JA101888B']},\n",
       " {'names': ['benzodithiophenes', 'BDTs']},\n",
       " {'names': ['alkyl']},\n",
       " {'names': ['chloroform']},\n",
       " {'names': ['PEDOT']},\n",
       " {'names': ['1,2,4-trichlorobenzene', 'TCB']},\n",
       " {'names': ['C O M M U N I C A T I O N S'],\n",
       "  'voc_pattern': [{'value': '0.85', 'units': 'V'}]},\n",
       " {'names': ['H']},\n",
       " {'names': ['Pomerantz']},\n",
       " {'names': ['6,6-phenyl-C61-butyric acid methyl ester', 'PC61BM']},\n",
       " {'names': ['PC71BM', '[6,6]-phenyl-C71-butyric acid methyl ester'],\n",
       "  'labels': ['9']},\n",
       " {'names': ['Li']},\n",
       " {'names': ['Thieno[3,4-c]pyrrole-4,6-dione',\n",
       "   'thieno[3,4-c]pyrrole-4,6-dione',\n",
       "   'TPD',\n",
       "   'thieno[3,4- c]pyrrole-4,6-dione'],\n",
       "  'glass_transitions': [{'value': '138', 'units': '°C'}]},\n",
       " {'names': ['PBDTTPD'], 'roles': ['data for']}]"
      ]
     },
     "execution_count": 32,
     "metadata": {},
     "output_type": "execute_result"
=======
   "execution_count": 24,
   "metadata": {},
   "outputs": [
    {
     "name": "stderr",
     "output_type": "stream",
     "text": [
      "D:\\Anaconda\\envs\\MATenv\\lib\\site-packages\\ipykernel_launcher.py:1: ParserWarning: Falling back to the 'python' engine because the 'c' engine does not support regex separators (separators > 1 char and different from '\\s+' are interpreted as regex); you can avoid this warning by specifying engine='python'.\n",
      "  \"\"\"Entry point for launching an IPython kernel.\n"
     ]
    }
   ],
   "source": [
    "test = pd.read_csv('../test_articles/test.csv',sep='\\t',delimiter='\\\\t')\n",
    "test_pce = test['PCE_ave']\n",
    "test_ff = test['FF']\n",
    "test_voc = test['Voc (V)']"
   ]
  },
  {
   "cell_type": "code",
   "execution_count": 25,
   "metadata": {
    "scrolled": false
   },
   "outputs": [
    {
     "ename": "IndexError",
     "evalue": "list index out of range",
     "output_type": "error",
     "traceback": [
      "\u001b[1;31m---------------------------------------------------------------------------\u001b[0m",
      "\u001b[1;31mIndexError\u001b[0m                                Traceback (most recent call last)",
      "\u001b[1;32m<ipython-input-25-548b8a9cfbca>\u001b[0m in \u001b[0;36m<module>\u001b[1;34m\u001b[0m\n\u001b[1;32m----> 1\u001b[1;33m \u001b[0mabstract_doc\u001b[0m \u001b[1;33m=\u001b[0m \u001b[0mdoc\u001b[0m\u001b[1;33m.\u001b[0m\u001b[0melements\u001b[0m\u001b[1;33m[\u001b[0m\u001b[1;36m11\u001b[0m\u001b[1;33m]\u001b[0m\u001b[1;33m\u001b[0m\u001b[1;33m\u001b[0m\u001b[0m\n\u001b[0m\u001b[0;32m      2\u001b[0m \u001b[0mabstract1_doc\u001b[0m \u001b[1;33m=\u001b[0m \u001b[0mdoc1\u001b[0m\u001b[1;33m.\u001b[0m\u001b[0melements\u001b[0m\u001b[1;33m[\u001b[0m\u001b[1;36m7\u001b[0m\u001b[1;33m]\u001b[0m \u001b[1;33m+\u001b[0m \u001b[0mdoc1\u001b[0m\u001b[1;33m.\u001b[0m\u001b[0melements\u001b[0m\u001b[1;33m[\u001b[0m\u001b[1;36m8\u001b[0m\u001b[1;33m]\u001b[0m\u001b[1;33m\u001b[0m\u001b[1;33m\u001b[0m\u001b[0m\n\u001b[0;32m      3\u001b[0m \u001b[0mabstract2_doc\u001b[0m \u001b[1;33m=\u001b[0m \u001b[0mdoc2\u001b[0m\u001b[1;33m.\u001b[0m\u001b[0melements\u001b[0m\u001b[1;33m[\u001b[0m\u001b[1;36m7\u001b[0m\u001b[1;33m]\u001b[0m \u001b[1;33m+\u001b[0m \u001b[0mdoc2\u001b[0m\u001b[1;33m.\u001b[0m\u001b[0melements\u001b[0m\u001b[1;33m[\u001b[0m\u001b[1;36m8\u001b[0m\u001b[1;33m]\u001b[0m\u001b[1;33m\u001b[0m\u001b[1;33m\u001b[0m\u001b[0m\n\u001b[0;32m      4\u001b[0m \u001b[0mabstract3_doc\u001b[0m \u001b[1;33m=\u001b[0m \u001b[0mdoc3\u001b[0m\u001b[1;33m.\u001b[0m\u001b[0melements\u001b[0m\u001b[1;33m[\u001b[0m\u001b[1;36m10\u001b[0m\u001b[1;33m]\u001b[0m\u001b[1;33m\u001b[0m\u001b[1;33m\u001b[0m\u001b[0m\n\u001b[0;32m      5\u001b[0m \u001b[0mabstract4_doc\u001b[0m \u001b[1;33m=\u001b[0m \u001b[0mdoc4\u001b[0m\u001b[1;33m.\u001b[0m\u001b[0melements\u001b[0m\u001b[1;33m[\u001b[0m\u001b[1;36m12\u001b[0m\u001b[1;33m]\u001b[0m\u001b[1;33m\u001b[0m\u001b[1;33m\u001b[0m\u001b[0m\n",
      "\u001b[1;31mIndexError\u001b[0m: list index out of range"
     ]
>>>>>>> 4ac0aa6255f7b2407e14e3d87e194b0b6c85ce02
    }
   ],
   "source": [
    "abstract_doc = doc.elements[11]\n",
    "abstract1_doc = doc1.elements[7] + doc1.elements[8]\n",
    "abstract2_doc = doc2.elements[7] + doc2.elements[8]\n",
    "abstract3_doc = doc3.elements[10]\n",
    "abstract4_doc = doc4.elements[12]\n",
    "abstract5_doc = doc5.elements[3] + doc5.elements[4]\n",
    "abstract6_doc = doc6.elements[5] + doc6.elements[6] + doc6.elements[7] + doc6.elements[8]\n",
    "abstract7_doc = doc7.elements[11]"
   ]
  },
  {
   "cell_type": "code",
   "execution_count": null,
   "metadata": {},
   "outputs": [],
   "source": [
    "# goes back to the doc in paper0\n",
    "abstract_doc = doc.elements[11]\n",
    "abstract_doc"
   ]
  },
  {
   "cell_type": "code",
   "execution_count": null,
   "metadata": {},
   "outputs": [],
   "source": [
    "doc = Document(\n",
    "    Heading(\"The followings are abstracts\"),\n",
    "    abstract_doc,\n",
    "    abstract1_doc,\n",
    "    abstract2_doc,\n",
    "    abstract3_doc,\n",
    "    abstract4_doc,\n",
    "    abstract5_doc,\n",
    "    abstract6_doc,\n",
    "    abstract7_doc\n",
    ")\n",
    "\n",
    "rec = doc.records.serialize()"
   ]
  },
  {
   "cell_type": "code",
   "execution_count": null,
   "metadata": {},
   "outputs": [],
   "source": [
    "rec"
   ]
  },
  {
   "cell_type": "markdown",
   "metadata": {},
   "source": [
    "| Paper          | PCE (real)   | PCE (found)  |\n",
    "| :------------- | :----------: | -----------: |\n",
    "| paper0         | 2.55,5.86    | 2.55, 5.86   |\n",
    "| paper1         | 5.52, 7.04   | 5.52, 1.76 (not exp), 6.3|\n",
    "| paper2         | 1.19, 0.79   | P1 and P2 problem|\n",
    "| paper3         | N/A          | no PCE reported in abst|\n",
    "| paper4         | 6.74, 4.44   | 6.74         |\n",
    "| paper5         | 1.33, None   | P1 and P2 problem |\n",
    "| paper6         | 0.22, 0.31,1.38 | 1.38      |\n",
    "| paper7         | 3.04, 1.91   | 1.91         |"
   ]
  },
  {
   "cell_type": "code",
   "execution_count": null,
   "metadata": {},
   "outputs": [],
   "source": []
  },
  {
   "cell_type": "code",
   "execution_count": null,
   "metadata": {},
   "outputs": [],
   "source": [
    "doc_form = Document(\n",
    "    Heading(\"The followings are abstracts\"),\n",
    "    doc,\n",
    "#     doc1,\n",
    "#     doc2,\n",
    "#     doc3,\n",
    "#     doc4,\n",
    "#     doc5,\n",
    "#     doc6,\n",
    "#     doc7\n",
    ")\n",
    "\n",
    "rec = doc_form.records.serialize()"
   ]
  },
  {
   "cell_type": "code",
   "execution_count": null,
   "metadata": {},
   "outputs": [],
   "source": [
    "rec"
   ]
  },
  {
   "cell_type": "code",
<<<<<<< HEAD
   "execution_count": 33,
=======
   "execution_count": null,
>>>>>>> 4ac0aa6255f7b2407e14e3d87e194b0b6c85ce02
   "metadata": {},
   "outputs": [],
   "source": [
    "import json"
   ]
  },
  {
   "cell_type": "code",
<<<<<<< HEAD
   "execution_count": 34,
=======
   "execution_count": null,
>>>>>>> 4ac0aa6255f7b2407e14e3d87e194b0b6c85ce02
   "metadata": {},
   "outputs": [],
   "source": [
    "with open(\"data_file.json\", \"w\") as write_file:\n",
    "    json.dump(rec, write_file)"
   ]
  },
  {
   "cell_type": "markdown",
   "metadata": {},
   "source": [
    "**Table Parser**"
   ]
  },
  {
   "cell_type": "markdown",
   "metadata": {},
   "source": [
    "Try samples on some xml files extracted before. We can utilize CDE's table parser in the scraper section. They have already included the "
   ]
  },
  {
   "cell_type": "code",
<<<<<<< HEAD
   "execution_count": 35,
=======
   "execution_count": null,
>>>>>>> 4ac0aa6255f7b2407e14e3d87e194b0b6c85ce02
   "metadata": {},
   "outputs": [],
   "source": [
    "from chemdataextractor import scrape as scrape"
   ]
  },
  {
   "cell_type": "code",
   "execution_count": null,
   "metadata": {},
   "outputs": [],
   "source": []
  },
  {
   "cell_type": "markdown",
   "metadata": {},
   "source": [
    "**Mol Parser**"
   ]
  },
  {
   "cell_type": "code",
   "execution_count": null,
   "metadata": {},
   "outputs": [],
   "source": []
  },
  {
   "cell_type": "markdown",
   "metadata": {},
   "source": [
    "Match problem"
   ]
  },
  {
   "cell_type": "code",
   "execution_count": 102,
   "metadata": {},
   "outputs": [],
<<<<<<< HEAD
=======
   "source": [
    "matching1pce = []\n",
    "matching1voc = []\n",
    "matching1jsc = []\n",
    "matching1ff = []\n",
    "\n",
    "for i in range(79):\n",
    "    rec = docs[i].records.serialize()\n",
    "    matchers_pce = ['pce_pattern']\n",
    "    matching_pce = [s for s in rec if any(xs in s for xs in matchers_pce)]\n",
    "    matching1pce.append(len(matching_pce))\n",
    "    matchers_voc = ['voc_pattern']\n",
    "    matching_voc = [s for s in rec if any(xs in s for xs in matchers_voc)]\n",
    "    matching1voc.append(len(matching_voc))\n",
    "    matchers_jsc = ['jsc_pattern']\n",
    "    matching_jsc = [s for s in rec if any(xs in s for xs in matchers_jsc)]\n",
    "    matching1jsc.append(len(matching_jsc))\n",
    "    matchers_ff = ['ff_pattern']\n",
    "    matching_ff = [s for s in rec if any(xs in s for xs in matchers_ff)]\n",
    "    matching1ff.append(len(matching_ff))\n",
    "    \n",
    "    \n",
    "    \n",
    "    \n",
    "    "
   ]
  },
  {
   "cell_type": "code",
   "execution_count": 106,
   "metadata": {},
   "outputs": [
    {
     "data": {
      "text/plain": [
       "[3,\n",
       " 1,\n",
       " 10,\n",
       " 3,\n",
       " 3,\n",
       " 3,\n",
       " 3,\n",
       " 3,\n",
       " 1,\n",
       " 1,\n",
       " 2,\n",
       " 4,\n",
       " 1,\n",
       " 1,\n",
       " 1,\n",
       " 4,\n",
       " 1,\n",
       " 5,\n",
       " 1,\n",
       " 4,\n",
       " 1,\n",
       " 3,\n",
       " 2,\n",
       " 1,\n",
       " 4,\n",
       " 1,\n",
       " 4,\n",
       " 5,\n",
       " 2,\n",
       " 3,\n",
       " 2,\n",
       " 2,\n",
       " 3,\n",
       " 3,\n",
       " 2,\n",
       " 3,\n",
       " 3,\n",
       " 3,\n",
       " 3,\n",
       " 4,\n",
       " 2,\n",
       " 4,\n",
       " 4,\n",
       " 5,\n",
       " 5,\n",
       " 1,\n",
       " 1,\n",
       " 1,\n",
       " 7,\n",
       " 4,\n",
       " 3,\n",
       " 4,\n",
       " 1,\n",
       " 4,\n",
       " 3,\n",
       " 2,\n",
       " 4,\n",
       " 4,\n",
       " 4,\n",
       " 5,\n",
       " 3,\n",
       " 3,\n",
       " 5,\n",
       " 2,\n",
       " 2,\n",
       " 3,\n",
       " 2,\n",
       " 4,\n",
       " 3,\n",
       " 2,\n",
       " 2,\n",
       " 9,\n",
       " 2,\n",
       " 2,\n",
       " 4,\n",
       " 4,\n",
       " 5,\n",
       " 3,\n",
       " 5]"
      ]
     },
     "execution_count": 106,
     "metadata": {},
     "output_type": "execute_result"
    }
   ],
   "source": [
    "matching1voc"
   ]
  },
  {
   "cell_type": "code",
   "execution_count": 71,
   "metadata": {},
   "outputs": [],
   "source": [
    "rec = docs[2].records.serialize()"
   ]
  },
  {
   "cell_type": "code",
   "execution_count": 72,
   "metadata": {
    "scrolled": true
   },
   "outputs": [
    {
     "data": {
      "text/plain": [
       "0"
      ]
     },
     "execution_count": 72,
     "metadata": {},
     "output_type": "execute_result"
    }
   ],
   "source": [
    "matchers_pce = ['pce_pattern']\n",
    "matching_pce = [s for s in rec if any(xs in s for xs in matchers_pce)]\n",
    "len(matching_pce)"
   ]
  },
  {
   "cell_type": "code",
   "execution_count": 73,
   "metadata": {},
   "outputs": [
    {
     "data": {
      "text/plain": [
       "1"
      ]
     },
     "execution_count": 73,
     "metadata": {},
     "output_type": "execute_result"
    }
   ],
   "source": [
    "matchers_voc = ['voc_pattern']\n",
    "matching_voc = [s for s in rec if any(xs in s for xs in matchers_voc)]\n",
    "len(matching_voc)"
   ]
  },
  {
   "cell_type": "code",
   "execution_count": 74,
   "metadata": {},
   "outputs": [
    {
     "data": {
      "text/plain": [
       "1"
      ]
     },
     "execution_count": 74,
     "metadata": {},
     "output_type": "execute_result"
    }
   ],
   "source": [
    "matchers_jsc = ['jsc_pattern']\n",
    "matching_jsc = [s for s in rec if any(xs in s for xs in matchers_jsc)]\n",
    "len(matching_jsc)"
   ]
  },
  {
   "cell_type": "code",
   "execution_count": 75,
   "metadata": {},
   "outputs": [
    {
     "data": {
      "text/plain": [
       "1"
      ]
     },
     "execution_count": 75,
     "metadata": {},
     "output_type": "execute_result"
    }
   ],
   "source": [
    "matchers_ff = ['ff_pattern']\n",
    "matching_ff = [s for s in rec if any(xs in s for xs in matchers_ff)]\n",
    "len(matching_ff)"
   ]
  },
  {
   "cell_type": "code",
   "execution_count": null,
   "metadata": {},
   "outputs": [],
   "source": []
  },
  {
   "cell_type": "code",
   "execution_count": 54,
   "metadata": {},
   "outputs": [
    {
     "data": {
      "text/plain": [
       "2"
      ]
     },
     "execution_count": 54,
     "metadata": {},
     "output_type": "execute_result"
    }
   ],
   "source": [
    "len(matching)"
   ]
  },
  {
   "cell_type": "code",
   "execution_count": 49,
   "metadata": {
    "scrolled": false
   },
   "outputs": [
    {
     "name": "stdout",
     "output_type": "stream",
     "text": [
      "[{'pce_pattern': [{'value': '5.6', 'units': '%'}]}, {'pce_pattern': [{'value': '5.30', 'units': '%'}]}]\n"
     ]
    }
   ],
   "source": [
    "aa = [ string for string in rec if \"pce_pattern\" in string]\n",
    "print(aa)"
   ]
  },
  {
   "cell_type": "code",
   "execution_count": 50,
   "metadata": {
    "scrolled": true
   },
   "outputs": [
    {
     "data": {
      "text/plain": [
       "2"
      ]
     },
     "execution_count": 50,
     "metadata": {},
     "output_type": "execute_result"
    }
   ],
   "source": [
    "len(aa)"
   ]
  },
  {
   "cell_type": "code",
   "execution_count": null,
   "metadata": {},
   "outputs": [],
   "source": []
  },
  {
   "cell_type": "code",
   "execution_count": null,
   "metadata": {},
   "outputs": [],
   "source": []
  },
  {
   "cell_type": "code",
   "execution_count": 42,
   "metadata": {},
   "outputs": [
    {
     "data": {
      "text/plain": [
       "4"
      ]
     },
     "execution_count": 42,
     "metadata": {},
     "output_type": "execute_result"
    }
   ],
   "source": [
    "list1 = ['pce_123', 'voc_123', 'def-234', 'pce-2365']\n",
    "len(list1)"
   ]
  },
  {
   "cell_type": "code",
   "execution_count": 37,
   "metadata": {},
   "outputs": [
    {
     "data": {
      "text/plain": [
       "[{'names': ['Si']},\n",
       " {'names': ['c o m / l o c a t e / o r g e l']},\n",
       " {'names': ['[6,6]-phe- nyl-C71-butyric acid methyl ester ( PC70BM )']},\n",
       " {'names': ['1,2-dichlorobenzene']},\n",
       " {'names': ['Fullerenes']},\n",
       " {'names': ['[6,6]-phenyl-C71-butyric acid methyl ester ( PC70BM )']},\n",
       " {'names': ['Tel']},\n",
       " {'names': ['cid : 3 ) 10 ( cid : 2)3 cm2 V(cid']},\n",
       " {'names': ['Poly(3,4-ethylenedioxy- thiophene )']},\n",
       " {'names': ['poly(sterenesulfonate)']},\n",
       " {'names': ['lithium ﬂuoride ( LiF )']},\n",
       " {'names': ['aluminium']},\n",
       " {'names': ['morphol-']},\n",
       " {'names': ['2 1 : 3 1 : 4']},\n",
       " {'names': ['AM1.5G']},\n",
       " {'names': ['LiF']},\n",
       " {'names': ['1.2-dichloro- benzene']},\n",
       " {'names': ['hetero-']},\n",
       " {'names': ['Macromol']},\n",
       " {'names': ['vinylene']},\n",
       " {'names': ['methanofullerene']},\n",
       " {'names': ['polyﬂuorene']},\n",
       " {'names': ['poly(3-hexylthiophene)']},\n",
       " {'names': ['hexylthiophene']},\n",
       " {'names': ['Li']},\n",
       " {'names': ['[6,6]-phenyl-C61-butyric acid methyl ester ( PC60BM )']},\n",
       " {'names': ['[3,4-]'], 'pce_pattern': [{'value': '1.6', 'units': '%'}]},\n",
       " {'names': ['indium tin oxide', 'ITO']},\n",
       " {'names': ['Al']},\n",
       " {'names': ['PC70BM']},\n",
       " {'names': ['PEDOT']},\n",
       " {'names': ['PCBM']},\n",
       " {'names': ['fullerene']},\n",
       " {'names': ['poly(2,7-carbazole)']},\n",
       " {'names': ['Carbazole', 'carbazole'],\n",
       "  'pce_pattern': [{'value': '6.1', 'units': '%'},\n",
       "   {'value': '3.2', 'units': '%'}]},\n",
       " {'names': ['silicon'],\n",
       "  'jsc_pattern': [{'value': '6.7', 'units': 'mA/cm2'},\n",
       "   {'value': '7.9', 'units': 'mA/cm2'},\n",
       "   {'value': '6.5', 'units': 'mA/cm2'}]},\n",
       " {'names': ['CHCl3']},\n",
       " {'names': ['chlorobenzene', 'CB']},\n",
       " {'names': ['chloroform']},\n",
       " {'names': ['diketopyrrolopyrrole', 'DPP']},\n",
       " {'names': ['PC60BM']},\n",
       " {'names': ['ODCB', '1,2-Orthodichloro- benzene'],\n",
       "  'voc_pattern': [{'value': '0.80', 'units': 'V'},\n",
       "   {'value': '0.79', 'units': 'Volt'}],\n",
       "  'jsc_pattern': [{'value': '8.6', 'units': 'mA/cm2'},\n",
       "   {'value': '4.8', 'units': 'mA/cm2'},\n",
       "   {'value': '6.8', 'units': 'mA/cm2'}],\n",
       "  'ff_pattern': [{'value': '47', 'units': '%'},\n",
       "   {'value': '35', 'units': '%'}]},\n",
       " {'names': ['poly[N-90-heptadecanyl- 2,7carbazole-alt-3,6-bis(thiophen-5-yl)-2,5-dioctyl-2,5-dihydropyrrolo[3,4-]pyrrole-1,4- dione ]',\n",
       "   'PCBTDPP']}]"
      ]
     },
     "execution_count": 37,
     "metadata": {},
     "output_type": "execute_result"
    }
   ],
   "source": [
    "rec"
   ]
  },
  {
   "cell_type": "code",
   "execution_count": null,
   "metadata": {},
   "outputs": [],
>>>>>>> 4ac0aa6255f7b2407e14e3d87e194b0b6c85ce02
   "source": []
  }
 ],
 "metadata": {
  "kernelspec": {
   "display_name": "Python 3",
   "language": "python",
   "name": "python3"
  },
  "language_info": {
   "codemirror_mode": {
    "name": "ipython",
    "version": 3
   },
   "file_extension": ".py",
   "mimetype": "text/x-python",
   "name": "python",
   "nbconvert_exporter": "python",
   "pygments_lexer": "ipython3",
   "version": "3.6.9"
  }
 },
 "nbformat": 4,
 "nbformat_minor": 2
}
