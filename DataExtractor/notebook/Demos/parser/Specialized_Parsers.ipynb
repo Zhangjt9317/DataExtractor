{
 "cells": [
  {
   "cell_type": "markdown",
   "metadata": {},
   "source": [
    "## Extracting Abstracts\n",
    "\n",
    "The problem is that we need to manually identify abstract location in articles instead of automatic extraction. "
   ]
  },
  {
   "cell_type": "code",
   "execution_count": 1,
   "metadata": {},
   "outputs": [],
   "source": [
    "import logging\n",
    "import re\n",
    "import pandas as pd\n",
    "import urllib\n",
    "import time\n",
    "\n",
    "import chemdataextractor as cde\n",
    "from chemdataextractor import Document\n",
    "from chemdataextractor.model import Compound, UvvisSpectrum, UvvisPeak, BaseModel, StringType, ListType, ModelType\n",
    "from chemdataextractor.parse.common import hyphen,lbrct, dt, rbrct\n",
    "from chemdataextractor.parse.base import BaseParser\n",
    "from chemdataextractor.utils import first\n",
    "\n",
    "from chemdataextractor.parse.actions import strip_stop, merge, join\n",
    "from chemdataextractor.parse.elements import W, I, T, R, Optional, ZeroOrMore, OneOrMore, Or, And\n",
    "from chemdataextractor.parse.cem import chemical_name,cem, chemical_label, lenient_chemical_label, solvent_name\n",
    "from chemdataextractor.doc import Paragraph, Sentence, Caption, Figure,Table, Heading\n",
    "from chemdataextractor.doc.table import Table, Cell"
   ]
  },
  {
   "cell_type": "code",
   "execution_count": 2,
   "metadata": {},
   "outputs": [],
   "source": [
    "from chemdataextractor.text.chem import SOLVENT_RE, INCHI_RE, SMILES_RE"
   ]
  },
  {
   "cell_type": "code",
   "execution_count": 3,
   "metadata": {},
   "outputs": [],
   "source": [
    "# open and read files\n",
    "f = open('../test_articles/paper0.pdf', 'rb')\n",
    "doc = Document.from_file(f)\n",
    "abstract = [11]\n",
    "paras = doc.elements\n",
    "cems = doc.cems\n",
    "\n",
    "f1 = open('../test_articles/paper1.pdf', 'rb')\n",
    "doc1 = Document.from_file(f1)\n",
    "abstract1 = [7,8]\n",
    "paras1 = doc1.elements\n",
    "cems1 = doc1.cems\n",
    "\n",
    "f2 = open('../test_articles/paper2.pdf', 'rb')\n",
    "doc2 = Document.from_file(f2)\n",
    "abstract2 = [7,8]\n",
    "paras2 = doc2.elements\n",
    "cems2 = doc2.cems\n",
    "\n",
    "f3 = open('../test_articles/paper3.pdf', 'rb')\n",
    "doc3 = Document.from_file(f3)\n",
    "abstract3 = [10]\n",
    "paras3 = doc3.elements\n",
    "cems3 = doc3.cems\n",
    "\n",
    "f4 = open('../test_articles/paper4.pdf', 'rb')\n",
    "doc4 = Document.from_file(f4)\n",
    "abstract4 = [12]\n",
    "paras4 = doc4.elements\n",
    "cems4 = doc4.cems\n",
    "\n",
    "f5 = open('../test_articles/paper5.pdf', 'rb')\n",
    "doc5 = Document.from_file(f5)\n",
    "abstract5 = [3,4]\n",
    "paras5 = doc5.elements\n",
    "cems5 = doc5.cems\n",
    "\n",
    "f6 = open('../test_articles/paper6.pdf', 'rb')\n",
    "doc6 = Document.from_file(f6)\n",
    "abstract6 = [5,6,7,8]\n",
    "paras6 = doc6.elements\n",
    "cems6 = doc6.cems\n",
    "\n",
    "f7 = open('../test_articles/paper7.pdf', 'rb')\n",
    "doc7 = Document.from_file(f7)\n",
    "abstract7 = [11]\n",
    "paras7 = doc7.elements\n",
    "cems7 = doc7.cems"
   ]
  },
  {
   "cell_type": "markdown",
   "metadata": {},
   "source": [
    "## Spealize PCE parsers"
   ]
  },
  {
   "cell_type": "code",
   "execution_count": 4,
   "metadata": {},
   "outputs": [
    {
     "ename": "NameError",
     "evalue": "name 'units' is not defined",
     "output_type": "error",
     "traceback": [
      "\u001b[1;31m---------------------------------------------------------------------------\u001b[0m",
      "\u001b[1;31mNameError\u001b[0m                                 Traceback (most recent call last)",
      "\u001b[1;32m<ipython-input-4-f0359a303a66>\u001b[0m in \u001b[0;36m<module>\u001b[1;34m\u001b[0m\n\u001b[0;32m      9\u001b[0m \u001b[0mhyphanated_pref\u001b[0m \u001b[1;33m=\u001b[0m \u001b[1;33m(\u001b[0m\u001b[0mI\u001b[0m\u001b[1;33m(\u001b[0m\u001b[1;34mu'power'\u001b[0m\u001b[1;33m)\u001b[0m \u001b[1;33m+\u001b[0m \u001b[0mI\u001b[0m\u001b[1;33m(\u001b[0m\u001b[1;34mu'-'\u001b[0m\u001b[1;33m)\u001b[0m \u001b[1;33m+\u001b[0m \u001b[0mI\u001b[0m\u001b[1;33m(\u001b[0m\u001b[1;34m'conversion'\u001b[0m\u001b[1;33m)\u001b[0m \u001b[1;33m+\u001b[0m \u001b[0mI\u001b[0m\u001b[1;33m(\u001b[0m\u001b[1;34mu'efficiency'\u001b[0m\u001b[1;33m)\u001b[0m\u001b[1;33m)\u001b[0m\u001b[1;33m.\u001b[0m\u001b[0mhide\u001b[0m\u001b[1;33m(\u001b[0m\u001b[1;33m)\u001b[0m\u001b[1;33m\u001b[0m\u001b[1;33m\u001b[0m\u001b[0m\n\u001b[0;32m     10\u001b[0m \u001b[0mjoined_range\u001b[0m \u001b[1;33m=\u001b[0m \u001b[0mR\u001b[0m\u001b[1;33m(\u001b[0m\u001b[1;34m'^[\\+\\-–−]?\\d+(\\.\\d+)?[\\-–−~∼˜]\\d+(\\.\\d+)?$'\u001b[0m\u001b[1;33m)\u001b[0m\u001b[1;33m(\u001b[0m\u001b[1;34m'value'\u001b[0m\u001b[1;33m)\u001b[0m\u001b[1;33m.\u001b[0m\u001b[0madd_action\u001b[0m\u001b[1;33m(\u001b[0m\u001b[0mmerge\u001b[0m\u001b[1;33m)\u001b[0m\u001b[1;33m\u001b[0m\u001b[1;33m\u001b[0m\u001b[0m\n\u001b[1;32m---> 11\u001b[1;33m spaced_range = (R('^[\\+\\-–−]?\\d+(\\.\\d+)?$') + Optional(units).hide() + (R('^[\\-–−~∼˜]$') +\n\u001b[0m\u001b[0;32m     12\u001b[0m                                                                         R('^[\\+\\-–−]?\\d+(\\.\\d+)?$') | R('^[\\+\\-–−]\\d+(\\.\\d+)?$')))('value').add_action(merge)\n\u001b[0;32m     13\u001b[0m to_range = (R('^[\\+\\-–−]?\\d+(\\.\\d+)?$') + Optional(units).hide() + (I('to') +\n",
      "\u001b[1;31mNameError\u001b[0m: name 'units' is not defined"
     ]
    }
   ],
   "source": [
    "class Pce(BaseModel):\n",
    "    value = StringType()\n",
    "    units = StringType()\n",
    "\n",
    "Compound.pce_pattern = ListType(ModelType(Pce))\n",
    "\n",
    "abbrv_prefix = (I(u'PCE') | I(u'PCEs') | I(u'pce')).hide()\n",
    "words_pref = (I(u'power') + I(u'conversion') + I(u'efficiency')).hide()\n",
    "hyphanated_pref = (I(u'power') + I(u'-') + I('conversion') + I(u'efficiency')).hide()\n",
    "joined_range = R('^[\\+\\-–−]?\\d+(\\.\\d+)?[\\-–−~∼˜]\\d+(\\.\\d+)?$')('value').add_action(merge)\n",
    "spaced_range = (R('^[\\+\\-–−]?\\d+(\\.\\d+)?$') + Optional(units).hide() + (R('^[\\-–−~∼˜]$') +\n",
    "                                                                        R('^[\\+\\-–−]?\\d+(\\.\\d+)?$') | R('^[\\+\\-–−]\\d+(\\.\\d+)?$')))('value').add_action(merge)\n",
    "to_range = (R('^[\\+\\-–−]?\\d+(\\.\\d+)?$') + Optional(units).hide() + (I('to') +\n",
    "                                                                    R('^[\\+\\-–−]?\\d+(\\.\\d+)?$') | R('^[\\+\\-–−]\\d+(\\.\\d+)?$')))('value').add_action(join)\n",
    "\n",
    "prefix = abbrv_prefix | words_pref | hyphanated_pref\n",
    "\n",
    "common_text = R('(\\w+)?\\D(\\D+)+(\\w+)?').hide()\n",
    "units = (W(u'%') | I(u'percent'))(u'units')\n",
    "value = R(u'\\d+(\\.\\d+)?')(u'value')\n",
    "\n",
    "# pce_first  = (words_pref + (Optional(lbrct) + abbrv_prefix + Optional(rbrct)) + ZeroOrMore(common_text) + value + units)(u'pce')\n",
    "\n",
    "pce_first = (prefix + ZeroOrMore(common_text) + value + units)(u'pce')\n",
    "pce_second = (value + units + prefix)(u'pce')\n",
    "pce_pattern = pce_first | pce_second\n",
    "\n",
    "class PceParser(BaseParser):\n",
    "    root = pce_pattern\n",
    "\n",
    "    def interpret(self, result, start, end):\n",
    "        compound = Compound(\n",
    "            pce_pattern=[\n",
    "                Pce(\n",
    "                    value=first(result.xpath('./value/text()')),\n",
    "                    units=first(result.xpath('./units/text()'))\n",
    "                )\n",
    "            ]\n",
    "        )\n",
    "        yield compound"
   ]
  },
  {
   "cell_type": "code",
   "execution_count": null,
   "metadata": {},
   "outputs": [],
   "source": [
    "doc = Document(\n",
    "#     Heading('5,10,15,20-Tetra(4-carboxyphenyl)porphyrin (3).'),\n",
    "#     Paragraph('a glass-transition temperature (Tg) of 20°C'),\n",
    "    Paragraph('open circuit voltage (voc) equal to 0.7 V'),\n",
    "    Paragraph('Voc of 0.8 V'),\n",
    "    Paragraph('open circuit voltage [voc] of 0.9 V'),\n",
    "    Paragraph('power conversion efficiency (pce) of 10 %'),\n",
    "    Paragraph('It has been found that PSHQ4 has a Tg of ca. 130°'),\n",
    "#     Paragraph('with the short-circuit current density (Jsc) of 12 mAcm-2'),\n",
    "#     Paragraph('material with a fill factor (ff) of 0.2'),\n",
    ")\n",
    "\n",
    "rec = doc.records.serialize()"
   ]
  },
  {
   "cell_type": "code",
   "execution_count": null,
   "metadata": {},
   "outputs": [],
   "source": [
    "rec"
   ]
  },
  {
   "cell_type": "code",
   "execution_count": null,
   "metadata": {},
   "outputs": [],
   "source": []
  },
  {
   "cell_type": "code",
   "execution_count": null,
   "metadata": {},
   "outputs": [],
   "source": []
  }
 ],
 "metadata": {
  "kernelspec": {
   "display_name": "Python 3",
   "language": "python",
   "name": "python3"
  },
  "language_info": {
   "codemirror_mode": {
    "name": "ipython",
    "version": 3
   },
   "file_extension": ".py",
   "mimetype": "text/x-python",
   "name": "python",
   "nbconvert_exporter": "python",
   "pygments_lexer": "ipython3",
   "version": "3.6.9"
  }
 },
 "nbformat": 4,
 "nbformat_minor": 2
}
