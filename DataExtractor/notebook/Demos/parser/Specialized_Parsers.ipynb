{
 "cells": [
  {
   "cell_type": "markdown",
   "metadata": {},
   "source": [
    "## Specializing Parsers Here\n",
    "\n",
    "Following the original code from CDE we can customize our parsers to great varieties. The \n",
    "\n"
   ]
  },
  {
   "cell_type": "code",
   "execution_count": 1,
   "metadata": {},
   "outputs": [],
   "source": [
    "import logging\n",
    "import re\n",
    "import pandas as pd\n",
    "import urllib\n",
    "import time\n",
    "\n",
    "import chemdataextractor as cde\n",
    "from chemdataextractor import Document\n",
    "from chemdataextractor.model import Compound, UvvisSpectrum, UvvisPeak, BaseModel, StringType, ListType, ModelType\n",
    "from chemdataextractor.parse.common import hyphen,lbrct, dt, rbrct\n",
    "from chemdataextractor.parse.base import BaseParser\n",
    "from chemdataextractor.utils import first\n",
    "\n",
    "from chemdataextractor.parse.actions import strip_stop, merge, join\n",
    "from chemdataextractor.parse.elements import W, I, T, R, Optional, ZeroOrMore, OneOrMore, Or, And, Not, Any\n",
    "from chemdataextractor.parse.cem import chemical_name,cem, chemical_label, lenient_chemical_label, solvent_name\n",
    "from chemdataextractor.doc import Paragraph, Sentence, Caption, Figure,Table, Heading\n",
    "from chemdataextractor.doc.table import Table, Cell"
   ]
  },
  {
   "cell_type": "code",
   "execution_count": 2,
   "metadata": {},
   "outputs": [],
   "source": [
    "from chemdataextractor.text.chem import SOLVENT_RE, INCHI_RE, SMILES_RE"
   ]
  },
  {
   "cell_type": "code",
   "execution_count": 3,
   "metadata": {},
   "outputs": [],
   "source": [
    "# open and read files\n",
    "f = open('../test_articles/paper0.pdf', 'rb')\n",
    "doc = Document.from_file(f)\n",
    "abstract = [11]\n",
    "paras = doc.elements\n",
    "cems = doc.cems\n",
    "\n",
    "f1 = open('../test_articles/paper1.pdf', 'rb')\n",
    "doc1 = Document.from_file(f1)\n",
    "abstract1 = [7,8]\n",
    "paras1 = doc1.elements\n",
    "cems1 = doc1.cems\n",
    "\n",
    "f2 = open('../test_articles/paper2.pdf', 'rb')\n",
    "doc2 = Document.from_file(f2)\n",
    "abstract2 = [7,8]\n",
    "paras2 = doc2.elements\n",
    "cems2 = doc2.cems\n",
    "\n",
    "f3 = open('../test_articles/paper3.pdf', 'rb')\n",
    "doc3 = Document.from_file(f3)\n",
    "abstract3 = [10]\n",
    "paras3 = doc3.elements\n",
    "cems3 = doc3.cems\n",
    "\n",
    "f4 = open('../test_articles/paper4.pdf', 'rb')\n",
    "doc4 = Document.from_file(f4)\n",
    "abstract4 = [12]\n",
    "paras4 = doc4.elements\n",
    "cems4 = doc4.cems\n",
    "\n",
    "f5 = open('../test_articles/paper5.pdf', 'rb')\n",
    "doc5 = Document.from_file(f5)\n",
    "abstract5 = [3,4]\n",
    "paras5 = doc5.elements\n",
    "cems5 = doc5.cems\n",
    "\n",
    "f6 = open('../test_articles/paper6.pdf', 'rb')\n",
    "doc6 = Document.from_file(f6)\n",
    "abstract6 = [5,6,7,8]\n",
    "paras6 = doc6.elements\n",
    "cems6 = doc6.cems\n",
    "\n",
    "f7 = open('../test_articles/paper7.pdf', 'rb')\n",
    "doc7 = Document.from_file(f7)\n",
    "abstract7 = [11]\n",
    "paras7 = doc7.elements\n",
    "cems7 = doc7.cems"
   ]
  },
  {
   "cell_type": "markdown",
   "metadata": {},
   "source": [
    "## Spealize PCE parsers\n",
    "\n",
    "In this case we customize the pce parser to test all different combinations of pce interpretations possible in the text / literature."
   ]
  },
  {
   "cell_type": "code",
   "execution_count": 4,
   "metadata": {},
   "outputs": [],
   "source": [
    "class Pce(BaseModel):\n",
    "    value = StringType()\n",
    "    units = StringType()\n",
    "\n",
    "Compound.pce_pattern = ListType(ModelType(Pce))\n",
    "\n",
    "# prefix = abbrv_prefix | words_pref | hyphanated_pref\n",
    "\n",
    "common_text = R('(\\w+)?\\D(\\D+)+(\\w+)?').hide()\n",
    "units = (W(u'%') | I(u'percent'))(u'units')\n",
    "value = R(u'\\d+(\\.\\d+)?')(u'value')\n",
    "\n",
    "abbrv_prefix = (I(u'PCE') | I(u'PCEs') | I(u'pce')).hide()\n",
    "words_pref = (I(u'power') + I(u'conversion') + I(u'efficiency')).hide()\n",
    "hyphanated_pref = (I(u'power') + I(u'-') + I('conversion') + I(u'efficiency')).hide()\n",
    "joined_range = R('^[\\+\\-–−]?\\d+(\\.\\d+)?[\\-–−~∼˜]\\d+(\\.\\d+)?$')('value').add_action(merge)\n",
    "spaced_range = (R('^[\\+\\-–−]?\\d+(\\.\\d+)?$') + Optional(units).hide() + (R('^[\\-–−~∼˜]$') +\n",
    "                                                                        R('^[\\+\\-–−]?\\d+(\\.\\d+)?$') | R('^[\\+\\-–−]\\d+(\\.\\d+)?$')))('value').add_action(merge)\n",
    "to_range = (R('^[\\+\\-–−]?\\d+(\\.\\d+)?$') + Optional(units).hide() + (I('to') +\n",
    "                                                                    R('^[\\+\\-–−]?\\d+(\\.\\d+)?$') | R('^[\\+\\-–−]\\d+(\\.\\d+)?$')))('value').add_action(join)\n",
    "\n",
    "prefix = Optional(I('a')).hide() + (Optional(lbrct) + W('PCE') + Optional(rbrct) | I('power') + Optional(I('conversion')) + Optional((I('efficiency') | I('range'))) + Optional((I('temperature') | I('range')))\n",
    "                                    ).hide() + Optional(lbrct + W('PCE') + rbrct) + Optional(W('=') | I('of') | I('was') | I('is') | I('at')).hide() + Optional(I('in') + I('the') + I('range') + Optional(I('of')) | I('about') | ('around') | I('%')).hide()\n",
    "\n",
    "pce_first  = (words_pref + (Optional(lbrct) + abbrv_prefix + Optional(rbrct)) + ZeroOrMore(common_text) + value + units)(u'pce')\n",
    "# pce_first = (prefix + ZeroOrMore(common_text) + value + units)(u'pce')\n",
    "pce_second = (prefix + value + units)(u'pce')\n",
    "pce_pattern = pce_first | pce_second\n",
    "\n",
    "class PceParser(BaseParser):\n",
    "    root = pce_pattern\n",
    "\n",
    "    def interpret(self, result, start, end):\n",
    "        compound = Compound(\n",
    "            pce_pattern=[\n",
    "                Pce(\n",
    "                    value=first(result.xpath('./value/text()')),\n",
    "                    units=first(result.xpath('./units/text()'))\n",
    "                )\n",
    "            ]\n",
    "        )\n",
    "        yield compound"
   ]
  },
  {
   "cell_type": "code",
   "execution_count": 5,
   "metadata": {},
   "outputs": [],
   "source": [
    "Sentence.parsers.append(PceParser())\n",
    "Paragraph.parsers.append(PceParser())"
   ]
  },
  {
   "cell_type": "code",
   "execution_count": 6,
   "metadata": {},
   "outputs": [],
   "source": [
    "doc = Document(\n",
    "    Paragraph(\"A pce of 10%\"),\n",
    "    Paragraph(\"A power-conversion efficiency (PCE) of 12%\"), # good enough for parsing\n",
    "    Paragraph(\"with the efficiency of 1%\"),\n",
    "    Paragraph(\"have the conversion efficiency of 10%\"),\n",
    "    Paragraph(\"power conversion efficiency [PCE] of 10^\")\n",
    ")\n",
    "\n",
    "rec = doc.records.serialize()"
   ]
  },
  {
   "cell_type": "code",
   "execution_count": 7,
   "metadata": {},
   "outputs": [
    {
     "data": {
      "text/plain": [
       "[{'pce_pattern': [{'value': '12', 'units': '%'}]}]"
      ]
     },
     "execution_count": 7,
     "metadata": {},
     "output_type": "execute_result"
    }
   ],
   "source": [
    "rec"
   ]
  },
  {
   "cell_type": "markdown",
   "metadata": {},
   "source": [
    "**Voc parsers**"
   ]
  },
  {
   "cell_type": "code",
   "execution_count": 8,
   "metadata": {},
   "outputs": [],
   "source": [
    "class Voc(BaseModel):\n",
    "    value = StringType()\n",
    "    units = StringType()\n",
    "\n",
    "Compound.voc_pattern = ListType(ModelType(Voc))\n",
    "\n",
    "common_text = R('(\\w+)?\\D(\\D+)+(\\w+)?').hide()\n",
    "units = (W(u'V') | I(u'v') | I(u'volt') | I(u'volts'))(u'units')\n",
    "value = R(u'\\d+(\\.\\d+)?')(u'value')\n",
    "\n",
    "abbrv_prefix = (I(u'Voc') | I(u'voc')).hide()\n",
    "words_pref = (I(u'open') + I(u'circuit') + I(u'voltage')).hide()\n",
    "hyphanated_pref = (I(u'open') + I(u'-') + I('circuit') + I(u'voltage')).hide()\n",
    "joined_range = R('^[\\+\\-–−]?\\d+(\\.\\d+)?[\\-–−~∼˜]\\d+(\\.\\d+)?$')('value').add_action(merge)\n",
    "spaced_range = (R('^[\\+\\-–−]?\\d+(\\.\\d+)?$') + Optional(units).hide() + (R('^[\\-–−~∼˜]$') +\n",
    "                                                                        R('^[\\+\\-–−]?\\d+(\\.\\d+)?$') | R('^[\\+\\-–−]\\d+(\\.\\d+)?$')))('value').add_action(merge)\n",
    "to_range = (R('^[\\+\\-–−]?\\d+(\\.\\d+)?$') + Optional(units).hide() + (I('to') +\n",
    "                                                                    R('^[\\+\\-–−]?\\d+(\\.\\d+)?$') | R('^[\\+\\-–−]\\d+(\\.\\d+)?$')))('value').add_action(join)\n",
    "\n",
    "prefix = Optional(I('a')).hide() + (Optional(lbrct) + W('Voc') + Optional(rbrct) | I('open') + Optional(I('circuit')) + Optional((I('voltage')))\n",
    "                                    ).hide() + Optional(lbrct + W('Voc') + rbrct) + Optional(W('=') | I('of') | I('was') | I('is') | I('at')).hide() + Optional(I('in') + I('the') + I('range') + Optional(I('of')) | I('about') | ('around') | I('V')).hide()\n",
    "\n",
    "voc_first  = (words_pref + (Optional(lbrct) + abbrv_prefix + Optional(rbrct)) + ZeroOrMore(common_text) + value + units)(u'voc')\n",
    "voc_second = (prefix + value + units)(u'voc')\n",
    "voc_pattern = voc_first | voc_second\n",
    "\n",
    "class VocParser(BaseParser):\n",
    "    root = voc_pattern\n",
    "\n",
    "    def interpret(self, result, start, end):\n",
    "        compound = Compound(\n",
    "            voc_pattern=[\n",
    "                Voc(\n",
    "                    value=first(result.xpath('./value/text()')),\n",
    "                    units=first(result.xpath('./units/text()'))\n",
    "                )\n",
    "            ]\n",
    "        )\n",
    "        yield compound"
   ]
  },
  {
   "cell_type": "code",
   "execution_count": 9,
   "metadata": {},
   "outputs": [],
   "source": [
    "Sentence.parsers.append(VocParser())\n",
    "Paragraph.parsers.append(VocParser())"
   ]
  },
  {
   "cell_type": "code",
   "execution_count": 10,
   "metadata": {},
   "outputs": [],
   "source": [
    "doc = Document(\n",
    "    Paragraph(\"A open-circuit voltage of 12 volt\"),\n",
    "    Paragraph(\"A open-circuit voltage (Voc) of 144 V\"),\n",
    "    Paragraph(\"A Voc of 22 V\"),\n",
    ")\n",
    "\n",
    "rec = doc.records.serialize()"
   ]
  },
  {
   "cell_type": "code",
   "execution_count": 11,
   "metadata": {},
   "outputs": [
    {
     "data": {
      "text/plain": [
       "[{'voc_pattern': [{'value': '144', 'units': 'V'}]},\n",
       " {'voc_pattern': [{'value': '22', 'units': 'V'}]}]"
      ]
     },
     "execution_count": 11,
     "metadata": {},
     "output_type": "execute_result"
    }
   ],
   "source": [
    "rec"
   ]
  },
  {
   "cell_type": "markdown",
   "metadata": {},
   "source": [
    "**Jsc Parser**"
   ]
  },
  {
   "cell_type": "code",
   "execution_count": 40,
   "metadata": {},
   "outputs": [],
   "source": [
    "class Jsc(BaseModel):\n",
    "    value = StringType()\n",
    "    units = StringType()\n",
    "\n",
    "Compound.jsc_pattern = ListType(ModelType(Jsc))\n",
    "\n",
    "common_text = R('(\\w+)?\\D(\\D+)+(\\w+)?').hide()\n",
    "\n",
    "# delim = R('^[;:,\\./]$').hide()\n",
    "\n",
    "units = Optional(W('/')).hide() + (\n",
    "    R('^\\[?mAcm[-–−‒]?2\\]?$') |\n",
    "    W('mAcm') + R('^[-–−‒]$') + W('2') | \n",
    "    R('^\\[?mA\\/cm2\\]?$') | \n",
    "    W('mA') + W('^\\/?$') + W('cm') +  W('2')\n",
    ")('units').add_action(merge)\n",
    "\n",
    "value = R(u'\\d+(\\.\\d+)?')(u'value')\n",
    "\n",
    "abbrv_prefix = (I(u'Jsc') | I(u'jsc')).hide()\n",
    "words_pref = (I(u'short') + I(u'circuit') + I(u'current') + I(u'density')).hide()\n",
    "hyphanated_pref = (I(u'short') + I(u'-') + I('circuit') + I(u'current') + I(u'density')).hide()\n",
    "joined_range = R('^[\\+\\-–−]?\\d+(\\.\\d+)?[\\-–−~∼˜]\\d+(\\.\\d+)?$')('value').add_action(merge)\n",
    "spaced_range = (R('^[\\+\\-–−]?\\d+(\\.\\d+)?$') + Optional(units).hide() + (R('^[\\-–−~∼˜]$') +\n",
    "                                                                        R('^[\\+\\-–−]?\\d+(\\.\\d+)?$') | R('^[\\+\\-–−]\\d+(\\.\\d+)?$')))('value').add_action(merge)\n",
    "to_range = (R('^[\\+\\-–−]?\\d+(\\.\\d+)?$') + Optional(units).hide() + (I('to') +\n",
    "                                                                    R('^[\\+\\-–−]?\\d+(\\.\\d+)?$') | R('^[\\+\\-–−]\\d+(\\.\\d+)?$')))('value').add_action(join)\n",
    "\n",
    "prefix = Optional(I('a')).hide() + (Optional(lbrct) + W('Jsc') + Optional(rbrct) | I('short') + Optional(I('circuit')) + Optional((I('current'))) + Optional(I('density'))\n",
    "                                    ).hide() + Optional(lbrct + W('Jsc') + rbrct) + Optional(W('=') | I('of') | I('was') | I('is') | I('at')).hide() + Optional(I('in') + I('the') + I('range') + Optional(I('of')) | I('about') | ('around') | I('mAcm-2') | I('mA/cm2')).hide()\n",
    "\n",
    "jsc_first  = (words_pref + (Optional(lbrct) + abbrv_prefix + Optional(rbrct)) + ZeroOrMore(common_text) + value + units)(u'jsc')\n",
    "jsc_second = (prefix + value + units)(u'jsc')\n",
    "jsc_pattern = jsc_first | jsc_second\n",
    "\n",
    "class JscParser(BaseParser):\n",
    "    root = jsc_pattern\n",
    "\n",
    "    def interpret(self, result, start, end):\n",
    "        compound = Compound(\n",
    "            jsc_pattern=[\n",
    "                Jsc(\n",
    "                    value=first(result.xpath('./value/text()')),\n",
    "                    units=first(result.xpath('./units/text()'))\n",
    "                )\n",
    "            ]\n",
    "        )\n",
    "        yield compound"
   ]
  },
  {
   "cell_type": "code",
   "execution_count": 41,
   "metadata": {},
   "outputs": [],
   "source": [
    "Sentence.parsers.append(JscParser())\n",
    "Paragraph.parsers.append(JscParser())"
   ]
  },
  {
   "cell_type": "code",
   "execution_count": 42,
   "metadata": {},
   "outputs": [],
   "source": [
    "doc = Document(\n",
    "    Paragraph(\"A short-circuit current density (Jsc) of 12 mAcm-2\"),\n",
    "    Paragraph(\"A Jsc of 11 mA/cm2\"),\n",
    "    Paragraph(\"A short-circuit current density (Jsc) of 10 mAcm-2\"),\n",
    ")\n",
    "\n",
    "rec = doc.records.serialize()"
   ]
  },
  {
   "cell_type": "code",
   "execution_count": 43,
   "metadata": {},
   "outputs": [
    {
     "data": {
      "text/plain": [
       "[{'jsc_pattern': [{'value': '12', 'units': 'mAcm-2'}]},\n",
       " {'jsc_pattern': [{'value': '10', 'units': 'mAcm-2'}]}]"
      ]
     },
     "execution_count": 43,
     "metadata": {},
     "output_type": "execute_result"
    }
   ],
   "source": [
    "rec"
   ]
  },
  {
   "cell_type": "markdown",
   "metadata": {},
   "source": [
    "**Thickness Parser**"
   ]
  },
  {
   "cell_type": "code",
   "execution_count": null,
   "metadata": {},
   "outputs": [],
   "source": []
  },
  {
   "cell_type": "code",
   "execution_count": null,
   "metadata": {},
   "outputs": [],
   "source": []
  },
  {
   "cell_type": "code",
   "execution_count": null,
   "metadata": {},
   "outputs": [],
   "source": []
  },
  {
   "cell_type": "code",
   "execution_count": null,
   "metadata": {},
   "outputs": [],
   "source": []
  },
  {
   "cell_type": "code",
   "execution_count": null,
   "metadata": {},
   "outputs": [],
   "source": []
  },
  {
   "cell_type": "markdown",
   "metadata": {},
   "source": [
    "**Table Parser**"
   ]
  },
  {
   "cell_type": "code",
   "execution_count": null,
   "metadata": {},
   "outputs": [],
   "source": []
  },
  {
   "cell_type": "code",
   "execution_count": null,
   "metadata": {},
   "outputs": [],
   "source": []
  },
  {
   "cell_type": "code",
   "execution_count": null,
   "metadata": {},
   "outputs": [],
   "source": []
  },
  {
   "cell_type": "code",
   "execution_count": null,
   "metadata": {},
   "outputs": [],
   "source": []
  },
  {
   "cell_type": "code",
   "execution_count": null,
   "metadata": {},
   "outputs": [],
   "source": []
  },
  {
   "cell_type": "markdown",
   "metadata": {},
   "source": [
    "**Mol Parser**"
   ]
  },
  {
   "cell_type": "code",
   "execution_count": null,
   "metadata": {},
   "outputs": [],
   "source": []
  },
  {
   "cell_type": "code",
   "execution_count": null,
   "metadata": {},
   "outputs": [],
   "source": []
  },
  {
   "cell_type": "code",
   "execution_count": null,
   "metadata": {},
   "outputs": [],
   "source": []
  },
  {
   "cell_type": "code",
   "execution_count": null,
   "metadata": {},
   "outputs": [],
   "source": []
  },
  {
   "cell_type": "code",
   "execution_count": null,
   "metadata": {},
   "outputs": [],
   "source": []
  },
  {
   "cell_type": "code",
   "execution_count": null,
   "metadata": {},
   "outputs": [],
   "source": []
  }
 ],
 "metadata": {
  "kernelspec": {
   "display_name": "Python 3",
   "language": "python",
   "name": "python3"
  },
  "language_info": {
   "codemirror_mode": {
    "name": "ipython",
    "version": 3
   },
   "file_extension": ".py",
   "mimetype": "text/x-python",
   "name": "python",
   "nbconvert_exporter": "python",
   "pygments_lexer": "ipython3",
   "version": "3.6.9"
  }
 },
 "nbformat": 4,
 "nbformat_minor": 2
}
